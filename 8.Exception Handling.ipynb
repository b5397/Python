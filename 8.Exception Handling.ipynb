{
 "cells": [
  {
   "cell_type": "markdown",
   "metadata": {},
   "source": [
    ">Exception is an abnormal condition in a program.\n",
    "\n",
    ">It is a run time error.\n",
    "\n",
    ">If we raise an exception, we can prevent the program from crashing."
   ]
  },
  {
   "cell_type": "markdown",
   "metadata": {},
   "source": [
    "`Built-in Exceptions for Python`\n",
    "--\n",
    "\n",
    "Exception - Base class for all exceptions\n",
    "\n",
    "ArithmeticError - numeric caluclations\n",
    "\n",
    "OverflowError - maximum limit for numeric type\n",
    "\n",
    "ZeroDivisionError - divide by zero\n",
    "\n",
    "ImportError - when import fails\n",
    "\n",
    "KeyboardInterrupt - usually when the user interrupts the program execution by pressing Ctrl+c\n",
    "\n",
    "IndexError - index not found in the sequence\n",
    "\n",
    "KeyError - key not found in the sequence\n",
    "\n",
    "OSError - OS related errors\n",
    "\n",
    "ValueError, TypeError and so on."
   ]
  },
  {
   "cell_type": "code",
   "execution_count": 1,
   "metadata": {},
   "outputs": [
    {
     "name": "stdout",
     "output_type": "stream",
     "text": [
      "Enter 1st number:7\n",
      "Enter 2nd number:8\n",
      "Division of a= 7.0 and b= 8.0 is c= 0.88\n"
     ]
    }
   ],
   "source": [
    "a=float(input(\"Enter 1st number:\"))\n",
    "b=float(input(\"Enter 2nd number:\"))\n",
    "c=a/b\n",
    "print(\"Division of a=\",a,\"and b=\",b,\"is c=\",round(c,2))"
   ]
  },
  {
   "cell_type": "markdown",
   "metadata": {},
   "source": [
    "`try_except`\n",
    "--"
   ]
  },
  {
   "cell_type": "code",
   "execution_count": null,
   "metadata": {},
   "outputs": [],
   "source": [
    "from IPython import display\n",
    "display.Image (\"./try_except.png\")"
   ]
  },
  {
   "cell_type": "code",
   "execution_count": null,
   "metadata": {
    "scrolled": true
   },
   "outputs": [],
   "source": [
    "try:\n",
    "    x = 1/0\n",
    "except:\n",
    "    print('Something went wrong.')\n",
    "# Prints Something went wrong."
   ]
  },
  {
   "cell_type": "code",
   "execution_count": null,
   "metadata": {},
   "outputs": [],
   "source": [
    "def this_fails():\n",
    "    x = 1/0\n",
    "\n",
    "try:\n",
    "    this_fails()\n",
    "except Exception as e:\n",
    "    print(e)\n",
    "# Prints division by zero"
   ]
  },
  {
   "cell_type": "code",
   "execution_count": null,
   "metadata": {},
   "outputs": [],
   "source": [
    "while True:\n",
    "    try:\n",
    "        a=float(input(\"Enter 1st number:\"))\n",
    "        b=float(input(\"Enter 2nd number:\"))\n",
    "        c=a/b\n",
    "        print(\"Division of a=\",a,\"and b=\",b,\"is c=\",round(c,2))\n",
    "        break\n",
    "    except Exception:\n",
    "        print(\"Something is wrong. Please try again.\")"
   ]
  },
  {
   "cell_type": "code",
   "execution_count": null,
   "metadata": {},
   "outputs": [],
   "source": [
    "while True:\n",
    "    try:\n",
    "        a=float(input(\"Enter 1st number:\"))\n",
    "        b=float(input(\"Enter 2nd number:\"))\n",
    "        c=a/b\n",
    "        print(\"Division of a=\",a,\"and b=\",b,\"is c=\",round(c,2))\n",
    "        break\n",
    "    except ZeroDivisionError:\n",
    "        print(\"2nd input cannot be zero. Please try again.\")\n",
    "    except ValueError:\n",
    "        print(\"Input must be a number. Please try again.\")"
   ]
  },
  {
   "cell_type": "markdown",
   "metadata": {},
   "source": [
    "`Catch Multiple Exceptions`\n",
    "--\n",
    "You can define as many except blocks as you want, to catch and handle specific exceptions."
   ]
  },
  {
   "cell_type": "code",
   "execution_count": null,
   "metadata": {},
   "outputs": [],
   "source": [
    "# Print one message for ZeroDivisionError and another for all other errors\n",
    "try:\n",
    "\tx = 1/0\n",
    "except ZeroDivisionError:\n",
    "\tprint('Attempt to divide by zero')\n",
    "except:\n",
    "\tprint('Something else went wrong')\n",
    "# Prints Attempt to divide by zero"
   ]
  },
  {
   "cell_type": "code",
   "execution_count": null,
   "metadata": {},
   "outputs": [],
   "source": [
    "# Execute same block of code for multiple exceptions\n",
    "try:\n",
    "    x = 1/0\n",
    "except (ZeroDivisionError, ValueError):\n",
    "    print('ZeroDivisionError or ValueError is raised')\n",
    "except:\n",
    "    print('Something else went wrong')\n",
    "# Prints ZeroDivisionError or ValueError is raised"
   ]
  },
  {
   "cell_type": "markdown",
   "metadata": {},
   "source": [
    "**********************************************************************************************************************************"
   ]
  },
  {
   "cell_type": "markdown",
   "metadata": {},
   "source": [
    "`try_except_else`\n",
    "--"
   ]
  },
  {
   "cell_type": "code",
   "execution_count": null,
   "metadata": {},
   "outputs": [],
   "source": [
    "from IPython import display\n",
    "display.Image (\"./try_except_else.png\")"
   ]
  },
  {
   "cell_type": "code",
   "execution_count": null,
   "metadata": {},
   "outputs": [],
   "source": [
    "try:\n",
    "    x = 1/1\n",
    "except:\n",
    "    print('Something went wrong')\n",
    "else:\n",
    "    print('Nothing went wrong')\n",
    "# Prints Nothing went wrong"
   ]
  },
  {
   "cell_type": "code",
   "execution_count": null,
   "metadata": {},
   "outputs": [],
   "source": [
    "    try:\n",
    "        a=float(input(\"Enter 1st number:\"))\n",
    "        b=float(input(\"Enter 2nd number:\"))\n",
    "        c=a/b\n",
    "    except ZeroDivisionError:\n",
    "        print(\"2nd input cannot be zero. Please try again.\")\n",
    "    except ValueError:\n",
    "        print(\"Input must be a number. Please try again.\")\n",
    "    else:\n",
    "        print(\"Division of a=\",a,\"and b=\",b,\"is c=\",round(c,2))"
   ]
  },
  {
   "cell_type": "code",
   "execution_count": null,
   "metadata": {},
   "outputs": [],
   "source": [
    "while True:\n",
    "    try:\n",
    "        a=float(input(\"Enter 1st number:\"))\n",
    "        b=float(input(\"Enter 2nd number:\"))\n",
    "        c=a/b\n",
    "    except ZeroDivisionError:\n",
    "        print(\"2nd input cannot be zero. Please try again.\")\n",
    "    except ValueError:\n",
    "        print(\"Input must be a number. Please try again.\")\n",
    "    except Exception:\n",
    "        print(\"Something is wrong. Please try again.\")\n",
    "    else:\n",
    "        print(\"Division of a=\",a,\"and b=\",b,\"is c=\",round(c,2))\n",
    "        break"
   ]
  },
  {
   "cell_type": "code",
   "execution_count": null,
   "metadata": {},
   "outputs": [],
   "source": [
    "try:\n",
    "    x=int(input(\"Enter a no: \"))\n",
    "    ans=100/x\n",
    "except ValueError:\n",
    "    print(\"Value is not int type\")\n",
    "except ZeroDivisionError:\n",
    "    print(\"Dont use a zero.\")\n",
    "else:\n",
    "    print(\"Answer is: \",ans)"
   ]
  },
  {
   "cell_type": "markdown",
   "metadata": {},
   "source": [
    "`except with multiple attributes`\n",
    "--"
   ]
  },
  {
   "cell_type": "code",
   "execution_count": null,
   "metadata": {},
   "outputs": [],
   "source": [
    "try:\n",
    "    x=int(input(\"Enter a no: \"))\n",
    "    ans=100/x\n",
    "except (ValueError,ZeroDivisionError):\n",
    "    print(\"Something is wrong. Please try again\")\n",
    "else:\n",
    "    print(\"Answer is: \",ans)"
   ]
  },
  {
   "cell_type": "markdown",
   "metadata": {},
   "source": [
    "********************************************************************************************************************************"
   ]
  },
  {
   "cell_type": "markdown",
   "metadata": {},
   "source": [
    "`The Finally Clause`\n",
    "--\n",
    "The try…except block has another optional finally clause.\n",
    "\n",
    "A finally clause is always executed, whether an exception has occurred or not."
   ]
  },
  {
   "cell_type": "code",
   "execution_count": null,
   "metadata": {},
   "outputs": [],
   "source": [
    "from IPython import display\n",
    "display.Image (\"./try_except_else_finally.png\")"
   ]
  },
  {
   "cell_type": "code",
   "execution_count": null,
   "metadata": {},
   "outputs": [],
   "source": [
    "# finally clause is always executed\n",
    "try:\n",
    "\tx = 1/0\n",
    "except:\n",
    "\tprint('Something went wrong')\n",
    "finally:\n",
    "\tprint('Always execute this')\n",
    "# Prints Something went wrong\n",
    "# Prints Always execute this"
   ]
  },
  {
   "cell_type": "markdown",
   "metadata": {},
   "source": [
    "* Use finally clause to define clean-up actions that must be executed under all circumstances e.g. closing a file."
   ]
  },
  {
   "cell_type": "code",
   "execution_count": null,
   "metadata": {},
   "outputs": [],
   "source": [
    "# Exception handling during file manipulation\n",
    "f = open('myfile.txt')\n",
    "try:\n",
    "\tprint(f.read())\n",
    "except:\n",
    "\tprint(\"Something went wrong\")\n",
    "finally:\n",
    "\tf. close()"
   ]
  },
  {
   "cell_type": "code",
   "execution_count": null,
   "metadata": {},
   "outputs": [],
   "source": [
    "try:\n",
    "    x=int(input(\"Enter a no: \"))\n",
    "    ans=100/x\n",
    "except ValueError:\n",
    "    print(\"Value is not int type\")\n",
    "except ZeroDivisionError:\n",
    "    print(\"Dont use a zero.\")\n",
    "else:\n",
    "    print(\"Answer is: \",ans)\n",
    "finally:\n",
    "    print(\"End of Program.\")\n",
    "    print(\"By hook or crook, I will be executed for sure.\")"
   ]
  },
  {
   "cell_type": "markdown",
   "metadata": {},
   "source": [
    "`finally with multiple except`\n",
    "--"
   ]
  },
  {
   "cell_type": "code",
   "execution_count": null,
   "metadata": {},
   "outputs": [],
   "source": [
    "try:\n",
    "    x=int(input(\"Enter a no: \"))\n",
    "    ans=100/x\n",
    "except (ValueError,ZeroDivisionError):\n",
    "    print(\"Something is wrong. Please try again\")\n",
    "else:\n",
    "    print(\"Answer is: \",ans)\n",
    "finally:\n",
    "    print(\"End of Program.\")\n",
    "    print(\"By hook or crook, I will be executed for sure.\")"
   ]
  },
  {
   "cell_type": "markdown",
   "metadata": {},
   "source": [
    "`raising exceptions`\n",
    "--"
   ]
  },
  {
   "cell_type": "code",
   "execution_count": null,
   "metadata": {},
   "outputs": [],
   "source": [
    "val = int(input(\"Enter a number:\"))\n",
    "try:\n",
    "    if val==2:\n",
    "        raise IOError\n",
    "    else:\n",
    "        print(\"Value is not 2\")\n",
    "except IOError:\n",
    "    print(\"An IO Exception is raised\")"
   ]
  },
  {
   "cell_type": "markdown",
   "metadata": {},
   "source": [
    "`exception with arguments`\n",
    "--"
   ]
  },
  {
   "cell_type": "code",
   "execution_count": null,
   "metadata": {},
   "outputs": [],
   "source": [
    "try:\n",
    "    x=int(input(\"Enter a no: \"))\n",
    "    ans=100/x\n",
    "except Exception as e:\n",
    "    print(\"Exception caught is:\",e)\n",
    "    print(\"Type of the exception which is caught is:\",type(e))\n",
    "else:\n",
    "    print(\"Answer is: \",ans)"
   ]
  },
  {
   "cell_type": "markdown",
   "metadata": {},
   "source": [
    "`End of this Module`\n",
    "--"
   ]
  }
 ],
 "metadata": {
  "kernelspec": {
   "display_name": "Python 3",
   "language": "python",
   "name": "python3"
  },
  "language_info": {
   "codemirror_mode": {
    "name": "ipython",
    "version": 3
   },
   "file_extension": ".py",
   "mimetype": "text/x-python",
   "name": "python",
   "nbconvert_exporter": "python",
   "pygments_lexer": "ipython3",
   "version": "3.8.8"
  },
  "toc": {
   "base_numbering": 1,
   "nav_menu": {},
   "number_sections": true,
   "sideBar": true,
   "skip_h1_title": false,
   "title_cell": "Table of Contents",
   "title_sidebar": "Contents",
   "toc_cell": false,
   "toc_position": {},
   "toc_section_display": true,
   "toc_window_display": false
  }
 },
 "nbformat": 4,
 "nbformat_minor": 2
}
