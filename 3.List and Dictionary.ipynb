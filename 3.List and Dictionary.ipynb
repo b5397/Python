{
 "cells": [
  {
   "cell_type": "markdown",
   "id": "ae2514db",
   "metadata": {},
   "source": [
    "`Python List`\n",
    "--"
   ]
  },
  {
   "cell_type": "markdown",
   "id": "532f777e",
   "metadata": {},
   "source": [
    "A list is a sequence of values (similar to an array in other programming languages but more versatile)\n",
    "\n",
    "The values in a list are called items or sometimes elements.\n",
    "\n",
    "The important properties of Python lists are as follows:\n",
    "\n",
    "* Lists are ordered – Lists remember the order of items inserted.\n",
    "* Accessed by index – Items in a list can be accessed using an index.\n",
    "* Lists can contain any sort of object – It can be numbers, strings, tuples and even other lists.\n",
    "* Lists are changeable (mutable) – You can change a list in-place, add new items, and delete or update existing items."
   ]
  },
  {
   "cell_type": "markdown",
   "id": "aca68e06",
   "metadata": {},
   "source": [
    "`Create a List`\n",
    "\n",
    "There are several ways to create a new list; the simplest is to enclose the values in square brackets []"
   ]
  },
  {
   "cell_type": "code",
   "execution_count": 11,
   "id": "9b9e171c",
   "metadata": {},
   "outputs": [
    {
     "data": {
      "text/plain": [
       "['red', 'green', 'blue']"
      ]
     },
     "execution_count": 11,
     "metadata": {},
     "output_type": "execute_result"
    }
   ],
   "source": [
    "# A list of integers\n",
    "L = [1, 2, 3]\n",
    "L\n",
    "# A list of strings\n",
    "L = ['red', 'green', 'blue']\n",
    "L"
   ]
  },
  {
   "cell_type": "code",
   "execution_count": 12,
   "id": "f3a0e591",
   "metadata": {},
   "outputs": [
    {
     "data": {
      "text/plain": [
       "[1, 'abc', 1.23, (3+4j), True]"
      ]
     },
     "execution_count": 12,
     "metadata": {},
     "output_type": "execute_result"
    }
   ],
   "source": [
    "# A list of mixed datatypes\n",
    "L = [ 1, 'abc', 1.23, (3+4j), True]\n",
    "L"
   ]
  },
  {
   "cell_type": "code",
   "execution_count": 14,
   "id": "35459045",
   "metadata": {},
   "outputs": [
    {
     "data": {
      "text/plain": [
       "[]"
      ]
     },
     "execution_count": 14,
     "metadata": {},
     "output_type": "execute_result"
    }
   ],
   "source": [
    "# An empty list\n",
    "L = []\n",
    "L"
   ]
  },
  {
   "cell_type": "markdown",
   "id": "dfc79e5e",
   "metadata": {},
   "source": [
    "`The list() Constructor`\n",
    "\n",
    "You can convert other data types to lists using Python’s list() constructor."
   ]
  },
  {
   "cell_type": "code",
   "execution_count": 15,
   "id": "6032ce5f",
   "metadata": {},
   "outputs": [
    {
     "name": "stdout",
     "output_type": "stream",
     "text": [
      "['a', 'b', 'c']\n"
     ]
    }
   ],
   "source": [
    "# Convert a string to a list\n",
    "L = list('abc')\n",
    "print(L)\n",
    "# Prints ['a', 'b', 'c']"
   ]
  },
  {
   "cell_type": "code",
   "execution_count": 16,
   "id": "f2be379d",
   "metadata": {},
   "outputs": [
    {
     "name": "stdout",
     "output_type": "stream",
     "text": [
      "[1, 2, 3]\n"
     ]
    }
   ],
   "source": [
    "# Convert a tuple to a list\n",
    "L = list((1, 2, 3))\n",
    "print(L)\n",
    "# Prints [1, 2, 3]"
   ]
  },
  {
   "cell_type": "markdown",
   "id": "6e4868ee",
   "metadata": {},
   "source": [
    "`Nested List`\n",
    "\n",
    "A list can contain sublists, which in turn can contain sublists themselves, and so on. This is known as nested list.\n",
    "\n",
    "You can use them to arrange data into hierarchical structures."
   ]
  },
  {
   "cell_type": "code",
   "execution_count": 19,
   "id": "54d769ce",
   "metadata": {},
   "outputs": [
    {
     "data": {
      "text/plain": [
       "['a', ['bb', ['ccc', 'ddd'], 'ee', 'ff'], 'g', 'h']"
      ]
     },
     "execution_count": 19,
     "metadata": {},
     "output_type": "execute_result"
    }
   ],
   "source": [
    "L = ['a', ['bb', ['ccc', 'ddd'], 'ee', 'ff'], 'g', 'h']\n",
    "L"
   ]
  },
  {
   "cell_type": "markdown",
   "id": "299063d4",
   "metadata": {},
   "source": [
    "`Access List Items by Index`\n",
    "\n",
    "You can think of a list as a relationship between indexes and values. This relationship is called a mapping; each index maps to one of the values. The indexes for the values in a list are illustrated as below:"
   ]
  },
  {
   "cell_type": "code",
   "execution_count": 41,
   "id": "ad6a1780",
   "metadata": {},
   "outputs": [
    {
     "data": {
      "image/png": "[encoded data removed]",
      "text/plain": [
       "<IPython.core.display.Image object>"
      ]
     },
     "execution_count": 41,
     "metadata": {},
     "output_type": "execute_result"
    }
   ],
   "source": [
    "from IPython import display\n",
    "display.Image (\"./list_indexing.png\")"
   ]
  },
  {
   "cell_type": "code",
   "execution_count": 42,
   "id": "5f01e384",
   "metadata": {},
   "outputs": [
    {
     "name": "stdout",
     "output_type": "stream",
     "text": [
      "red\n",
      "blue\n"
     ]
    }
   ],
   "source": [
    "L = ['red', 'green', 'blue', 'yellow', 'black']\n",
    "\n",
    "print(L[0])\n",
    "# Prints red\n",
    "\n",
    "print(L[2])\n",
    "# Prints blue"
   ]
  },
  {
   "cell_type": "markdown",
   "id": "ea40fa13",
   "metadata": {},
   "source": [
    "`Negative List Indexing`\n",
    "\n",
    "You can access a list by negative indexing as well. Negative indexes count backward from the end of the list. So, L[-1] refers to the last item, L[-2] is the second-last, and so on.\n",
    "\n",
    "The negative indexes for the items in a list are illustrated as below:"
   ]
  },
  {
   "cell_type": "code",
   "execution_count": 46,
   "id": "a021f881",
   "metadata": {},
   "outputs": [
    {
     "data": {
      "image/png": "[encoded data removed]",
      "text/plain": [
       "<IPython.core.display.Image object>"
      ]
     },
     "execution_count": 46,
     "metadata": {},
     "output_type": "execute_result"
    }
   ],
   "source": [
    "from IPython import display\n",
    "display.Image (\"./negative_indexing.png\")"
   ]
  },
  {
   "cell_type": "code",
   "execution_count": 47,
   "id": "68fd77c2",
   "metadata": {},
   "outputs": [
    {
     "name": "stdout",
     "output_type": "stream",
     "text": [
      "black\n",
      "yellow\n"
     ]
    }
   ],
   "source": [
    "L = ['red', 'green', 'blue', 'yellow', 'black']\n",
    "\n",
    "print(L[-1])\n",
    "# Prints black\n",
    "\n",
    "print(L[-2])\n",
    "# Prints yellow"
   ]
  },
  {
   "cell_type": "markdown",
   "id": "f4d038a9",
   "metadata": {},
   "source": [
    "`Access Nested List Items`\n",
    "\n",
    "Similarly, you can access individual items in a nested list using multiple indexes. The first index determines which list to use, and the second indicates the value within that list.\n",
    "\n",
    "The indexes for the items in a nested list are illustrated as below:"
   ]
  },
  {
   "cell_type": "code",
   "execution_count": 48,
   "id": "8e5ca866",
   "metadata": {},
   "outputs": [
    {
     "name": "stdout",
     "output_type": "stream",
     "text": [
      "['eee', 'fff']\n",
      "eee\n"
     ]
    }
   ],
   "source": [
    "L = ['a', 'b', ['cc', 'dd', ['eee', 'fff']], 'g', 'h']\n",
    "\n",
    "print(L[2][2])\n",
    "# Prints ['eee', 'fff']\n",
    "\n",
    "print(L[2][2][0])\n",
    "# Prints eee"
   ]
  },
  {
   "cell_type": "markdown",
   "id": "cff184de",
   "metadata": {},
   "source": [
    "`Slicing a List`\n",
    "\n",
    "A segment of a list is called a slice and you can extract one by using a slice operator. A slice of a list is also a list.\n",
    "\n",
    "The slice operator [n:m] returns the part of the list from the “n-th” item to the “m-th” item, including the first but excluding the last."
   ]
  },
  {
   "cell_type": "code",
   "execution_count": 49,
   "id": "68515033",
   "metadata": {},
   "outputs": [
    {
     "name": "stdout",
     "output_type": "stream",
     "text": [
      "['c', 'd', 'e']\n",
      "['a', 'b']\n",
      "['d', 'e']\n"
     ]
    }
   ],
   "source": [
    "L = ['a', 'b', 'c', 'd', 'e', 'f']\n",
    "\n",
    "print(L[2:5])\n",
    "# Prints ['c', 'd', 'e']\n",
    "\n",
    "print(L[0:2])\n",
    "# Prints ['a', 'b']\n",
    "\n",
    "print(L[3:-1])\n",
    "# Prints ['d', 'e']"
   ]
  },
  {
   "cell_type": "markdown",
   "id": "f08820b4",
   "metadata": {},
   "source": [
    "`Change Item Value`\n",
    "\n",
    "You can replace an existing element with a new value by assigning the new value to the index."
   ]
  },
  {
   "cell_type": "code",
   "execution_count": 50,
   "id": "d6beb693",
   "metadata": {},
   "outputs": [
    {
     "name": "stdout",
     "output_type": "stream",
     "text": [
      "['orange', 'green', 'blue']\n",
      "['orange', 'green', 'violet']\n"
     ]
    }
   ],
   "source": [
    "L = ['red', 'green', 'blue']\n",
    "\n",
    "L[0] = 'orange'\n",
    "print(L)\n",
    "# Prints ['orange', 'green', 'blue']\n",
    "\n",
    "L[-1] = 'violet'\n",
    "print(L)\n",
    "# Prints ['orange', 'green', 'violet']"
   ]
  },
  {
   "cell_type": "markdown",
   "id": "c247b418",
   "metadata": {},
   "source": [
    "`Add items to a list`\n",
    "\n",
    "To add new values to a list, use append() method. This method adds items only to the end of the list."
   ]
  },
  {
   "cell_type": "code",
   "execution_count": 51,
   "id": "6b996063",
   "metadata": {},
   "outputs": [
    {
     "name": "stdout",
     "output_type": "stream",
     "text": [
      "['red', 'green', 'yellow', 'blue']\n"
     ]
    }
   ],
   "source": [
    "L = ['red', 'green', 'yellow']\n",
    "L.append('blue')\n",
    "print(L)\n",
    "# Prints ['red', 'green', 'yellow', 'blue']"
   ]
  },
  {
   "cell_type": "markdown",
   "id": "142542f5",
   "metadata": {},
   "source": [
    "`Combine Lists`\n",
    "\n",
    "You can merge one list into another by using extend() method. It takes a list as an argument and appends all of the elements."
   ]
  },
  {
   "cell_type": "code",
   "execution_count": 52,
   "id": "5e691d5b",
   "metadata": {},
   "outputs": [
    {
     "name": "stdout",
     "output_type": "stream",
     "text": [
      "['red', 'green', 'yellow', 1, 2, 3]\n"
     ]
    }
   ],
   "source": [
    "L = ['red', 'green', 'yellow']\n",
    "L.extend([1,2,3])\n",
    "print(L)\n",
    "# Prints ['red', 'green', 'yellow', 1, 2, 3]"
   ]
  },
  {
   "cell_type": "markdown",
   "id": "4083d851",
   "metadata": {},
   "source": [
    "`Iterate through a List`\n",
    "\n",
    "The most common way to iterate through a list is with a for loop."
   ]
  },
  {
   "cell_type": "code",
   "execution_count": 53,
   "id": "01a8267d",
   "metadata": {},
   "outputs": [
    {
     "name": "stdout",
     "output_type": "stream",
     "text": [
      "red\n",
      "green\n",
      "blue\n"
     ]
    }
   ],
   "source": [
    "L = ['red', 'green', 'blue']\n",
    "for item in L:\n",
    "    print(item)\n",
    "# Prints red\n",
    "# Prints green\n",
    "# Prints blue"
   ]
  },
  {
   "cell_type": "markdown",
   "id": "d0ed7e16",
   "metadata": {},
   "source": [
    "***********************************************************************************************************************************"
   ]
  },
  {
   "cell_type": "markdown",
   "id": "43209ae5",
   "metadata": {},
   "source": [
    "`Python Dictionary`\n",
    "--"
   ]
  },
  {
   "cell_type": "markdown",
   "id": "a0429c9b",
   "metadata": {},
   "source": [
    "Dictionaries are Python’s implementation of a data structure, generally known as associative arrays, hashes, or hashmaps.\n",
    "\n",
    "You can think of a dictionary as a mapping between a set of indexes (known as keys) and a set of values. Each key maps to a value. The association of a key and a value is called a key:value pair or sometimes an item.\n",
    "\n",
    "As an example, we’ll build a dictionary that stores employee record."
   ]
  },
  {
   "cell_type": "code",
   "execution_count": 54,
   "id": "f81c3432",
   "metadata": {},
   "outputs": [
    {
     "data": {
      "image/png": "[encoded data removed]",
      "text/plain": [
       "<IPython.core.display.Image object>"
      ]
     },
     "execution_count": 54,
     "metadata": {},
     "output_type": "execute_result"
    }
   ],
   "source": [
    "from IPython import display\n",
    "display.Image (\"./dictionary.png\")"
   ]
  },
  {
   "cell_type": "markdown",
   "id": "737c623f",
   "metadata": {},
   "source": [
    "`Create a Dictionary`\n",
    "\n",
    "You can create a dictionary by placing a comma-separated list of key:value pairs in curly braces {}. Each key is separated from its associated value by a colon :"
   ]
  },
  {
   "cell_type": "code",
   "execution_count": 55,
   "id": "22b7754b",
   "metadata": {},
   "outputs": [],
   "source": [
    "# Create a dictionary to store employee record\n",
    "D = {'name': 'Bob',\n",
    "     'age': 25,\n",
    "     'job': 'Dev',\n",
    "     'city': 'New York',\n",
    "     'email': 'bob@web.com'}"
   ]
  },
  {
   "cell_type": "markdown",
   "id": "dcc8caa2",
   "metadata": {},
   "source": [
    "`The dict() Constructor`\n",
    "\n",
    "You can convert two-value sequences into a dictionary with Python’s dict() constructor. The first item in each sequence is used as the key and the second as the value."
   ]
  },
  {
   "cell_type": "code",
   "execution_count": 56,
   "id": "84ad663c",
   "metadata": {},
   "outputs": [
    {
     "name": "stdout",
     "output_type": "stream",
     "text": [
      "{'name': 'Bob', 'age': 25, 'job': 'Dev'}\n"
     ]
    }
   ],
   "source": [
    "# Create a dictionary with a list of two-item tuples\n",
    "L = [('name', 'Bob'),\n",
    "     ('age', 25),\n",
    "     ('job', 'Dev')]\n",
    "\n",
    "D = dict(L)\n",
    "print(D)\n",
    "# Prints {'name': 'Bob', 'age': 25, 'job': 'Dev'}"
   ]
  },
  {
   "cell_type": "code",
   "execution_count": 57,
   "id": "4c8db76d",
   "metadata": {},
   "outputs": [
    {
     "name": "stdout",
     "output_type": "stream",
     "text": [
      "{'name': 'Bob', 'age': 25, 'job': 'Dev'}\n"
     ]
    }
   ],
   "source": [
    "# Create a dictionary with a tuple of two-item lists\n",
    "T = (['name', 'Bob'],\n",
    "     ['age', 25],\n",
    "     ['job', 'Dev'])\n",
    "\n",
    "D = dict(T)\n",
    "print(D)\n",
    "# Prints {'name': 'Bob', 'age': 25, 'job': 'Dev'}"
   ]
  },
  {
   "cell_type": "markdown",
   "id": "0b9fd8c3",
   "metadata": {},
   "source": [
    "**When the keys are simple strings, it is sometimes easier to specify key:value pairs using keyword arguments.**"
   ]
  },
  {
   "cell_type": "code",
   "execution_count": 58,
   "id": "a802cbc3",
   "metadata": {},
   "outputs": [
    {
     "name": "stdout",
     "output_type": "stream",
     "text": [
      "{'name': 'Bob', 'age': 25, 'job': 'Dev'}\n"
     ]
    }
   ],
   "source": [
    "D = dict(name = 'Bob',\n",
    "         age = 25,\n",
    "         job = 'Dev')\n",
    "\n",
    "print(D)\n",
    "# Prints {'name': 'Bob', 'age': 25, 'job': 'Dev'}"
   ]
  },
  {
   "cell_type": "markdown",
   "id": "b401be7d",
   "metadata": {},
   "source": [
    "`Important Properties of a Dictionary`\n",
    "\n",
    "Dictionaries are pretty straightforward, but here are a few points you should be aware of when using them.\n",
    "\n",
    "Keys must be unique:\n",
    "A key can appear in a dictionary only once.\n",
    "\n",
    "Even if you specify a key more than once during the creation of a dictionary, the last value for that key becomes the associated value."
   ]
  },
  {
   "cell_type": "code",
   "execution_count": 59,
   "id": "d2fc7110",
   "metadata": {},
   "outputs": [
    {
     "name": "stdout",
     "output_type": "stream",
     "text": [
      "{'name': 'Jane', 'age': 25}\n"
     ]
    }
   ],
   "source": [
    "D = {'name': 'Bob',\n",
    "     'age': 25,\n",
    "     'name': 'Jane'}\n",
    "print(D)\n",
    "# Prints {'name': 'Jane', 'age': 25}"
   ]
  },
  {
   "cell_type": "markdown",
   "id": "29ffb29e",
   "metadata": {},
   "source": [
    "`Key must be immutable type:`\n",
    "    \n",
    "You can use any object of immutable type as dictionary keys – such as numbers, strings, booleans or tuples."
   ]
  },
  {
   "cell_type": "code",
   "execution_count": 60,
   "id": "31d7854e",
   "metadata": {},
   "outputs": [],
   "source": [
    "D = {(2,2): 25,\n",
    "     True: 'a',\n",
    "     'name': 'Bob'}"
   ]
  },
  {
   "cell_type": "markdown",
   "id": "46650ccc",
   "metadata": {},
   "source": [
    "`Value can be of any type:`\n",
    "    \n",
    "There are no restrictions on dictionary values. A dictionary value can be any type of object and can appear in a dictionary multiple times."
   ]
  },
  {
   "cell_type": "code",
   "execution_count": 61,
   "id": "3330a275",
   "metadata": {},
   "outputs": [],
   "source": [
    "# values of different datatypes\n",
    "D = {'a':[1,2,3],\n",
    "     'b':{1,2,3}}\n",
    "\n",
    "# duplicate values\n",
    "D = {'a':[1,2],\n",
    "     'b':[1,2],\n",
    "     'c':[1,2]}"
   ]
  },
  {
   "cell_type": "markdown",
   "id": "2b27cf2b",
   "metadata": {},
   "source": [
    "`Access Dictionary Items`\n",
    "\n",
    "The order of key:value pairs is not always the same. In fact, if you write the same example on another PC, you may get a different result. In general, the order of items in a dictionary is unpredictable.\n",
    "\n",
    "But this is not a problem because the items of a dictionary are not indexed with integer indices. Instead, you use the keys to access the corresponding values.\n",
    "\n",
    "You can fetch a value from a dictionary by referring to its key in square brackets []."
   ]
  },
  {
   "cell_type": "code",
   "execution_count": 62,
   "id": "e9da9086",
   "metadata": {},
   "outputs": [
    {
     "name": "stdout",
     "output_type": "stream",
     "text": [
      "Bob\n"
     ]
    }
   ],
   "source": [
    "D = {'name': 'Bob',\n",
    "     'age': 25,\n",
    "     'job': 'Dev'}\n",
    "\n",
    "print(D['name'])\n",
    "# Prints Bob"
   ]
  },
  {
   "cell_type": "markdown",
   "id": "01c7b527",
   "metadata": {},
   "source": [
    "********************************************************************************************************************************"
   ]
  },
  {
   "cell_type": "markdown",
   "id": "290179d9",
   "metadata": {},
   "source": [
    "`Python List Slicing`\n",
    "--"
   ]
  },
  {
   "cell_type": "markdown",
   "id": "d159aad7",
   "metadata": {},
   "source": [
    "To access a range of items in a list, you need to slice a list. One way to do this is to use the simple slicing operator :\n",
    "\n",
    "With this operator you can specify where to start the slicing, where to end and specify the step."
   ]
  },
  {
   "cell_type": "markdown",
   "id": "66552aec",
   "metadata": {},
   "source": [
    "`Slicing a List`\n",
    "\n",
    "If L is a list, the expression L [ start : stop : step ] returns the portion of the list from index start to index stop, at a step size step."
   ]
  },
  {
   "cell_type": "code",
   "execution_count": 64,
   "id": "279c281b",
   "metadata": {},
   "outputs": [
    {
     "data": {
      "image/png": "[encoded data removed]",
      "text/plain": [
       "<IPython.core.display.Image object>"
      ]
     },
     "execution_count": 64,
     "metadata": {},
     "output_type": "execute_result"
    }
   ],
   "source": [
    "from IPython import display\n",
    "display.Image (\"./slicing.png\")"
   ]
  },
  {
   "cell_type": "code",
   "execution_count": 65,
   "id": "f911d5d0",
   "metadata": {},
   "outputs": [
    {
     "name": "stdout",
     "output_type": "stream",
     "text": [
      "['c', 'd', 'e', 'f', 'g']\n"
     ]
    }
   ],
   "source": [
    "L = ['a', 'b', 'c', 'd', 'e', 'f', 'g', 'h', 'i']\n",
    "print(L[2:7])\n",
    "# Prints ['c', 'd', 'e', 'f', 'g']"
   ]
  },
  {
   "cell_type": "code",
   "execution_count": 66,
   "id": "e347e6b4",
   "metadata": {},
   "outputs": [
    {
     "data": {
      "image/png": "[encoded data removed]",
      "text/plain": [
       "<IPython.core.display.Image object>"
      ]
     },
     "execution_count": 66,
     "metadata": {},
     "output_type": "execute_result"
    }
   ],
   "source": [
    "from IPython import display\n",
    "display.Image (\"./list_slicing.png\")"
   ]
  },
  {
   "cell_type": "markdown",
   "id": "3311b672",
   "metadata": {},
   "source": [
    "`Slice with Negative Indices`\n",
    "\n",
    "You can also specify negative indices while slicing a list."
   ]
  },
  {
   "cell_type": "code",
   "execution_count": 67,
   "id": "c91418ba",
   "metadata": {},
   "outputs": [
    {
     "name": "stdout",
     "output_type": "stream",
     "text": [
      "['c', 'd', 'e', 'f', 'g']\n"
     ]
    }
   ],
   "source": [
    "L = ['a', 'b', 'c', 'd', 'e', 'f', 'g', 'h', 'i']\n",
    "print(L[-7:-2])\n",
    "# Prints ['c', 'd', 'e', 'f', 'g']"
   ]
  },
  {
   "cell_type": "code",
   "execution_count": 69,
   "id": "27fff4dd",
   "metadata": {},
   "outputs": [
    {
     "data": {
      "image/png": "[encoded data removed]",
      "text/plain": [
       "<IPython.core.display.Image object>"
      ]
     },
     "execution_count": 69,
     "metadata": {},
     "output_type": "execute_result"
    }
   ],
   "source": [
    "from IPython import display\n",
    "display.Image (\"./list_slicing_negative.png\")"
   ]
  },
  {
   "cell_type": "markdown",
   "id": "ee4ea11a",
   "metadata": {},
   "source": [
    "`Slice with Positive & Negative Indices`\n",
    "\n",
    "You can specify both positive and negative indices at the same time."
   ]
  },
  {
   "cell_type": "code",
   "execution_count": 70,
   "id": "07059ab6",
   "metadata": {},
   "outputs": [
    {
     "name": "stdout",
     "output_type": "stream",
     "text": [
      "['c', 'd']\n"
     ]
    }
   ],
   "source": [
    "L = ['a', 'b', 'c', 'd', 'e', 'f', 'g', 'h', 'i']\n",
    "print(L[2:-5])\n",
    "# Prints ['c', 'd']"
   ]
  },
  {
   "cell_type": "markdown",
   "id": "282ea91a",
   "metadata": {},
   "source": [
    "`Specify Step of the Slicing`\n",
    "\n",
    "You can specify the step of the slicing using step parameter. The step parameter is optional and by default 1."
   ]
  },
  {
   "cell_type": "code",
   "execution_count": 71,
   "id": "b2d6e0a9",
   "metadata": {},
   "outputs": [
    {
     "name": "stdout",
     "output_type": "stream",
     "text": [
      "['c', 'e', 'g']\n"
     ]
    }
   ],
   "source": [
    "# Return every 2nd item between position 2 to 7\n",
    "L = ['a', 'b', 'c', 'd', 'e', 'f', 'g', 'h', 'i']\n",
    "print(L[2:7:2])\n",
    "# Prints ['c', 'e', 'g']"
   ]
  },
  {
   "cell_type": "code",
   "execution_count": 72,
   "id": "16caad90",
   "metadata": {},
   "outputs": [
    {
     "data": {
      "image/png": "[encoded data removed]",
      "text/plain": [
       "<IPython.core.display.Image object>"
      ]
     },
     "execution_count": 72,
     "metadata": {},
     "output_type": "execute_result"
    }
   ],
   "source": [
    "from IPython import display\n",
    "display.Image (\"./list_slicing_specifying_step_size.png\")"
   ]
  },
  {
   "cell_type": "markdown",
   "id": "4d90f685",
   "metadata": {},
   "source": [
    "`Negative Step Size`\n",
    "\n",
    "You can even specify a negative step size."
   ]
  },
  {
   "cell_type": "code",
   "execution_count": 73,
   "id": "c34399f3",
   "metadata": {},
   "outputs": [
    {
     "name": "stdout",
     "output_type": "stream",
     "text": [
      "['g', 'e', 'c']\n"
     ]
    }
   ],
   "source": [
    "# Return every 2nd item between position 6 to 1\n",
    "L = ['a', 'b', 'c', 'd', 'e', 'f', 'g', 'h', 'i']\n",
    "print(L[6:1:-2])\n",
    "# Prints ['g', 'e', 'c']"
   ]
  },
  {
   "cell_type": "markdown",
   "id": "88f2b16e",
   "metadata": {},
   "source": [
    "`Slice at Beginning & End`\n",
    "\n",
    "Omitting the start index starts the slice from the index 0. Meaning, L[:stop] is equivalent to L[0:stop]"
   ]
  },
  {
   "cell_type": "code",
   "execution_count": 74,
   "id": "601e2736",
   "metadata": {},
   "outputs": [
    {
     "name": "stdout",
     "output_type": "stream",
     "text": [
      "['a', 'b', 'c']\n"
     ]
    }
   ],
   "source": [
    "# Slice the first three items from the list\n",
    "L = ['a', 'b', 'c', 'd', 'e', 'f', 'g', 'h', 'i']\n",
    "print(L[:3])\n",
    "# Prints ['a', 'b', 'c']"
   ]
  },
  {
   "cell_type": "markdown",
   "id": "7c8a4731",
   "metadata": {},
   "source": [
    "`End this module`\n",
    "--"
   ]
  }
 ],
 "metadata": {
  "kernelspec": {
   "display_name": "Python 3",
   "language": "python",
   "name": "python3"
  },
  "language_info": {
   "codemirror_mode": {
    "name": "ipython",
    "version": 3
   },
   "file_extension": ".py",
   "mimetype": "text/x-python",
   "name": "python",
   "nbconvert_exporter": "python",
   "pygments_lexer": "ipython3",
   "version": "3.8.8"
  }
 },
 "nbformat": 4,
 "nbformat_minor": 5
}
