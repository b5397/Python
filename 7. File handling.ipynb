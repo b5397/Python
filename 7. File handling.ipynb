{
 "cells": [
  {
   "cell_type": "markdown",
   "id": "ba19da1a",
   "metadata": {},
   "source": [
    "`File handling in Python`\n",
    "--\n",
    "\n",
    "Python too supports file handling and allows users to handle files i.e., to read and write files, along with many other file handling options, to operate on files. \n",
    "\n",
    "The concept of file handling has stretched over various other languages, but the implementation is either complicated or lengthy, but alike other concepts of Python, this concept here is also easy and short. \n",
    "\n",
    "Python treats file differently as text or binary and this is important. \n",
    "\n",
    "Each line of code includes a sequence of characters and they form text file. Each line of a file is terminated with a special character, called the EOL or End of Line characters like comma {,} or newline character. \n",
    "\n",
    "It ends the current line and tells the interpreter a new one has begun.\n",
    "\n",
    "Since RAM is volatile, which loses its data when computer is turned off, we use files for future use of the data.\n",
    "\n",
    "Files are persistent because they run for a long time, they keep atleast some of the data in permanent storage and if they shut down and restart, they pick up where they left off."
   ]
  },
  {
   "cell_type": "markdown",
   "id": "e4cd160f",
   "metadata": {},
   "source": [
    "`Open a file`\n",
    "--"
   ]
  },
  {
   "cell_type": "code",
   "execution_count": 5,
   "id": "fef52149",
   "metadata": {},
   "outputs": [],
   "source": [
    "# “ r “, for reading.\n",
    "# “ w “, for writing.\n",
    "# “ a “, for appending.\n",
    "# “ r+ “, for both reading and writing\n",
    "# Opening a file\n",
    "file=open(\"t1.txt\",'w')\n",
    "file.close()"
   ]
  },
  {
   "cell_type": "code",
   "execution_count": 6,
   "id": "55babb63",
   "metadata": {},
   "outputs": [],
   "source": [
    "f=open(\"t1.txt\",'w')\n",
    "f.write(\"Hello Dr. Darshan.\\n\")\n",
    "f.write(\"How is the training going on?\\n\")\n",
    "f.close()"
   ]
  },
  {
   "cell_type": "markdown",
   "id": "cf9b32fe",
   "metadata": {},
   "source": [
    "`File Object Attributes`\n",
    "--\n",
    "\n",
    "* file.closed - Returns True if the file is closed, false otherwise\n",
    "* file.mode - Returns access mode with which the file was opened\n",
    "* file.name - Returns name of the file"
   ]
  },
  {
   "cell_type": "code",
   "execution_count": 8,
   "id": "174c0576",
   "metadata": {},
   "outputs": [
    {
     "name": "stdout",
     "output_type": "stream",
     "text": [
      "False\n",
      "w\n",
      "t1.txt\n",
      "True\n"
     ]
    }
   ],
   "source": [
    "f=open(\"t1.txt\",'w')\n",
    "print(f.closed)\n",
    "print(f.mode)\n",
    "print(f.name)\n",
    "f.write(\"Hello world \\n\")\n",
    "f.write(\"How is the training going on?\\n\")\n",
    "f.close()\n",
    "print(f.closed)"
   ]
  },
  {
   "cell_type": "code",
   "execution_count": 11,
   "id": "4765909f",
   "metadata": {},
   "outputs": [
    {
     "name": "stdout",
     "output_type": "stream",
     "text": [
      "3\n",
      "Data saved to file successfully.\n",
      "True\n"
     ]
    }
   ],
   "source": [
    "a=1\n",
    "b=2\n",
    "c=a+b\n",
    "print(c)\n",
    "str1=\"a=\"+str(a)+\"\\n\"\n",
    "str2=\"b=\"+str(b)+\"\\n\"\n",
    "str3=\"c=\"+str(c)+\"\\n\"\n",
    "f=open(\"t1.txt\",'w')\n",
    "f.write(str1)\n",
    "f.write(str2)\n",
    "f.write(str3)\n",
    "f.close()\n",
    "print(\"Data saved to file successfully.\")\n",
    "print(f.closed)"
   ]
  },
  {
   "cell_type": "code",
   "execution_count": 12,
   "id": "fc40bed3",
   "metadata": {},
   "outputs": [
    {
     "name": "stdout",
     "output_type": "stream",
     "text": [
      "a=1\n",
      "b=2\n",
      "c=3\n",
      "\n"
     ]
    }
   ],
   "source": [
    "# File Methods\n",
    "f=open(\"t1.txt\",'r')\n",
    "print(f.read())\n",
    "f.close()"
   ]
  },
  {
   "cell_type": "code",
   "execution_count": 13,
   "id": "9ec1fd51",
   "metadata": {},
   "outputs": [
    {
     "name": "stdout",
     "output_type": "stream",
     "text": [
      "a=\n"
     ]
    }
   ],
   "source": [
    "f=open(\"t1.txt\",'r')\n",
    "print(f.read(2))\n",
    "f.close()"
   ]
  },
  {
   "cell_type": "code",
   "execution_count": 14,
   "id": "b2ba5e66",
   "metadata": {},
   "outputs": [
    {
     "name": "stdout",
     "output_type": "stream",
     "text": [
      "a=1\n",
      "\n"
     ]
    }
   ],
   "source": [
    "f=open(\"t1.txt\",'r')\n",
    "print(f.readline())\n",
    "f.close()"
   ]
  },
  {
   "cell_type": "code",
   "execution_count": 15,
   "id": "12f52649",
   "metadata": {},
   "outputs": [
    {
     "name": "stdout",
     "output_type": "stream",
     "text": [
      "['a=1\\n', 'b=2\\n', 'c=3\\n']\n"
     ]
    }
   ],
   "source": [
    "f=open(\"t1.txt\",'r')\n",
    "print(f.readlines())\n",
    "f.close()"
   ]
  },
  {
   "cell_type": "code",
   "execution_count": 16,
   "id": "5a46affc",
   "metadata": {},
   "outputs": [
    {
     "name": "stdout",
     "output_type": "stream",
     "text": [
      "a=1\n",
      "\n",
      "5\n",
      "b=\n",
      "7\n"
     ]
    }
   ],
   "source": [
    "f=open(\"t1.txt\",'r')\n",
    "print(f.read(4))\n",
    "print(f.tell())\n",
    "print(f.read(2))\n",
    "print(f.tell())\n",
    "f.close()"
   ]
  },
  {
   "cell_type": "markdown",
   "id": "a6b5ee5d",
   "metadata": {},
   "source": [
    "`Directories/Folders`\n",
    "--"
   ]
  },
  {
   "cell_type": "code",
   "execution_count": 19,
   "id": "974d47c4",
   "metadata": {},
   "outputs": [
    {
     "name": "stdout",
     "output_type": "stream",
     "text": [
      "Directory created successfully\n"
     ]
    }
   ],
   "source": [
    "import os\n",
    "os.mkdir(\"Pycharm\")\n",
    "print(\"Directory created successfully\")"
   ]
  },
  {
   "cell_type": "code",
   "execution_count": 24,
   "id": "bca16db1",
   "metadata": {},
   "outputs": [
    {
     "data": {
      "text/plain": [
       "'C:\\\\Users\\\\hp\\\\OneDrive\\\\Desktop'"
      ]
     },
     "execution_count": 24,
     "metadata": {},
     "output_type": "execute_result"
    }
   ],
   "source": [
    "os.getcwd()\n",
    "# os.chdir(\"path\")"
   ]
  },
  {
   "cell_type": "markdown",
   "id": "3bbe720b",
   "metadata": {},
   "source": [
    "`csv`\n",
    "--"
   ]
  },
  {
   "cell_type": "code",
   "execution_count": null,
   "id": "440d9760",
   "metadata": {},
   "outputs": [],
   "source": [
    "f = open('myfile.csv')"
   ]
  },
  {
   "cell_type": "code",
   "execution_count": 27,
   "id": "42b0570c",
   "metadata": {},
   "outputs": [
    {
     "ename": "FileNotFoundError",
     "evalue": "[Errno 2] No such file or directory: 'C:\\\\Python33\\\\Scripts\\\\myfile.csv'",
     "output_type": "error",
     "traceback": [
      "\u001b[1;31m---------------------------------------------------------------------------\u001b[0m",
      "\u001b[1;31mFileNotFoundError\u001b[0m                         Traceback (most recent call last)",
      "\u001b[1;32m<ipython-input-27-c99a64b29c17>\u001b[0m in \u001b[0;36m<module>\u001b[1;34m\u001b[0m\n\u001b[1;32m----> 1\u001b[1;33m \u001b[0mf\u001b[0m \u001b[1;33m=\u001b[0m \u001b[0mopen\u001b[0m\u001b[1;33m(\u001b[0m\u001b[1;34mr'C:\\Python33\\Scripts\\myfile.csv'\u001b[0m\u001b[1;33m)\u001b[0m\u001b[1;33m\u001b[0m\u001b[1;33m\u001b[0m\u001b[0m\n\u001b[0m",
      "\u001b[1;31mFileNotFoundError\u001b[0m: [Errno 2] No such file or directory: 'C:\\\\Python33\\\\Scripts\\\\myfile.csv'"
     ]
    }
   ],
   "source": [
    "f = open(r'C:\\Python33\\Scripts\\myfile.csv')"
   ]
  },
  {
   "cell_type": "code",
   "execution_count": null,
   "id": "dd0595ed",
   "metadata": {},
   "outputs": [],
   "source": [
    "# Open a file for reading\n",
    "f = open('myfile.csv')\n",
    "\n",
    "# Open a file for writing\n",
    "f = open('myfile.csv', 'w')\n",
    "\n",
    "# Open a file for reading and writing\n",
    "f = open('myfile.csv', 'r+')"
   ]
  },
  {
   "cell_type": "code",
   "execution_count": null,
   "id": "b8169fb3",
   "metadata": {},
   "outputs": [],
   "source": [
    "f = open('myfile.csv')\n",
    "f.close()\n",
    "\n",
    "# check closed status\n",
    "print(f.closed)\n",
    "# Prints True"
   ]
  },
  {
   "cell_type": "markdown",
   "id": "bfa41aa7",
   "metadata": {},
   "source": [
    "`Read a CSV File`\n",
    "--"
   ]
  },
  {
   "cell_type": "code",
   "execution_count": null,
   "id": "6bc40c7b",
   "metadata": {},
   "outputs": [],
   "source": [
    "import csv\n",
    "\n",
    "with open('myfile.csv') as f:\n",
    "    reader = csv.reader(f)\n",
    "    for row in reader:\n",
    "        print(row)\n",
    "\n",
    "# Prints:\n",
    "# ['name', 'age', 'job', 'city']\n",
    "# ['Bob', '25', 'Manager', 'Seattle']\n",
    "# ['Sam', '30', 'Developer', 'New York']"
   ]
  },
  {
   "cell_type": "code",
   "execution_count": null,
   "id": "a9746f21",
   "metadata": {},
   "outputs": [],
   "source": [
    "import csv\n",
    "\n",
    "with open('myfile.csv', 'w') as f:\n",
    "    writer = csv.writer(f)\n",
    "    writer.writerow(['Bob', '25', 'Manager', 'Seattle'])\n",
    "    writer.writerow(['Sam', '30', 'Developer', 'New York']"
   ]
  },
  {
   "cell_type": "code",
   "execution_count": 28,
   "id": "63b75ac0",
   "metadata": {},
   "outputs": [
    {
     "ename": "FileNotFoundError",
     "evalue": "[Errno 2] No such file or directory: 'myfile.csv'",
     "output_type": "error",
     "traceback": [
      "\u001b[1;31m---------------------------------------------------------------------------\u001b[0m",
      "\u001b[1;31mFileNotFoundError\u001b[0m                         Traceback (most recent call last)",
      "\u001b[1;32m<ipython-input-28-d533075463a0>\u001b[0m in \u001b[0;36m<module>\u001b[1;34m\u001b[0m\n\u001b[0;32m      1\u001b[0m \u001b[1;32mimport\u001b[0m \u001b[0mcsv\u001b[0m\u001b[1;33m\u001b[0m\u001b[1;33m\u001b[0m\u001b[0m\n\u001b[0;32m      2\u001b[0m \u001b[1;33m\u001b[0m\u001b[0m\n\u001b[1;32m----> 3\u001b[1;33m \u001b[1;32mwith\u001b[0m \u001b[0mopen\u001b[0m\u001b[1;33m(\u001b[0m\u001b[1;34m'myfile.csv'\u001b[0m\u001b[1;33m)\u001b[0m \u001b[1;32mas\u001b[0m \u001b[0mf\u001b[0m\u001b[1;33m:\u001b[0m\u001b[1;33m\u001b[0m\u001b[1;33m\u001b[0m\u001b[0m\n\u001b[0m\u001b[0;32m      4\u001b[0m     \u001b[0mreader\u001b[0m \u001b[1;33m=\u001b[0m \u001b[0mcsv\u001b[0m\u001b[1;33m.\u001b[0m\u001b[0mDictReader\u001b[0m\u001b[1;33m(\u001b[0m\u001b[0mf\u001b[0m\u001b[1;33m)\u001b[0m\u001b[1;33m\u001b[0m\u001b[1;33m\u001b[0m\u001b[0m\n\u001b[0;32m      5\u001b[0m     \u001b[1;32mfor\u001b[0m \u001b[0mrow\u001b[0m \u001b[1;32min\u001b[0m \u001b[0mreader\u001b[0m\u001b[1;33m:\u001b[0m\u001b[1;33m\u001b[0m\u001b[1;33m\u001b[0m\u001b[0m\n",
      "\u001b[1;31mFileNotFoundError\u001b[0m: [Errno 2] No such file or directory: 'myfile.csv'"
     ]
    }
   ],
   "source": [
    "import csv\n",
    "\n",
    "with open('myfile.csv') as f:\n",
    "    reader = csv.DictReader(f)\n",
    "    for row in reader:\n",
    "        print(row)\n",
    "\n",
    "# Prints:\n",
    "# {'job': 'Manager', 'city': 'Seattle', 'age': '25', 'name': 'Bob'}\n",
    "# {'job': 'Developer', 'city': 'New York', 'age': '30', 'name': 'Sam'}"
   ]
  },
  {
   "cell_type": "markdown",
   "id": "579ddd17",
   "metadata": {},
   "source": [
    "`Happy Learning`\n",
    "--"
   ]
  }
 ],
 "metadata": {
  "kernelspec": {
   "display_name": "Python 3",
   "language": "python",
   "name": "python3"
  },
  "language_info": {
   "codemirror_mode": {
    "name": "ipython",
    "version": 3
   },
   "file_extension": ".py",
   "mimetype": "text/x-python",
   "name": "python",
   "nbconvert_exporter": "python",
   "pygments_lexer": "ipython3",
   "version": "3.8.8"
  }
 },
 "nbformat": 4,
 "nbformat_minor": 5
}
