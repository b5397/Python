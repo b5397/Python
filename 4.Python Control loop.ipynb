{
 "cells": [
  {
   "cell_type": "markdown",
   "id": "2dc8e6b8",
   "metadata": {},
   "source": [
    "`Conditional execution`\n",
    "--"
   ]
  },
  {
   "cell_type": "markdown",
   "id": "e55c3103",
   "metadata": {},
   "source": [
    "`If and If-else control structure`\n",
    "--"
   ]
  },
  {
   "cell_type": "code",
   "execution_count": 1,
   "id": "17aa4922",
   "metadata": {},
   "outputs": [
    {
     "data": {
      "image/png": "[encoded data removed]",
      "text/plain": [
       "<IPython.core.display.Image object>"
      ]
     },
     "execution_count": 1,
     "metadata": {},
     "output_type": "execute_result"
    }
   ],
   "source": [
    "from IPython import display\n",
    "display.Image (\"./If.png\")"
   ]
  },
  {
   "cell_type": "markdown",
   "id": "e03c0de2",
   "metadata": {},
   "source": [
    "Often you need to execute some statements, only when certain condition holds. You can use following conditional statements in your code to do this.\n",
    "\n",
    "1. **if Statement:** use it to execute a block of code, if a specified condition is true\n",
    "2. **else Statement:** use it to execute a block of code, if the same condition is false\n",
    "3. **elif (else if) Statement:** use it to specify a new condition to test, if the first condition is false"
   ]
  },
  {
   "cell_type": "markdown",
   "id": "657cdd21",
   "metadata": {},
   "source": [
    "`if <expr>:\n",
    "    <Statement(s)>\n",
    "<following_Statement>`"
   ]
  },
  {
   "cell_type": "code",
   "execution_count": 2,
   "id": "47e0d4e0",
   "metadata": {},
   "outputs": [
    {
     "name": "stdout",
     "output_type": "stream",
     "text": [
      "Yes\n"
     ]
    }
   ],
   "source": [
    "x=0\n",
    "y=5\n",
    "if x<y:\n",
    "    print(\"Yes\")"
   ]
  },
  {
   "cell_type": "code",
   "execution_count": 3,
   "id": "653e7ba7",
   "metadata": {},
   "outputs": [],
   "source": [
    "if x>y:\n",
    "    Print(\"Yes\")"
   ]
  },
  {
   "cell_type": "code",
   "execution_count": 4,
   "id": "29760071",
   "metadata": {},
   "outputs": [],
   "source": [
    "if y<x:\n",
    "    print(\"Yes\")"
   ]
  },
  {
   "cell_type": "code",
   "execution_count": 5,
   "id": "239d03ce",
   "metadata": {},
   "outputs": [
    {
     "name": "stdout",
     "output_type": "stream",
     "text": [
      "Out of if statement\n"
     ]
    }
   ],
   "source": [
    "x=-5\n",
    "if x>0:\n",
    "    print(x)\n",
    "print(\"Out of if statement\")"
   ]
  },
  {
   "cell_type": "markdown",
   "id": "3aff1425",
   "metadata": {},
   "source": [
    "**Groupinn statements:Indentation and Blocks.**"
   ]
  },
  {
   "cell_type": "markdown",
   "id": "2f5b6043",
   "metadata": {},
   "source": [
    "`if <expr>:\n",
    "    <Statement(s)>\n",
    "    <Statement(s)>\n",
    "    <Statement(s)>\n",
    "    .....\n",
    "    <Statement(s)>\n",
    "<following_Statement>`"
   ]
  },
  {
   "cell_type": "code",
   "execution_count": 6,
   "id": "49a3c1c7",
   "metadata": {},
   "outputs": [
    {
     "name": "stdout",
     "output_type": "stream",
     "text": [
      "Expression was True\n",
      "Excuting Statement in suite\n",
      "----\n",
      "Done\n",
      "After condition\n"
     ]
    }
   ],
   "source": [
    "if 1 in [1,2,3]:\n",
    "    print('Expression was True')\n",
    "    print('Excuting Statement in suite')\n",
    "    print('----')\n",
    "    print('Done')\n",
    "print('After condition')"
   ]
  },
  {
   "cell_type": "markdown",
   "id": "05f6e7a3",
   "metadata": {},
   "source": [
    "`Nested if Statement`\n",
    "--"
   ]
  },
  {
   "cell_type": "code",
   "execution_count": 7,
   "id": "441fb30f",
   "metadata": {},
   "outputs": [
    {
     "name": "stdout",
     "output_type": "stream",
     "text": [
      "Outer Condition is true\n",
      " Between Inner Condition\n",
      "Inner Condition 2\n",
      " End Outer Condition \n",
      "After condition\n"
     ]
    }
   ],
   "source": [
    "if 1 in [1,2,3]:\n",
    "    print('Outer Condition is true')\n",
    "    \n",
    "    if 10>20:\n",
    "        print('Inner Condition 1')\n",
    "        \n",
    "    print(' Between Inner Condition')\n",
    "    \n",
    "    if 10<20:\n",
    "        print('Inner Condition 2')\n",
    "        \n",
    "    print(' End Outer Condition ')\n",
    "    \n",
    "print('After condition')"
   ]
  },
  {
   "cell_type": "markdown",
   "id": "2b47a3e7",
   "metadata": {},
   "source": [
    "****************************************************************************************************************************"
   ]
  },
  {
   "cell_type": "code",
   "execution_count": 8,
   "id": "c9cfe341",
   "metadata": {},
   "outputs": [
    {
     "data": {
      "image/png": "[encoded data removed]",
      "text/plain": [
       "<IPython.core.display.Image object>"
      ]
     },
     "execution_count": 8,
     "metadata": {},
     "output_type": "execute_result"
    }
   ],
   "source": [
    "from IPython import display\n",
    "display.Image (\"./if_else.png\")"
   ]
  },
  {
   "cell_type": "markdown",
   "id": "2a41c1e5",
   "metadata": {},
   "source": [
    "`if <expr>:\n",
    "    <Statement(s)>\n",
    "else:\n",
    "    <Statement(s)>`"
   ]
  },
  {
   "cell_type": "code",
   "execution_count": 9,
   "id": "041193d5",
   "metadata": {},
   "outputs": [
    {
     "name": "stdout",
     "output_type": "stream",
     "text": [
      "If statement is False and excuted\n"
     ]
    }
   ],
   "source": [
    "x= 55\n",
    "if x<50:\n",
    "    print('If statement is True and excuted')\n",
    "else:\n",
    "     print('If statement is False and excuted')"
   ]
  },
  {
   "cell_type": "code",
   "execution_count": 10,
   "id": "cf1bfc34",
   "metadata": {},
   "outputs": [
    {
     "name": "stdout",
     "output_type": "stream",
     "text": [
      "40 is greater that 35\n"
     ]
    }
   ],
   "source": [
    "x = 40\n",
    "if x>35:\n",
    "    print(x,\"is greater that 35\")\n",
    "else:\n",
    "    print(x,\"is less than or equal to 35\")"
   ]
  },
  {
   "cell_type": "code",
   "execution_count": 11,
   "id": "4227019f",
   "metadata": {},
   "outputs": [
    {
     "data": {
      "image/png": "[encoded data removed]",
      "text/plain": [
       "<IPython.core.display.Image object>"
      ]
     },
     "execution_count": 11,
     "metadata": {},
     "output_type": "execute_result"
    }
   ],
   "source": [
    "from IPython import display\n",
    "display.Image (\"./if_elif.png\")"
   ]
  },
  {
   "cell_type": "markdown",
   "id": "08b94f9e",
   "metadata": {},
   "source": [
    "`if <expr>:\n",
    "    <Statement(s)>\n",
    "elif <expr>:\n",
    "     <Statement(s)>\n",
    "elif <expr>:\n",
    "     <Statement(s)>\n",
    "else:\n",
    "    <Statement(s)>`"
   ]
  },
  {
   "cell_type": "code",
   "execution_count": 12,
   "id": "fc3d9bb4",
   "metadata": {},
   "outputs": [
    {
     "name": "stdout",
     "output_type": "stream",
     "text": [
      "Hello Jeo\n"
     ]
    }
   ],
   "source": [
    "name = 'Jeo'\n",
    "if name == \"Fred\":\n",
    "    print( 'Hello Fred')\n",
    "elif name ==\" Xander\":\n",
    "    print( 'Hello Xander')\n",
    "elif name == \"Jeo\":\n",
    "    print( 'Hello Jeo')\n",
    "else:\n",
    "    print( 'I do not Know Who you are')"
   ]
  },
  {
   "cell_type": "code",
   "execution_count": 13,
   "id": "a054c81a",
   "metadata": {},
   "outputs": [
    {
     "name": "stdout",
     "output_type": "stream",
     "text": [
      "35 is equal to 35\n"
     ]
    }
   ],
   "source": [
    "x = 35\n",
    "if x>35:\n",
    "    print(x,\"is greater that 35\")\n",
    "elif x<35:\n",
    "    print(x,\"is less than 35\")\n",
    "else:\n",
    "    print(x,\"is equal to 35\")"
   ]
  },
  {
   "cell_type": "code",
   "execution_count": 14,
   "id": "ce0f5c6c",
   "metadata": {},
   "outputs": [
    {
     "name": "stdout",
     "output_type": "stream",
     "text": [
      "x and y are equal\n"
     ]
    }
   ],
   "source": [
    "x, y = 5, 5\n",
    "if x > y:\n",
    "    print('x is greater')\n",
    "elif x < y:\n",
    "    print('y is greater')\n",
    "else:\n",
    "    print('x and y are equal')\n",
    "\n",
    "# Prints x and y are equal"
   ]
  },
  {
   "cell_type": "code",
   "execution_count": 15,
   "id": "1ac5f613",
   "metadata": {},
   "outputs": [
    {
     "name": "stdout",
     "output_type": "stream",
     "text": [
      "case 1\n"
     ]
    }
   ],
   "source": [
    "choice =1\n",
    "if choice == 1:\n",
    "\tprint('case 1')\n",
    "elif choice == 2:\n",
    "\tprint('case 2')\n",
    "elif choice == 3:\n",
    "\tprint('case 3')\n",
    "elif choice == 4:\n",
    "\tprint('case 4')\n",
    "else:\n",
    "\tprint('default case')"
   ]
  },
  {
   "cell_type": "markdown",
   "id": "dd7b3985",
   "metadata": {},
   "source": [
    "`Nested Conditionals`"
   ]
  },
  {
   "cell_type": "markdown",
   "id": "7623e9c6",
   "metadata": {},
   "source": [
    "* **If there is an else clause, It has to be at the end, but there doesnt have to be one.**"
   ]
  },
  {
   "cell_type": "code",
   "execution_count": 16,
   "id": "07a64cd9",
   "metadata": {},
   "outputs": [
    {
     "name": "stdout",
     "output_type": "stream",
     "text": [
      "35 is equal to 35\n"
     ]
    }
   ],
   "source": [
    "x = 35\n",
    "if x>35:\n",
    "    print(x,\"is greater that 35\")\n",
    "else:\n",
    "    if x<35:\n",
    "        print(x,\"is less than 35\")\n",
    "    else:\n",
    "        print(x,\"is equal to 35\")"
   ]
  },
  {
   "cell_type": "code",
   "execution_count": 17,
   "id": "1b20957d",
   "metadata": {},
   "outputs": [
    {
     "name": "stdout",
     "output_type": "stream",
     "text": [
      "35 is greater than 35\n"
     ]
    }
   ],
   "source": [
    "x = 35\n",
    "if x<35:\n",
    "    if x==35:\n",
    "        print(x,\"is equal to 35\")\n",
    "    else:\n",
    "        print(x,\"is less than 35\")\n",
    "else:\n",
    "    print(x,\"is greater than 35\")"
   ]
  },
  {
   "cell_type": "markdown",
   "id": "e3b27355",
   "metadata": {},
   "source": [
    "**********************************************************************************************************************************"
   ]
  },
  {
   "cell_type": "markdown",
   "id": "eec5991f",
   "metadata": {},
   "source": [
    "`Conditional Expressions (ternary operator)`\n",
    "--\n",
    "Conditional expression (sometimes referred to as ‘ternary operator’) allows us to select one of two statements depending on the specified condition.\n",
    "\n",
    "The syntax of the conditional expression is :"
   ]
  },
  {
   "cell_type": "code",
   "execution_count": 18,
   "id": "8a2b5608",
   "metadata": {},
   "outputs": [
    {
     "data": {
      "image/png": "[encoded data removed]",
      "text/plain": [
       "<IPython.core.display.Image object>"
      ]
     },
     "execution_count": 18,
     "metadata": {},
     "output_type": "execute_result"
    }
   ],
   "source": [
    "from IPython import display\n",
    "display.Image (\"./ternary-operator.png\")"
   ]
  },
  {
   "cell_type": "code",
   "execution_count": 19,
   "id": "7dc01059",
   "metadata": {},
   "outputs": [
    {
     "name": "stdout",
     "output_type": "stream",
     "text": [
      "x is greater\n"
     ]
    }
   ],
   "source": [
    "x, y = 7, 5\n",
    "print('x is greater') if x > y else print('y is greater')\n",
    "\n",
    "# Prints x is greater"
   ]
  },
  {
   "cell_type": "code",
   "execution_count": 20,
   "id": "90d47388",
   "metadata": {},
   "outputs": [
    {
     "name": "stdout",
     "output_type": "stream",
     "text": [
      "7\n"
     ]
    }
   ],
   "source": [
    "x, y = 7, 5\n",
    "max = x if x > y else y\n",
    "print(max)\n",
    "# Prints 7"
   ]
  },
  {
   "cell_type": "code",
   "execution_count": 21,
   "id": "5de26e58",
   "metadata": {},
   "outputs": [
    {
     "name": "stdout",
     "output_type": "stream",
     "text": [
      "yes\n",
      "yes\n",
      "Yes\n"
     ]
    }
   ],
   "source": [
    "# list\n",
    "L = ['red', 'green', 'blue']\n",
    "if 'red' in L:\n",
    "    print('yes')\n",
    "# Prints yes\n",
    "\n",
    "# tuple\n",
    "T = ('red', 'green', 'blue')\n",
    "if 'red' in T:\n",
    "    print('yes')\n",
    "# Prints yes\n",
    "\n",
    "# string\n",
    "S = 'Hello, World!'\n",
    "if 'Hello' in S:\n",
    "    print('Yes')\n",
    "# Prints yes"
   ]
  },
  {
   "cell_type": "markdown",
   "id": "96efc591",
   "metadata": {},
   "source": [
    "`Problems`\n",
    "--"
   ]
  },
  {
   "cell_type": "markdown",
   "id": "88b9edc0",
   "metadata": {},
   "source": [
    "**`1. Python program to check whether the given number is even or not.`**"
   ]
  },
  {
   "cell_type": "code",
   "execution_count": 22,
   "id": "2b0eb207",
   "metadata": {},
   "outputs": [
    {
     "name": "stdout",
     "output_type": "stream",
     "text": [
      "5  is odd\n",
      "Finally I got it predicted as an EVEN or ODD Number\n"
     ]
    }
   ],
   "source": [
    "x=5\n",
    "if x%2==0:\n",
    "    print(x,\" is even\")\n",
    "else:\n",
    "    print(x,\" is odd\")\n",
    "print(\"Finally I got it predicted as an EVEN or ODD Number\")"
   ]
  },
  {
   "cell_type": "code",
   "execution_count": 23,
   "id": "e0d07caf",
   "metadata": {},
   "outputs": [
    {
     "name": "stdout",
     "output_type": "stream",
     "text": [
      "Enter a number 8\n",
      " The number is Even \n"
     ]
    }
   ],
   "source": [
    "number = input(\"Enter a number \")\n",
    "x = int(number)%2\n",
    "if x == 0:\n",
    "    print(\" The number is Even \")\n",
    "else:\n",
    "    print(\" The number is odd \")"
   ]
  },
  {
   "cell_type": "markdown",
   "id": "d78dcf5f",
   "metadata": {},
   "source": [
    "**`2. Python program to find the roots of a quadratic equation`**"
   ]
  },
  {
   "cell_type": "code",
   "execution_count": 24,
   "id": "bc0e8d34",
   "metadata": {},
   "outputs": [
    {
     "name": "stdout",
     "output_type": "stream",
     "text": [
      "Enter the first coefficient: 9\n",
      "Enter the second coefficient: 4\n",
      "Enter the third coefficient: 8\n",
      "The roots are imaginary.\n",
      "The root1 is:  -0.2222222222222222 + i 0.9162456945817024\n",
      "The root2 is:  -0.2222222222222222 - i 0.9162456945817024\n"
     ]
    }
   ],
   "source": [
    "import math\n",
    "a = float(input(\"Enter the first coefficient: \"))\n",
    "b = float(input(\"Enter the second coefficient: \"))\n",
    "c = float(input(\"Enter the third coefficient: \"))\n",
    "if (a!=0.0):\n",
    "    d = (b*b)-(4*a*c) \n",
    "    if (d==0.0):\n",
    "        print(\"The roots are real and equal.\") \n",
    "        r = -b/(2*a)\n",
    "        print(\"The roots are \", r,\"and\", r)\n",
    "    elif(d>0.0):\n",
    "        print(\"The roots are real and distinct.\")\n",
    "        r1 = (-b+(math.sqrt(d)))/(2*a) \n",
    "        r2 = (-b-(math.sqrt(d)))/(2*a)\n",
    "        print(\"The root1 is: \", r1)\n",
    "        print(\"The root2 is: \", r2)\n",
    "    else:\n",
    "        print(\"The roots are imaginary.\")\n",
    "        rp = -b/(2*a)\n",
    "        ip = math.sqrt(-d)/(2*a)\n",
    "        print(\"The root1 is: \", rp, \"+ i\",ip)\n",
    "        print(\"The root2 is: \", rp, \"- i\",ip)\n",
    "else:\n",
    "    print(\"Not a quadratic equation.\")"
   ]
  },
  {
   "cell_type": "markdown",
   "id": "bc72fd21",
   "metadata": {},
   "source": [
    "**`3. Python program to check leap year`**"
   ]
  },
  {
   "cell_type": "code",
   "execution_count": 25,
   "id": "16728888",
   "metadata": {},
   "outputs": [
    {
     "name": "stdout",
     "output_type": "stream",
     "text": [
      "Enter a year: 67\n",
      "67  is not a leap year\n"
     ]
    }
   ],
   "source": [
    "year = int(input(\"Enter a year: \"))\n",
    "if (year % 4) == 0:\n",
    "    if (year % 100) == 0:\n",
    "        if (year % 400) == 0:\n",
    "            print(year, \" is a leap year\")\n",
    "        else:\n",
    "            print(year, \" is not a leap year\")\n",
    "    else:\n",
    "        print(year, \" is a leap year\")\n",
    "else:\n",
    "    print(year, \" is not a leap year\")"
   ]
  },
  {
   "cell_type": "markdown",
   "id": "b70781d1",
   "metadata": {},
   "source": [
    "**`4. Python program to check whether the given integer is a multiple of 5`**"
   ]
  },
  {
   "cell_type": "code",
   "execution_count": 26,
   "id": "908c6587",
   "metadata": {},
   "outputs": [
    {
     "name": "stdout",
     "output_type": "stream",
     "text": [
      "Enter an integer: 8\n",
      "8 is not a multiple of 5\n"
     ]
    }
   ],
   "source": [
    "number = int(input(\"Enter an integer: \"))\n",
    "if(number%5==0):\n",
    "    print(number, \"is a multile of 5\")\n",
    "else:\n",
    "    print(number, \"is not a multiple of 5\")"
   ]
  },
  {
   "cell_type": "markdown",
   "id": "225cedbc",
   "metadata": {},
   "source": [
    "**`5. Python program to check whether the given integer is a multiple of both 5 and 7`**"
   ]
  },
  {
   "cell_type": "code",
   "execution_count": 27,
   "id": "0b9a3fc2",
   "metadata": {},
   "outputs": [
    {
     "name": "stdout",
     "output_type": "stream",
     "text": [
      "Enter an integer: 8\n",
      "8 is not a multiple of both 5 and 7\n"
     ]
    }
   ],
   "source": [
    "number = int(input(\"Enter an integer: \"))\n",
    "if((number%5==0)and(number%7==0)):\n",
    "    print(number, \"is a multiple of both 5 and 7\")\n",
    "else:\n",
    "    print(number, \"is not a multiple of both 5 and 7\")"
   ]
  },
  {
   "cell_type": "markdown",
   "id": "299ae0ec",
   "metadata": {},
   "source": [
    "*******************************************************"
   ]
  },
  {
   "cell_type": "markdown",
   "id": "552e6fb1",
   "metadata": {},
   "source": [
    "`while loop control structure`\n",
    "--"
   ]
  },
  {
   "cell_type": "code",
   "execution_count": 28,
   "id": "6a6b0c1e",
   "metadata": {},
   "outputs": [
    {
     "data": {
      "image/png": "[encoded data removed]",
      "text/plain": [
       "<IPython.core.display.Image object>"
      ]
     },
     "execution_count": 28,
     "metadata": {},
     "output_type": "execute_result"
    }
   ],
   "source": [
    "from IPython import display\n",
    "display.Image (\"./while.png\")"
   ]
  },
  {
   "cell_type": "markdown",
   "id": "ff3c7227",
   "metadata": {},
   "source": [
    "`while <expr>:\n",
    "    <Statement(s)>`"
   ]
  },
  {
   "cell_type": "markdown",
   "id": "2b093e42",
   "metadata": {},
   "source": [
    ">**Loop**: Iterration means executing the same block of code over and over, potentially many times. A programming sturuture that implements iteration is calle **loop.**"
   ]
  },
  {
   "cell_type": "code",
   "execution_count": 29,
   "id": "e09cbeb2",
   "metadata": {},
   "outputs": [
    {
     "name": "stdout",
     "output_type": "stream",
     "text": [
      "1\n",
      "2\n",
      "3\n",
      "4\n",
      "5\n",
      "while loop completed\n"
     ]
    }
   ],
   "source": [
    "i=1\n",
    "while i<=5:\n",
    "    print(i)\n",
    "    i = i+1 # i++ doesnt exist in python\n",
    "print('while loop completed')"
   ]
  },
  {
   "cell_type": "code",
   "execution_count": 30,
   "id": "e494b7cd",
   "metadata": {},
   "outputs": [
    {
     "name": "stdout",
     "output_type": "stream",
     "text": [
      "14\n",
      "13\n",
      "12\n",
      "11\n",
      "10\n"
     ]
    }
   ],
   "source": [
    "n = 15\n",
    "while n>10:\n",
    "    n= n-1\n",
    "    print(n)"
   ]
  },
  {
   "cell_type": "code",
   "execution_count": 31,
   "id": "8c0a75d5",
   "metadata": {},
   "outputs": [
    {
     "name": "stdout",
     "output_type": "stream",
     "text": [
      "14\n",
      "13\n",
      "12\n",
      "11\n",
      "10\n",
      "Loop done\n"
     ]
    }
   ],
   "source": [
    "n = 15\n",
    "while n>10:\n",
    "    n= n-1\n",
    "    print(n)\n",
    "else:\n",
    "    print('Loop done')"
   ]
  },
  {
   "cell_type": "code",
   "execution_count": 32,
   "id": "5422d1a7",
   "metadata": {},
   "outputs": [
    {
     "name": "stdout",
     "output_type": "stream",
     "text": [
      "M\n",
      "a\n",
      "c\n",
      "h\n",
      "i\n",
      "n\n",
      "e\n",
      " \n",
      "L\n",
      "e\n",
      "a\n",
      "r\n",
      "n\n",
      "i\n",
      "n\n",
      "g\n"
     ]
    }
   ],
   "source": [
    "s = \"Machine Learning\"\n",
    "i=0\n",
    "while i<len(s):\n",
    "    d =s[i]\n",
    "    print(d)\n",
    "    i=i+1"
   ]
  },
  {
   "cell_type": "markdown",
   "id": "eb331b23",
   "metadata": {},
   "source": [
    "`Problems`\n",
    "--"
   ]
  },
  {
   "cell_type": "markdown",
   "id": "4849e9f4",
   "metadata": {},
   "source": [
    "**`1. Example of using while loops in Python`**"
   ]
  },
  {
   "cell_type": "code",
   "execution_count": 33,
   "id": "9b8888ef",
   "metadata": {},
   "outputs": [
    {
     "name": "stdout",
     "output_type": "stream",
     "text": [
      "Hello Pythonista\n",
      "Hello Pythonista\n",
      "Hello Pythonista\n",
      "Hello Pythonista\n"
     ]
    }
   ],
   "source": [
    "n = 1\n",
    "while n < 5:\n",
    "    print(\"Hello Pythonista\")\n",
    "    n = n+1"
   ]
  },
  {
   "cell_type": "markdown",
   "id": "ae6fe0dc",
   "metadata": {},
   "source": [
    "**`2. Example of using the break statement in while loops`**"
   ]
  },
  {
   "cell_type": "code",
   "execution_count": 34,
   "id": "ff80f148",
   "metadata": {},
   "outputs": [
    {
     "name": "stdout",
     "output_type": "stream",
     "text": [
      "Hello Pythonista\n",
      "Hello Pythonista\n"
     ]
    }
   ],
   "source": [
    "n = 1\n",
    "while n < 5:\n",
    "    print(\"Hello Pythonista\")\n",
    "    n = n+1\n",
    "    if n == 3:\n",
    "        break"
   ]
  },
  {
   "cell_type": "markdown",
   "id": "e59e7f05",
   "metadata": {},
   "source": [
    "**`3. Example of using the continue statement in while loops`**"
   ]
  },
  {
   "cell_type": "code",
   "execution_count": 35,
   "id": "69b71b70",
   "metadata": {},
   "outputs": [
    {
     "name": "stdout",
     "output_type": "stream",
     "text": [
      "Hello Pythonista\n",
      "Hello Pythonista\n",
      "Hello Pythonista\n"
     ]
    }
   ],
   "source": [
    "n = 1\n",
    "while n < 5:\n",
    "    if n == 2:\n",
    "        n = n+1\n",
    "        continue\n",
    "    print(\"Hello Pythonista\")\n",
    "    n = n+1"
   ]
  },
  {
   "cell_type": "markdown",
   "id": "c1dbba6d",
   "metadata": {},
   "source": [
    "**`4. Using if-elif-else statements inside while loop`**"
   ]
  },
  {
   "cell_type": "code",
   "execution_count": 36,
   "id": "aefd2029",
   "metadata": {},
   "outputs": [
    {
     "name": "stdout",
     "output_type": "stream",
     "text": [
      "z is 0\n",
      "z is 1\n",
      "z is 2\n"
     ]
    }
   ],
   "source": [
    "z = 0\n",
    "while z < 3:\n",
    "    if z == 0:\n",
    "        print(\"z is\",z)\n",
    "        z += 1\n",
    "    elif z == 1:\n",
    "        print(\"z is\",z)\n",
    "        z += 1\n",
    "    else:\n",
    "        print(\"z is\",z)\n",
    "        z += 1"
   ]
  },
  {
   "cell_type": "markdown",
   "id": "9ecece6f",
   "metadata": {},
   "source": [
    "**`5. Adding elements to a list using while loop`**"
   ]
  },
  {
   "cell_type": "code",
   "execution_count": 37,
   "id": "45d9f4c0",
   "metadata": {},
   "outputs": [
    {
     "name": "stdout",
     "output_type": "stream",
     "text": [
      "[0, 1, 2, 3]\n"
     ]
    }
   ],
   "source": [
    "myList = []\n",
    "i = 0\n",
    "while len(myList) < 4 :\n",
    "    myList.append(i)\n",
    "    i += 1 \n",
    "print(myList)"
   ]
  },
  {
   "cell_type": "markdown",
   "id": "4eb7abed",
   "metadata": {},
   "source": [
    "**` 6.Print First 10 natural numbers using while loop`**"
   ]
  },
  {
   "cell_type": "code",
   "execution_count": 38,
   "id": "d3296de9",
   "metadata": {},
   "outputs": [
    {
     "name": "stdout",
     "output_type": "stream",
     "text": [
      "1\n",
      "2\n",
      "3\n",
      "4\n",
      "5\n",
      "6\n",
      "7\n",
      "8\n",
      "9\n",
      "10\n"
     ]
    }
   ],
   "source": [
    "i = 1\n",
    "while i <= 10:\n",
    "    print(i)\n",
    "    i += 1"
   ]
  },
  {
   "cell_type": "markdown",
   "id": "5816114c",
   "metadata": {},
   "source": [
    "**`7. Python while loop to print a number series`**"
   ]
  },
  {
   "cell_type": "code",
   "execution_count": 39,
   "id": "5cfd1fca",
   "metadata": {},
   "outputs": [
    {
     "name": "stdout",
     "output_type": "stream",
     "text": [
      "10,20,30,40,50,60,70,80,90,100,"
     ]
    }
   ],
   "source": [
    "n = 10\n",
    "while n <= 100:\n",
    "    print(n ,end = \",\")\n",
    "    n = n+10"
   ]
  },
  {
   "cell_type": "markdown",
   "id": "4de72a31",
   "metadata": {},
   "source": [
    "**`8. Printing the items in a tuple using while loop`**"
   ]
  },
  {
   "cell_type": "code",
   "execution_count": 40,
   "id": "d1ab4f9b",
   "metadata": {},
   "outputs": [
    {
     "name": "stdout",
     "output_type": "stream",
     "text": [
      "10\n",
      "20\n",
      "30\n",
      "40\n",
      "50\n",
      "60\n"
     ]
    }
   ],
   "source": [
    "myTuple = (10,20,30,40,50,60)\n",
    "i = 0\n",
    "while i < len(myTuple):\n",
    "    print(myTuple[i])\n",
    "    i += 1"
   ]
  },
  {
   "cell_type": "markdown",
   "id": "84426ec8",
   "metadata": {},
   "source": [
    "**`9. Finding the sum of numbers in a list using while loop`**"
   ]
  },
  {
   "cell_type": "code",
   "execution_count": 41,
   "id": "71906b26",
   "metadata": {},
   "outputs": [
    {
     "name": "stdout",
     "output_type": "stream",
     "text": [
      "115\n"
     ]
    }
   ],
   "source": [
    "myList = [23,45,12,10,25]\n",
    "i = 0 \n",
    "sum = 0\n",
    "while i < len(myList):\n",
    "    sum += myList[i]\n",
    "    i += 1\n",
    "print(sum)"
   ]
  },
  {
   "cell_type": "markdown",
   "id": "d3e8b458",
   "metadata": {},
   "source": [
    "**`10. Converting numbers from decimal to binary using while loop`**"
   ]
  },
  {
   "cell_type": "code",
   "execution_count": 42,
   "id": "653c3925",
   "metadata": {},
   "outputs": [
    {
     "name": "stdout",
     "output_type": "stream",
     "text": [
      "Enter a number: 8\n",
      "Binary value:  1000\n"
     ]
    }
   ],
   "source": [
    "num = int(input(\"Enter a number: \"))\n",
    "b = 0\n",
    "p = 1\n",
    "n = num\n",
    "while n>0:\n",
    "    rem = n%2\n",
    "    b += rem * p\n",
    "    p = p*10\n",
    "    n = n//2\n",
    "print(\"Binary value: \",b)"
   ]
  },
  {
   "cell_type": "markdown",
   "id": "66d4129f",
   "metadata": {},
   "source": [
    "**`11. Printing the square of numbers using while loop`**"
   ]
  },
  {
   "cell_type": "code",
   "execution_count": 43,
   "id": "c63d206b",
   "metadata": {},
   "outputs": [
    {
     "name": "stdout",
     "output_type": "stream",
     "text": [
      "1 1\n",
      "2 4\n",
      "3 9\n",
      "4 16\n",
      "5 25\n"
     ]
    }
   ],
   "source": [
    "n = 1\n",
    "while n <= 5:\n",
    "    squareNum = n**2\n",
    "    print(n,squareNum)\n",
    "    n += 1"
   ]
  },
  {
   "cell_type": "markdown",
   "id": "1f33f6af",
   "metadata": {},
   "source": [
    "**`12. Finding the multiples of a number using while loop`**"
   ]
  },
  {
   "cell_type": "code",
   "execution_count": 44,
   "id": "8a4b3107",
   "metadata": {},
   "outputs": [
    {
     "name": "stdout",
     "output_type": "stream",
     "text": [
      "Enter an integer: 8\n",
      "8\n",
      "16\n",
      "24\n",
      "32\n",
      "40\n",
      "48\n",
      "56\n",
      "64\n",
      "72\n",
      "80\n"
     ]
    }
   ],
   "source": [
    "n = int(input(\"Enter an integer: \"))\n",
    "i = 1\n",
    "while i <= 10:\n",
    "    mul = i*n\n",
    "    i += 1\n",
    "    print(mul)"
   ]
  },
  {
   "cell_type": "markdown",
   "id": "6dd91729",
   "metadata": {},
   "source": [
    "**`13.Write a program to display the first 7 multiples of 7.`**"
   ]
  },
  {
   "cell_type": "code",
   "execution_count": 45,
   "id": "7766f2a5",
   "metadata": {},
   "outputs": [
    {
     "name": "stdout",
     "output_type": "stream",
     "text": [
      "0 7 14 21 28 35 42 49 "
     ]
    }
   ],
   "source": [
    "# First 7 numbers multiple of 7\n",
    "count = 0\n",
    "for i in range(200):\n",
    "    if i%7 == 0:\n",
    "        print(i,end=\" \")\n",
    "        count = count+1\n",
    "        if count == 8:\n",
    "            break"
   ]
  },
  {
   "cell_type": "markdown",
   "id": "c585dfb3",
   "metadata": {},
   "source": [
    "**`14.count the total number of digits in a number\n",
    "For example, the number is 75869, so the output should be 5.`**"
   ]
  },
  {
   "cell_type": "code",
   "execution_count": 46,
   "id": "d9cf7884",
   "metadata": {},
   "outputs": [
    {
     "name": "stdout",
     "output_type": "stream",
     "text": [
      "Total digits are: 5\n"
     ]
    }
   ],
   "source": [
    "num = 75869\n",
    "count = 0\n",
    "while num != 0:\n",
    "    # floor division\n",
    "    # to reduce the last digit from number\n",
    "    num = num // 10\n",
    "\n",
    "    # increment counter by 1\n",
    "    count = count + 1\n",
    "print(\"Total digits are:\", count)"
   ]
  },
  {
   "cell_type": "markdown",
   "id": "234bc711",
   "metadata": {},
   "source": [
    "**`14. Python program to display the given integer in reverse manner`**"
   ]
  },
  {
   "cell_type": "code",
   "execution_count": 47,
   "id": "dbafe56f",
   "metadata": {},
   "outputs": [
    {
     "name": "stdout",
     "output_type": "stream",
     "text": [
      "Enter a positive integer: 8\n",
      "8\n"
     ]
    }
   ],
   "source": [
    "# Reverse a number\n",
    "number = int(input(\"Enter a positive integer: \"))\n",
    "rev = 0\n",
    "while(number!=0):\n",
    "    digit = number%10\n",
    "    rev = (rev*10)+digit\n",
    "    number = number//10\n",
    "print(rev)"
   ]
  },
  {
   "cell_type": "markdown",
   "id": "0c565059",
   "metadata": {},
   "source": [
    "**`15. Python program to find the average of 10 numbers using while loop`**"
   ]
  },
  {
   "cell_type": "code",
   "execution_count": null,
   "id": "95bb4ce6",
   "metadata": {},
   "outputs": [
    {
     "name": "stdout",
     "output_type": "stream",
     "text": [
      "Enter a real number: 8\n",
      "Enter a real number: 9\n"
     ]
    }
   ],
   "source": [
    "count = 0\n",
    "sum = 0.0\n",
    "while(count<10):\n",
    "    number = float(input(\"Enter a real number: \"))\n",
    "    count=count+1\n",
    "    sum = sum+number\n",
    "avg = sum/10;\n",
    "print(\"Average is :\",avg)"
   ]
  },
  {
   "cell_type": "markdown",
   "id": "73fe32a5",
   "metadata": {},
   "source": [
    "**`16. Python program to find the sum of the digits of an integer using while loop`**"
   ]
  },
  {
   "cell_type": "code",
   "execution_count": null,
   "id": "57172289",
   "metadata": {},
   "outputs": [],
   "source": [
    "sum = 0\n",
    "number = int(input(\"Enter an integer: \"))\n",
    "while(number!=0):\n",
    "    digit = number%10\n",
    "    sum = sum+digit\n",
    "    number = number//10\n",
    "print(\"Sum of digits is: \", sum)"
   ]
  },
  {
   "cell_type": "markdown",
   "id": "f014e257",
   "metadata": {},
   "source": [
    "**`17.Take 10 integers from keyboard using loop and print their average value on the screen.`**"
   ]
  },
  {
   "cell_type": "code",
   "execution_count": null,
   "id": "2d72ccc2",
   "metadata": {},
   "outputs": [],
   "source": [
    "sum = 0\n",
    "i = 10\n",
    "while i>0:\n",
    "    print (\"Enter number\")\n",
    "    num = input()\n",
    "    sum = sum + num\n",
    "    i = i-1\n",
    "print(\"average is\", sum/10.0)"
   ]
  },
  {
   "cell_type": "markdown",
   "id": "d55ede3a",
   "metadata": {},
   "source": [
    "**`18.Print multiplication table of 24, 50 and 29 using loop.`**"
   ]
  },
  {
   "cell_type": "code",
   "execution_count": null,
   "id": "0cceff8c",
   "metadata": {},
   "outputs": [],
   "source": [
    "i = 1\n",
    "while i<=10:\n",
    "    print(24*i)\n",
    "    i = i+1"
   ]
  },
  {
   "cell_type": "markdown",
   "id": "1c428608",
   "metadata": {},
   "source": [
    "**`19.Factorial of any number n is represented by n! and is equal to 1*2*3*....*(n-1)*n. E.g.-\n",
    "4! = 1*2*3*4 = 24\n",
    "3! = 3*2*1 = 6\n",
    "2! = 2*1 = 2\n",
    "Also,\n",
    "1! = 1\n",
    "0! = 1\n",
    "Write a program to calculate factorial of a number.`**"
   ]
  },
  {
   "cell_type": "code",
   "execution_count": null,
   "id": "7cdd53b2",
   "metadata": {},
   "outputs": [],
   "source": [
    "num =7\n",
    "factorial =1\n",
    "if num <0:\n",
    "    print(\"Sorry, factorial does not exit for negavtive numbers\")\n",
    "elif num==0:\n",
    "    print(\"The factorial of 0 is 1\")\n",
    "else:\n",
    "     for i in range(1, num+1):\n",
    "            factorial =factorial*i\n",
    "            print(\"The factorial of \",num, \"is\", factorial)"
   ]
  },
  {
   "cell_type": "markdown",
   "id": "1ad21c1a",
   "metadata": {},
   "source": [
    "**`20.Write a program to print n natural number in descending order using a while loop.`**"
   ]
  },
  {
   "cell_type": "code",
   "execution_count": 24,
   "id": "41a16fad",
   "metadata": {},
   "outputs": [
    {
     "name": "stdout",
     "output_type": "stream",
     "text": [
      "Enter range: 89\n",
      "89 88 87 86 85 84 83 82 81 80 79 78 77 76 75 74 73 72 71 70 69 68 67 66 65 64 63 62 61 60 59 58 57 56 55 54 53 52 51 50 49 48 47 46 45 44 43 42 41 40 39 38 37 36 35 34 33 32 31 30 29 28 27 26 25 24 23 22 21 20 19 18 17 16 15 14 13 12 11 10 9 8 7 6 5 4 3 2 1 "
     ]
    }
   ],
   "source": [
    "# N natural number\n",
    "n = int(input(\"Enter range: \")) #10\n",
    "while(n!=0):\n",
    "    print(n, end=\" \")\n",
    "    n = n - 1"
   ]
  },
  {
   "cell_type": "markdown",
   "id": "2a7a0e60",
   "metadata": {},
   "source": [
    "**`21. Python program to print Fibonacci series using iteration`**"
   ]
  },
  {
   "cell_type": "code",
   "execution_count": null,
   "id": "8455d306",
   "metadata": {},
   "outputs": [],
   "source": [
    "a = 0\n",
    "b = 1\n",
    "n=int(input(\"Enter the number of terms in the sequence: \"))\n",
    "print(a,b,end=\" \")\n",
    "while(n-2):\n",
    "    c=a+b\n",
    "    a,b = b,c\n",
    "    print(c,end=\" \")\n",
    "    n=n-1"
   ]
  },
  {
   "cell_type": "markdown",
   "id": "8e170b0f",
   "metadata": {},
   "source": [
    "**`22. Finding the average of 5 numbers using while loop`**"
   ]
  },
  {
   "cell_type": "code",
   "execution_count": null,
   "id": "4b796da8",
   "metadata": {},
   "outputs": [],
   "source": [
    "p = 5\n",
    "sum = 0\n",
    "count = 0\n",
    "\n",
    "while p > 0:\n",
    "    count += 1\n",
    "    f = int(input(\"Enter the number \"))\n",
    "    sum += f\n",
    "    p -= 1\n",
    "average = sum/count\n",
    "print(\"Average of given Numbers:\",average)"
   ]
  },
  {
   "cell_type": "markdown",
   "id": "dec01d15",
   "metadata": {},
   "source": [
    "*****************************************************************************************************************************"
   ]
  },
  {
   "cell_type": "markdown",
   "id": "80d7b7a0",
   "metadata": {},
   "source": [
    "`for-loop `\n",
    "--"
   ]
  },
  {
   "cell_type": "code",
   "execution_count": null,
   "id": "01e323a4",
   "metadata": {},
   "outputs": [],
   "source": [
    "from IPython import display\n",
    "display.Image (\"./for_loop.png\",width=250,height=500)"
   ]
  },
  {
   "cell_type": "code",
   "execution_count": 32,
   "id": "c1154536",
   "metadata": {},
   "outputs": [
    {
     "name": "stdout",
     "output_type": "stream",
     "text": [
      "1\n",
      "2\n",
      "3\n",
      "4\n",
      "5\n",
      "7\n",
      "8\n",
      "9\n",
      "10\n",
      "Out of for loop\n"
     ]
    }
   ],
   "source": [
    "n = [1,2,3,4,5,7,8,9,10]\n",
    "for i in n:\n",
    "    print(i)\n",
    "print(\"Out of for loop\")"
   ]
  },
  {
   "cell_type": "code",
   "execution_count": 33,
   "id": "5293a3df",
   "metadata": {},
   "outputs": [
    {
     "name": "stdout",
     "output_type": "stream",
     "text": [
      "Bhushan\n",
      "Indian\n",
      "Class Infinity\n"
     ]
    }
   ],
   "source": [
    "names = [\"Bhushan\", \"Indian\", \"Class Infinity\"]\n",
    "for i in names:\n",
    "    print(i)"
   ]
  },
  {
   "cell_type": "code",
   "execution_count": 34,
   "id": "694d5230",
   "metadata": {},
   "outputs": [
    {
     "name": "stdout",
     "output_type": "stream",
     "text": [
      "Machine Learning"
     ]
    }
   ],
   "source": [
    "s = \"Machine Learning\"\n",
    "for i in s:\n",
    "    print(i,end=\"\")"
   ]
  },
  {
   "cell_type": "markdown",
   "id": "25a46851",
   "metadata": {},
   "source": [
    "`range function:`\n",
    "--\n",
    "\n",
    ">range(5): It goes from 0 to 4 to generate a sequence of numbers\n",
    "\n",
    ">range(start, stop, stepsize): Default stepsize is 1"
   ]
  },
  {
   "cell_type": "code",
   "execution_count": 35,
   "id": "05aea85d",
   "metadata": {},
   "outputs": [
    {
     "data": {
      "text/plain": [
       "range(0, 5)"
      ]
     },
     "execution_count": 35,
     "metadata": {},
     "output_type": "execute_result"
    }
   ],
   "source": [
    "range(5)"
   ]
  },
  {
   "cell_type": "code",
   "execution_count": 36,
   "id": "1ee4056a",
   "metadata": {},
   "outputs": [
    {
     "name": "stdout",
     "output_type": "stream",
     "text": [
      "0 1 2 3 4 "
     ]
    }
   ],
   "source": [
    "for i in range(5):\n",
    "    print(i,end=\" \")"
   ]
  },
  {
   "cell_type": "code",
   "execution_count": 37,
   "id": "b85a4508",
   "metadata": {},
   "outputs": [
    {
     "name": "stdout",
     "output_type": "stream",
     "text": [
      "2 3 4 "
     ]
    }
   ],
   "source": [
    "for i in range(2,5):\n",
    "    print(i,end=\" \")"
   ]
  },
  {
   "cell_type": "code",
   "execution_count": 38,
   "id": "21cb79ab",
   "metadata": {},
   "outputs": [
    {
     "name": "stdout",
     "output_type": "stream",
     "text": [
      "2 3 4 5 6 7 8 9 "
     ]
    }
   ],
   "source": [
    "for i in range(2,10):\n",
    "    print(i,end=\" \")"
   ]
  },
  {
   "cell_type": "code",
   "execution_count": 39,
   "id": "f51acf22",
   "metadata": {},
   "outputs": [
    {
     "name": "stdout",
     "output_type": "stream",
     "text": [
      "2 4 6 8 "
     ]
    }
   ],
   "source": [
    "for i in range(2,10,2):\n",
    "    print(i,end=\" \")"
   ]
  },
  {
   "cell_type": "code",
   "execution_count": 40,
   "id": "c363bb08",
   "metadata": {},
   "outputs": [
    {
     "name": "stdout",
     "output_type": "stream",
     "text": [
      "2 5 8 11 14 "
     ]
    }
   ],
   "source": [
    "for i in range(2,15,3):\n",
    "    print(i,end=\" \")"
   ]
  },
  {
   "cell_type": "markdown",
   "id": "255306f7",
   "metadata": {},
   "source": [
    "`Problem`\n",
    "--"
   ]
  },
  {
   "cell_type": "markdown",
   "id": "e7a54365",
   "metadata": {},
   "source": [
    "**`1.Program to display sum of numbers`**"
   ]
  },
  {
   "cell_type": "code",
   "execution_count": null,
   "id": "d6d1789c",
   "metadata": {},
   "outputs": [],
   "source": [
    "sum=0\n",
    "for i in range(5):\n",
    "    sum = sum + i\n",
    "print(\"Sum= \",sum)"
   ]
  },
  {
   "cell_type": "markdown",
   "id": "0e186f0d",
   "metadata": {},
   "source": [
    "**`2.Program to display sum of numbers from 1 to 1001`**"
   ]
  },
  {
   "cell_type": "code",
   "execution_count": null,
   "id": "eda28de4",
   "metadata": {},
   "outputs": [],
   "source": [
    "sum=0\n",
    "for i in range(1,1001):\n",
    "    sum = sum + i\n",
    "print(\"Sum= \",sum)"
   ]
  },
  {
   "cell_type": "markdown",
   "id": "7261393a",
   "metadata": {},
   "source": [
    "**`3.Program to display even numbers in given range`**"
   ]
  },
  {
   "cell_type": "code",
   "execution_count": null,
   "id": "fb6934fe",
   "metadata": {},
   "outputs": [],
   "source": [
    "for i in range(2, 20, 2):\n",
    "    print(i)"
   ]
  },
  {
   "cell_type": "markdown",
   "id": "978aba7a",
   "metadata": {},
   "source": [
    "**`4.Calculate the sum of all numbers from 1 to a given number`**"
   ]
  },
  {
   "cell_type": "code",
   "execution_count": null,
   "id": "bdf8eab5",
   "metadata": {},
   "outputs": [],
   "source": [
    "# s: store sum of all numbers\n",
    "s = 0\n",
    "n = int(input(\"Enter number \"))\n",
    "# run loop n times\n",
    "# stop: n+1 (because range never include stop number in result)\n",
    "for i in range(1, n + 1, 1):\n",
    "    # add current number to sum variable\n",
    "    s += i\n",
    "print(\"\\n\")\n",
    "print(\"Sum is: \", s)"
   ]
  },
  {
   "cell_type": "markdown",
   "id": "a8495e2c",
   "metadata": {},
   "source": [
    "**`5.Write a program to print multiplication table of a given number`**"
   ]
  },
  {
   "cell_type": "code",
   "execution_count": null,
   "id": "f8256c18",
   "metadata": {},
   "outputs": [],
   "source": [
    "For example, num = 2 so the output should be`**\n",
    "n = 2\n",
    "# stop: 11 (because range never include stop number in result)\n",
    "# run loop 10 times\n",
    "for i in range(1, 11, 1):\n",
    "    # 2 *i (current number)\n",
    "    product = n * i\n",
    "    print(product)"
   ]
  },
  {
   "cell_type": "markdown",
   "id": "ce16096b",
   "metadata": {},
   "source": [
    "**`6. Python program to find out the average of a set of integers`**"
   ]
  },
  {
   "cell_type": "code",
   "execution_count": null,
   "id": "cc5cd895",
   "metadata": {},
   "outputs": [],
   "source": [
    "count = int(input(\"Enter the count of numbers: \"))\n",
    "i = 0\n",
    "sum = 0\n",
    "for i in range(count):\n",
    "    x = int(input(\"Enter an integer: \"))\n",
    "    sum = sum + x\n",
    "avg = sum/count\n",
    "print(\" The average is: \", avg)"
   ]
  },
  {
   "cell_type": "markdown",
   "id": "11b2f6c2",
   "metadata": {},
   "source": [
    "**`7. Python program to find the product of a set of real numbers`**"
   ]
  },
  {
   "cell_type": "code",
   "execution_count": null,
   "id": "65784ef9",
   "metadata": {},
   "outputs": [],
   "source": [
    "i = 0\n",
    "product = 1\n",
    "count = int(input(\"Enter the number of real numbers: \"))\n",
    "for i in range(count):\n",
    "    x = float(input(\"Enter a real number: \"))\n",
    "    product = product * x\n",
    "print(\"The product of the numbers is: \", product)"
   ]
  },
  {
   "cell_type": "markdown",
   "id": "c79e032e",
   "metadata": {},
   "source": [
    "**`8. Python program to display all the multiples of 3 within the range 10 to 50`**"
   ]
  },
  {
   "cell_type": "code",
   "execution_count": null,
   "id": "3fa7fb2d",
   "metadata": {},
   "outputs": [],
   "source": [
    "for i in range(10,50):\n",
    "    if (i%3==0):\n",
    "        print(i)"
   ]
  },
  {
   "cell_type": "markdown",
   "id": "7c56529a",
   "metadata": {},
   "source": [
    "**`9.Print multiplication table form 1 to 10`**"
   ]
  },
  {
   "cell_type": "code",
   "execution_count": null,
   "id": "c9fb26d7",
   "metadata": {},
   "outputs": [],
   "source": [
    "for i in range(1, 11):\n",
    "    for j in range(1, 11):\n",
    "        print(i * j, end=\" \")\n",
    "    print(\"\\t\\t\")"
   ]
  },
  {
   "cell_type": "markdown",
   "id": "ea74fc04",
   "metadata": {},
   "source": [
    "**`10.Python program to display the sum of n numbers using a list`**"
   ]
  },
  {
   "cell_type": "code",
   "execution_count": null,
   "id": "590579a3",
   "metadata": {},
   "outputs": [],
   "source": [
    "numbers = []\n",
    "num = int(input('How many numbers: '))\n",
    "for n in range(num):\n",
    "    x = int(input('Enter number '))\n",
    "    numbers.append(x)\n",
    "print(\"Sum of numbers in the given list is :\", sum(numbers))"
   ]
  },
  {
   "cell_type": "markdown",
   "id": "e8875a7c",
   "metadata": {},
   "source": [
    "**`11.Python program to print all the items in a dictionary`**"
   ]
  },
  {
   "cell_type": "code",
   "execution_count": null,
   "id": "a2c0e631",
   "metadata": {},
   "outputs": [],
   "source": [
    "phone_book = {\n",
    "'John' : [ '8592970000', 'john@xyzmail.com' ],\n",
    "'Bob': [ '7994880000', 'bob@xyzmail.com' ],\n",
    "'Tom' : [ '9749552647' , 'tom@xyzmail.com' ]\n",
    "}\n",
    "for k,v in phone_book.items():\n",
    "    print(k, \":\", v)"
   ]
  },
  {
   "cell_type": "markdown",
   "id": "04f68a36",
   "metadata": {},
   "source": [
    "**`12.Write a program that appends the square of each number to a new list.`**"
   ]
  },
  {
   "cell_type": "code",
   "execution_count": null,
   "id": "5ed2f642",
   "metadata": {},
   "outputs": [],
   "source": [
    "#Appending square to a new list\n",
    "x = [2,3,4,5,6,7,8]\n",
    "z = []\n",
    "for i in range(len(x)):\n",
    "    z.append(x[i]**2)\n",
    "print(\"Result: \",z)"
   ]
  },
  {
   "cell_type": "markdown",
   "id": "87b3092a",
   "metadata": {},
   "source": [
    "**`13.WAP to separate positive and negative number from a list.`**"
   ]
  },
  {
   "cell_type": "code",
   "execution_count": null,
   "id": "37bf2d0e",
   "metadata": {},
   "outputs": [],
   "source": [
    "# Program to separate +ve and -ve\n",
    "x = [23,4,-6,23,-9,21,3,-45,-8]\n",
    "pos = []\n",
    "neg = []\n",
    "for i in range(len(x)):\n",
    "    if x[i] < 0:\n",
    "        neg.append(x[i])\n",
    "    else:\n",
    "        pos.append(x[i])\n",
    "print(\"Positive numbers are: \",pos)\n",
    "print(\"Negative numbers are: \",neg)"
   ]
  },
  {
   "cell_type": "markdown",
   "id": "6601ccd9",
   "metadata": {},
   "source": [
    "**`14.Write a program to filter even and odd number from a list.`**"
   ]
  },
  {
   "cell_type": "code",
   "execution_count": null,
   "id": "c7adfb7d",
   "metadata": {},
   "outputs": [],
   "source": [
    "# WAP to filter even and odd number form a list\n",
    "x = [10,23,24,35,65,78,90]\n",
    "eve = []\n",
    "odd = []\n",
    "for i in range(len(x)):\n",
    "    if x[i] % 2 == 0:\n",
    "        eve.append(x[i])\n",
    "    else:\n",
    "        odd.append(x[i])\n",
    "print(\"Even numbers are: \",eve)\n",
    "print(\"Odd numbers are: \",odd)"
   ]
  },
  {
   "cell_type": "markdown",
   "id": "e4de506a",
   "metadata": {},
   "source": [
    "**`15.Write a program to fetch only even values from a dictionary.`**"
   ]
  },
  {
   "cell_type": "code",
   "execution_count": null,
   "id": "22d21ab4",
   "metadata": {},
   "outputs": [],
   "source": [
    "# Fetch only even values form a dictionary and append to a list\n",
    "dic = {'val1':10, 'val2':20, 'val3':23, 'val4':22 }\n",
    "for i in dic.values():\n",
    "    if i % 2 ==0:\n",
    "        print(i,end=\" \")\n",
    "    else:\n",
    "        pass"
   ]
  },
  {
   "cell_type": "markdown",
   "id": "75812a9c",
   "metadata": {},
   "source": [
    "**`16.Python program to find the largest number in a list without using built-in functions`**"
   ]
  },
  {
   "cell_type": "code",
   "execution_count": null,
   "id": "df1a054f",
   "metadata": {},
   "outputs": [],
   "source": [
    "numbers = [3,8,1,7,2,9,5,4]\n",
    "big = numbers[0]\n",
    "position = 0\n",
    "for i in range(len(numbers)):\n",
    "    if (numbers[i]>big):\n",
    "        big = numbers[i]\n",
    "        position = i\n",
    "print(\"The largest element is \",big,\" which is found at position \",position)"
   ]
  },
  {
   "cell_type": "markdown",
   "id": "2af3d143",
   "metadata": {},
   "source": [
    "**`17.Python program to find the odd numbers in an array`**"
   ]
  },
  {
   "cell_type": "code",
   "execution_count": null,
   "id": "57807f0d",
   "metadata": {},
   "outputs": [],
   "source": [
    "numbers = [8,3,1,6,2,4,5,9]\n",
    "count = 0\n",
    "for i in range(len(numbers)):\n",
    "    if(numbers[i]%2!=0):\n",
    "        count = count+1\n",
    "print(\"The number of odd numbers in the list are: \", count)"
   ]
  },
  {
   "cell_type": "code",
   "execution_count": null,
   "id": "e7506df0",
   "metadata": {},
   "outputs": [],
   "source": [
    "**`18. Python program to implement matrix multiplication`**"
   ]
  },
  {
   "cell_type": "code",
   "execution_count": null,
   "id": "0e9da838",
   "metadata": {},
   "outputs": [],
   "source": [
    "X = [[8,5,1],\n",
    "[9 ,3,2],\n",
    "[4 ,6,3]]\n",
    "Y = [[8,5,3],\n",
    "[9,5,7],\n",
    "[9,4,1]]\n",
    "result = [[0,0,0,0],\n",
    "[0,0,0,0],\n",
    "[0,0,0,0]]\n",
    "for i in range(len(X)):\n",
    "    for j in range(len(Y[0])):\n",
    "        for k in range(len(Y)):\n",
    "            result[i][j] += X[i][k] * Y[k][j]\n",
    "for x in result:\n",
    "    print(x)"
   ]
  },
  {
   "cell_type": "code",
   "execution_count": null,
   "id": "652ce506",
   "metadata": {},
   "outputs": [],
   "source": [
    "**`19.Python program to implement matrix addition`**"
   ]
  },
  {
   "cell_type": "code",
   "execution_count": null,
   "id": "c1f66e42",
   "metadata": {},
   "outputs": [],
   "source": [
    "X = [[8,5,1],\n",
    "[9 ,3,2],\n",
    "[4 ,6,3]]\n",
    "Y = [[8,5,3],\n",
    "[9,5,7],\n",
    "[9,4,1]]\n",
    "result = [[0,0,0],\n",
    "[0,0,0],\n",
    "[0,0,0]]\n",
    "for i in range(len(X)):\n",
    "    for j in range(len(X[0])):\n",
    "        result[i][j] = X[i][j] + Y[i][j]\n",
    "for k in result:\n",
    "    print(k)"
   ]
  },
  {
   "cell_type": "markdown",
   "id": "45e93c3f",
   "metadata": {},
   "source": [
    "****************************************************************************************************************************"
   ]
  },
  {
   "cell_type": "markdown",
   "id": "a2b07d60",
   "metadata": {},
   "source": [
    "`Break , Continue and Pass`\n",
    "--\n",
    "> Break will exit the for loop.\n",
    "\n",
    ">Continue will take you back to the for loop, by skipping the conditions."
   ]
  },
  {
   "cell_type": "code",
   "execution_count": 47,
   "id": "80e27f7d",
   "metadata": {},
   "outputs": [
    {
     "name": "stdout",
     "output_type": "stream",
     "text": [
      "1\n",
      "2\n",
      "3\n"
     ]
    }
   ],
   "source": [
    "n = [1,2,3,4,5]\n",
    "for i in n:\n",
    "    if(i==4):\n",
    "        break\n",
    "    else:\n",
    "        print(i)"
   ]
  },
  {
   "cell_type": "code",
   "execution_count": 48,
   "id": "5fcce063",
   "metadata": {},
   "outputs": [
    {
     "name": "stdout",
     "output_type": "stream",
     "text": [
      "1\n",
      "2\n",
      "3\n",
      "5\n"
     ]
    }
   ],
   "source": [
    "n = [1,2,3,4,5]\n",
    "for i in n:\n",
    "    if(i==4):\n",
    "        continue\n",
    "    else:\n",
    "        print(i)"
   ]
  },
  {
   "cell_type": "code",
   "execution_count": 49,
   "id": "ae849fe6",
   "metadata": {},
   "outputs": [
    {
     "name": "stdout",
     "output_type": "stream",
     "text": [
      "1, 2, 3, 6, 7, 8, 9, 10, 555, 6, 7, 32, 2, 1, 6, 99, 100, 66, "
     ]
    }
   ],
   "source": [
    "n = [1,2,3,4,5,6,4,7,8,4,9,10,4,555,4,6,7,5,32,5,2,1,4,5,6,99,100,5,66]\n",
    "for i in n:\n",
    "    if(i==4 or i==5):\n",
    "        continue\n",
    "    else:\n",
    "        print(i,end=\", \")"
   ]
  },
  {
   "cell_type": "code",
   "execution_count": 50,
   "id": "72c3951c",
   "metadata": {},
   "outputs": [
    {
     "name": "stdout",
     "output_type": "stream",
     "text": [
      "b\n",
      "o\n",
      "a\n",
      "Pass excuted\n",
      "r\n",
      "d\n"
     ]
    }
   ],
   "source": [
    "s= 'board'\n",
    "for i in s:\n",
    "    if i=='r':\n",
    "        print('Pass excuted')\n",
    "        pass\n",
    "    print(i)"
   ]
  },
  {
   "cell_type": "markdown",
   "id": "8cd00995",
   "metadata": {},
   "source": [
    "`Problems`\n",
    "--"
   ]
  },
  {
   "cell_type": "markdown",
   "id": "93dc5b13",
   "metadata": {},
   "source": [
    "**`1.Display numbers from a list using loop,Write a program to display only those numbers from a list that satisfy the following conditions;\n",
    "1.The number must be divisible by five\n",
    "2.If the number is greater than 150, then skip it and move to the next number\n",
    "3.If the number is greater than 500, then stop the loop\n",
    "numbers = [12, 75, 150, 180, 145, 525, 50]`**"
   ]
  },
  {
   "cell_type": "code",
   "execution_count": 51,
   "id": "302bc351",
   "metadata": {},
   "outputs": [
    {
     "name": "stdout",
     "output_type": "stream",
     "text": [
      "75\n",
      "150\n",
      "145\n"
     ]
    }
   ],
   "source": [
    "numbers = [12, 75, 150, 180, 145, 525, 50]\n",
    "# iterate each item of a list\n",
    "for item in numbers:\n",
    "    if item > 500:\n",
    "        break\n",
    "    elif item > 150:\n",
    "        continue\n",
    "    # check if number is divisible by 5\n",
    "    elif item % 5 == 0:\n",
    "        print(item)"
   ]
  },
  {
   "cell_type": "markdown",
   "id": "d2520c5f",
   "metadata": {},
   "source": [
    "**`2. Python program to check whether the given integer is a prime number or not`**"
   ]
  },
  {
   "cell_type": "code",
   "execution_count": null,
   "id": "d8d89c08",
   "metadata": {},
   "outputs": [],
   "source": [
    "num = int(input(\"Enter an integer greater than 1: \"))\n",
    "isprime = 1 #assuming that num is prime\n",
    "for i in range(2,num//2):\n",
    "    if (num%i==0):\n",
    "        isprime = 0\n",
    "        break\n",
    "if(isprime==1):\n",
    "    print(num, \"is a prime number\")\n",
    "else:\n",
    "    print(num, \"is not a prime number\")"
   ]
  },
  {
   "cell_type": "markdown",
   "id": "eed1d906",
   "metadata": {},
   "source": [
    "**`3. Python program to generate the prime numbers from 1 to N`**"
   ]
  },
  {
   "cell_type": "code",
   "execution_count": null,
   "id": "68acd56c",
   "metadata": {},
   "outputs": [],
   "source": [
    "num =int(input(\"Enter the range: \"))\n",
    "for n in range(2,num):\n",
    "    for i in range(2,n):\n",
    "        if(n%i==0):\n",
    "            break\n",
    "    else:\n",
    "        print(n)"
   ]
  },
  {
   "cell_type": "markdown",
   "id": "3b473c89",
   "metadata": {},
   "source": [
    "**`4. Python program to implement linear search`**"
   ]
  },
  {
   "cell_type": "code",
   "execution_count": 5,
   "id": "1c8d4432",
   "metadata": {},
   "outputs": [
    {
     "name": "stdout",
     "output_type": "stream",
     "text": [
      "Enter the number to be found out: 4\n",
      " Successful search, the element is found at position 0\n"
     ]
    }
   ],
   "source": [
    "numbers = [4,2,7,1,8,3,6]\n",
    "f = 0 #flag\n",
    "x = int(input(\"Enter the number to be found out: \"))\n",
    "for i in range(len(numbers)):\n",
    "    if (x==numbers[i]):\n",
    "        print(\" Successful search, the element is found at position\", i)\n",
    "        f = 1\n",
    "        break\n",
    "if(f==0):\n",
    "    print(\"Oops! Search unsuccessful\")"
   ]
  },
  {
   "cell_type": "markdown",
   "id": "9c7ad68c",
   "metadata": {},
   "source": [
    "**`5. Python program to display all integers within the range 100-200 whose sum of digits is an even number`**"
   ]
  },
  {
   "cell_type": "code",
   "execution_count": null,
   "id": "cc9bdb4f",
   "metadata": {},
   "outputs": [],
   "source": [
    "for i in range(100,200):\n",
    "    num = i\n",
    "    sum = 0\n",
    "    while(num!=0):\n",
    "        digit = num%10\n",
    "        sum = sum + digit\n",
    "        num = num//10\n",
    "    if(sum%2==0):\n",
    "        print(i)"
   ]
  },
  {
   "cell_type": "markdown",
   "id": "43d5e9fc",
   "metadata": {},
   "source": [
    "*********************************************************************************************************************************************"
   ]
  },
  {
   "cell_type": "markdown",
   "id": "3ab78b02",
   "metadata": {},
   "source": [
    "` * Patter Exercise`\n",
    "--"
   ]
  },
  {
   "cell_type": "markdown",
   "id": "f71c2d43",
   "metadata": {},
   "source": [
    "**`Pyramid Pattern Program`**"
   ]
  },
  {
   "cell_type": "code",
   "execution_count": null,
   "id": "6fab5666",
   "metadata": {},
   "outputs": [],
   "source": [
    "for i in range(5):\n",
    "    for j in range(i):\n",
    "        print(\"*\",end = \" \")\n",
    "    print(\"\\n\")"
   ]
  },
  {
   "cell_type": "markdown",
   "id": "4d6d9006",
   "metadata": {},
   "source": [
    "**`Pyramid Pattern Program`**"
   ]
  },
  {
   "cell_type": "code",
   "execution_count": null,
   "id": "e5983f41",
   "metadata": {},
   "outputs": [],
   "source": [
    "def pattern(n):\n",
    "      k = 2 * n - 2\n",
    "      for i in range(0,n):\n",
    "           for j in range(0,k):\n",
    "               print(end=\" \")\n",
    "           k = k - 1\n",
    "           for j in range(0, i+1):\n",
    "                print(\"*\", end=\" \")\n",
    "           print(\" \")\n",
    "pattern(5)"
   ]
  },
  {
   "cell_type": "markdown",
   "id": "36cfb1ef",
   "metadata": {},
   "source": [
    "**`Half-Pyramid Pattern Program`**"
   ]
  },
  {
   "cell_type": "code",
   "execution_count": 20,
   "id": "3ff14905",
   "metadata": {},
   "outputs": [
    {
     "name": "stdout",
     "output_type": "stream",
     "text": [
      "*  \n",
      "* *  \n",
      "* * *  \n",
      "* * * *  \n",
      "* * * * *  \n"
     ]
    }
   ],
   "source": [
    "def pattern(n):\n",
    "     for i in range(0,n):\n",
    "         for j in range(0, i+1):\n",
    "              print(\"* \" , end=\"\")\n",
    "         print(\" \")\n",
    " \n",
    "pattern(5)"
   ]
  },
  {
   "cell_type": "markdown",
   "id": "2ce6602a",
   "metadata": {},
   "source": [
    "**`Reverse Pyramid Pattern Program`**"
   ]
  },
  {
   "cell_type": "code",
   "execution_count": 21,
   "id": "96d142af",
   "metadata": {},
   "outputs": [
    {
     "name": "stdout",
     "output_type": "stream",
     "text": [
      "        * * * * * *  \n",
      "         * * * * *  \n",
      "          * * * *  \n",
      "           * * *  \n",
      "            * *  \n",
      "             *  \n"
     ]
    }
   ],
   "source": [
    "def pattern(n):\n",
    "      k = 2*n -2\n",
    "      for i in range(n,-1,-1):\n",
    "           for j in range(k,0,-1):\n",
    "                print(end=\" \")\n",
    "           k = k +1\n",
    "           for j in range(0, i+1):\n",
    "                print(\"*\", end=\" \")\n",
    "           print(\" \")\n",
    " \n",
    "pattern(5)"
   ]
  },
  {
   "cell_type": "markdown",
   "id": "4b1207b6",
   "metadata": {},
   "source": [
    "**`Left Half-Pyramid Pattern Program`**"
   ]
  },
  {
   "cell_type": "code",
   "execution_count": 22,
   "id": "f41d5274",
   "metadata": {},
   "outputs": [
    {
     "name": "stdout",
     "output_type": "stream",
     "text": [
      "        * \n",
      "      * * \n",
      "    * * * \n",
      "  * * * * \n",
      "* * * * * \n"
     ]
    }
   ],
   "source": [
    "def pattern(n):\n",
    "     k = 2 * n - 2\n",
    "     for i in range(0, n):\n",
    "          for j in range(0, k):\n",
    "               print(end=\" \")\n",
    "          k = k - 2\n",
    "          for j in range(0, i + 1):\n",
    "              print(\"* \", end=\"\")\n",
    "          print(\"\")\n",
    "  \n",
    "pattern(5)"
   ]
  },
  {
   "cell_type": "markdown",
   "id": "f3e50ca7",
   "metadata": {},
   "source": [
    "**`Downward Half-Pyramid Pattern Program`**"
   ]
  },
  {
   "cell_type": "code",
   "execution_count": null,
   "id": "cebf1abf",
   "metadata": {},
   "outputs": [],
   "source": [
    "def pattern(n):\n",
    "      for i in range(n, -1, -1):\n",
    "           for j in range(0, i + 1):\n",
    "               print(\"* \", end=\"\")\n",
    "           print(\" \")\n",
    " \n",
    "pattern(5)"
   ]
  },
  {
   "cell_type": "markdown",
   "id": "8adc1fe7",
   "metadata": {},
   "source": [
    "**`Right Start Pattern Program`**"
   ]
  },
  {
   "cell_type": "code",
   "execution_count": 24,
   "id": "63c8b4aa",
   "metadata": {},
   "outputs": [
    {
     "name": "stdout",
     "output_type": "stream",
     "text": [
      "*  \n",
      "* *  \n",
      "* * *  \n",
      "* * * *  \n",
      "* * * * *  \n",
      "* * * * * *  \n",
      "* * * * *  \n",
      "* * * *  \n",
      "* * *  \n",
      "* *  \n"
     ]
    }
   ],
   "source": [
    "\n",
    "def pattern(n):\n",
    "      for i in range(0, n):\n",
    "           for j in range(0, i + 1):\n",
    "                print(\"* \", end=\"\")\n",
    "           print(\" \")\n",
    "      for i in range(n, 0 , -1):\n",
    "          for j in range(0, i + 1):\n",
    "               print(\"* \", end=\"\")\n",
    "          print(\" \")\n",
    " \n",
    "pattern(5)"
   ]
  },
  {
   "cell_type": "markdown",
   "id": "f3bbc767",
   "metadata": {},
   "source": [
    "**`Left Start Pattern Program`**"
   ]
  },
  {
   "cell_type": "code",
   "execution_count": 25,
   "id": "468b7de6",
   "metadata": {},
   "outputs": [
    {
     "name": "stdout",
     "output_type": "stream",
     "text": [
      "        *  \n",
      "      * *  \n",
      "    * * *  \n",
      "  * * * *  \n",
      "* * * * *  \n",
      "  * * * *  \n",
      "    * * *  \n",
      "      * *  \n",
      "        *  \n"
     ]
    }
   ],
   "source": [
    "def pattern(n):\n",
    "    k = 2 * n - 2\n",
    "    for i in range(0, n-1):\n",
    "        for j in range(0, k):\n",
    "            print(end=\" \")\n",
    "        k = k - 2\n",
    "        for j in range(0, i + 1):\n",
    "            print(\"* \", end=\"\")\n",
    "        print(\" \")\n",
    "    k = -1\n",
    "    for i in range(n-1,-1,-1):\n",
    "        for j in range(k,-1,-1):\n",
    "            print(end=\" \")\n",
    "        k = k + 2\n",
    "        for j in range(0, i + 1):\n",
    "            print(\"* \", end=\"\")\n",
    "        print(\" \")\n",
    " \n",
    " \n",
    "pattern(5)"
   ]
  },
  {
   "cell_type": "markdown",
   "id": "3e2979c4",
   "metadata": {},
   "source": [
    "**`Diamond Star Pattern Program`**"
   ]
  },
  {
   "cell_type": "code",
   "execution_count": 42,
   "id": "567b39f5",
   "metadata": {},
   "outputs": [
    {
     "name": "stdout",
     "output_type": "stream",
     "text": [
      "  *  \n",
      " * * \n",
      "*   *\n",
      " * * \n",
      "  *  \n"
     ]
    }
   ],
   "source": [
    "for i in range(5):\n",
    "    for j in range(5):\n",
    "        if i + j == 2 or i - j == 2 or i + j == 6 or j - i == 2:\n",
    "            print(\"*\", end=\"\")\n",
    "        else:\n",
    "            print(end=\" \")\n",
    "    print()"
   ]
  },
  {
   "cell_type": "markdown",
   "id": "5941c682",
   "metadata": {},
   "source": [
    "**`K Shape Character Program`**"
   ]
  },
  {
   "cell_type": "code",
   "execution_count": 43,
   "id": "ec3630ea",
   "metadata": {},
   "outputs": [
    {
     "name": "stdout",
     "output_type": "stream",
     "text": [
      "*  *   \n",
      "* *    \n",
      "**     \n",
      "*      \n",
      "**     \n",
      "* *    \n",
      "*  *   \n"
     ]
    }
   ],
   "source": [
    "for i in range(7):\n",
    "    for j in range(7):\n",
    "        if j == 0 or i - j == 3 or i + j == 3:\n",
    "            print(\"*\", end=\"\")\n",
    "        else:\n",
    "            print(end=\" \")\n",
    "    print()"
   ]
  },
  {
   "cell_type": "markdown",
   "id": "e71f7780",
   "metadata": {},
   "source": [
    "**********************************************************************************************************************************"
   ]
  },
  {
   "cell_type": "markdown",
   "id": "19db2e65",
   "metadata": {},
   "source": [
    "`Number Pattern Programs`\n",
    "--"
   ]
  },
  {
   "cell_type": "markdown",
   "id": "f9595bce",
   "metadata": {},
   "source": [
    "**`Simple Numbers Program`**"
   ]
  },
  {
   "cell_type": "code",
   "execution_count": 46,
   "id": "93283dd8",
   "metadata": {},
   "outputs": [
    {
     "name": "stdout",
     "output_type": "stream",
     "text": [
      "1 \r\n",
      "2 2 \r\n",
      "3 3 3 \r\n",
      "4 4 4 4 \r\n",
      "5 5 5 5 5 \r\n"
     ]
    }
   ],
   "source": [
    "def pattern(n):\n",
    "    x = 0\n",
    "    for i in range(0 , n):\n",
    "        x += 1 \n",
    "        for j in range(0, i + 1):\n",
    "            print(x , end=\" \") \n",
    "        print(\"\\r\") \n",
    "pattern(5)"
   ]
  },
  {
   "cell_type": "markdown",
   "id": "31c29f02",
   "metadata": {},
   "source": [
    "**`Descending Order Pattern Program`**"
   ]
  },
  {
   "cell_type": "code",
   "execution_count": 48,
   "id": "9f8bb83a",
   "metadata": {},
   "outputs": [
    {
     "name": "stdout",
     "output_type": "stream",
     "text": [
      "1 2 3 4 5  \n",
      "1 2 3 4  \n",
      "1 2 3  \n",
      "1 2  \n",
      "1  \n"
     ]
    }
   ],
   "source": [
    "def pattern(n):\n",
    "    for i in range(n, 0, -1):\n",
    "        for j in range(1, i + 1):\n",
    "            print(j, end=\" \")\n",
    " \n",
    "        print(\" \")\n",
    " \n",
    "pattern(5)"
   ]
  },
  {
   "cell_type": "markdown",
   "id": "761e32df",
   "metadata": {},
   "source": [
    "**`Half-Pyramid Pattern With Numbers`**"
   ]
  },
  {
   "cell_type": "code",
   "execution_count": 49,
   "id": "0b5259b3",
   "metadata": {},
   "outputs": [
    {
     "name": "stdout",
     "output_type": "stream",
     "text": [
      "1  \n",
      "1 2  \n",
      "1 2 3  \n",
      "1 2 3 4  \n"
     ]
    }
   ],
   "source": [
    "def pattern(n):\n",
    "     for i in range(1, n):\n",
    "         for j in range(1, i + 1):\n",
    "             print(j, end= \" \")\n",
    "         print(\" \")\n",
    "pattern(5)"
   ]
  },
  {
   "cell_type": "markdown",
   "id": "9191fb55",
   "metadata": {},
   "source": [
    "**`Binary Numbers Pattern Program`**"
   ]
  },
  {
   "cell_type": "code",
   "execution_count": 50,
   "id": "e1bdcf12",
   "metadata": {},
   "outputs": [
    {
     "name": "stdout",
     "output_type": "stream",
     "text": [
      "        10 \n",
      "       1010 \n",
      "      101010 \n",
      "     10101010 \n",
      "    1010101010 \n"
     ]
    }
   ],
   "source": [
    "def pattern(n):\n",
    "    k = 2 * n - 2\n",
    "    for i in range(0, n):\n",
    "        for j in range(0, k):\n",
    "            print(end=\" \")\n",
    "        k = k - 1\n",
    "        for j in range(0, i + 1):\n",
    "            print('10', end=\"\")\n",
    " \n",
    "        print(\" \")\n",
    " \n",
    "pattern(5)"
   ]
  },
  {
   "cell_type": "markdown",
   "id": "e35d8619",
   "metadata": {},
   "source": [
    "**`Diamond Pattern With Numbers`**"
   ]
  },
  {
   "cell_type": "code",
   "execution_count": 52,
   "id": "4cce21e7",
   "metadata": {},
   "outputs": [
    {
     "name": "stdout",
     "output_type": "stream",
     "text": [
      "        1  \n",
      "       2 2  \n",
      "      3 3 3  \n",
      "     4 4 4 4  \n",
      "    5 5 5 5 5  \n",
      "   6 6 6 6 6 6  \n",
      "    5 5 5 5 5  \n",
      "     4 4 4 4  \n",
      "      3 3 3  \n",
      "       2 2  \n",
      "        1  \n"
     ]
    }
   ],
   "source": [
    "def pattern(n):\n",
    "    k = 2 * n - 2\n",
    "    x = 0\n",
    "    for i in range(0, n):\n",
    "        x += 1\n",
    "        for j in range(0, k):\n",
    "            print(end=\" \")\n",
    "        k = k - 1\n",
    "        for j in range(0, i + 1):\n",
    "            print(x, end=\" \")\n",
    "        print(\" \")\n",
    "    k = n - 2\n",
    "    x = n + 2\n",
    "    for i in range(n, -1, -1):\n",
    "        x -= 1\n",
    "        for j in range(k, 0, -1):\n",
    "            print(end=\" \")\n",
    "        k = k + 1\n",
    "        for j in range(0, i + 1):\n",
    "            print(x, end=\" \")\n",
    "        print(\" \")\n",
    " \n",
    "pattern(5)"
   ]
  },
  {
   "cell_type": "markdown",
   "id": "d1adbb45",
   "metadata": {},
   "source": [
    "**`Print the following pattern\n",
    "Write a program to use for loop to print the following reverse number pattern\n",
    "5 4 3 2 1 \n",
    "4 3 2 1 \n",
    "3 2 1 \n",
    "2 1 \n",
    "1`**"
   ]
  },
  {
   "cell_type": "code",
   "execution_count": 53,
   "id": "c78d3c47",
   "metadata": {},
   "outputs": [
    {
     "name": "stdout",
     "output_type": "stream",
     "text": [
      "5 4 3 2 1 \n",
      "4 3 2 1 \n",
      "3 2 1 \n",
      "2 1 \n",
      "1 \n",
      "\n"
     ]
    }
   ],
   "source": [
    "n = 5\n",
    "k = 5\n",
    "for i in range(0,n+1):\n",
    "    for j in range(k-i,0,-1):\n",
    "        print(j,end=' ')\n",
    "    print()"
   ]
  },
  {
   "cell_type": "markdown",
   "id": "02343779",
   "metadata": {},
   "source": [
    "**********************************************************************************************************************************"
   ]
  },
  {
   "cell_type": "markdown",
   "id": "a0243dec",
   "metadata": {},
   "source": [
    "`Characters Pattern Programs`\n",
    "--"
   ]
  },
  {
   "cell_type": "markdown",
   "id": "7ca6e852",
   "metadata": {},
   "source": [
    "`Right Alphabetical Triangle`"
   ]
  },
  {
   "cell_type": "code",
   "execution_count": 57,
   "id": "62808e3a",
   "metadata": {},
   "outputs": [
    {
     "name": "stdout",
     "output_type": "stream",
     "text": [
      "A  \n",
      "B B  \n",
      "C C C  \n",
      "D D D D  \n",
      "E E E E E  \n"
     ]
    }
   ],
   "source": [
    "def pattern(n):\n",
    "    x = 65\n",
    "    for i in range(0, n):\n",
    "        ch = chr(x)\n",
    "        x += 1\n",
    "        for j in range(0, i + 1):\n",
    "            print(ch, end=\" \")\n",
    "        print(\" \")\n",
    " \n",
    "pattern(5)"
   ]
  },
  {
   "cell_type": "markdown",
   "id": "a5dde5fc",
   "metadata": {},
   "source": [
    "`Character Pattern Program`"
   ]
  },
  {
   "cell_type": "code",
   "execution_count": 62,
   "id": "338621be",
   "metadata": {},
   "outputs": [
    {
     "name": "stdout",
     "output_type": "stream",
     "text": [
      "            A  \n",
      "           B C  \n",
      "          D E F  \n",
      "         G H I J  \n",
      "        K L M N O  \n",
      "       P Q R S T U  \n",
      "      V W X Y Z [ \\  \n"
     ]
    }
   ],
   "source": [
    "def pattern(n):\n",
    "    k = 2 * n - 2\n",
    "    x = 65\n",
    "    for i in range(0, n):\n",
    "        for j in range(0, k):\n",
    "            print(end=\" \")\n",
    "        k = k - 1\n",
    "        for j in range(0, i + 1):\n",
    "            ch = chr(x)\n",
    "            print(ch, end=\" \")\n",
    "            x += 1\n",
    "        print(\" \")\n",
    " \n",
    "pattern(7)"
   ]
  },
  {
   "cell_type": "markdown",
   "id": "a1f9719f",
   "metadata": {},
   "source": [
    "`Triangle Character Pattern Program`"
   ]
  },
  {
   "cell_type": "code",
   "execution_count": 63,
   "id": "b8009db8",
   "metadata": {},
   "outputs": [
    {
     "name": "stdout",
     "output_type": "stream",
     "text": [
      "        A  \n",
      "       B B  \n",
      "      C C C  \n",
      "     D D D D  \n",
      "    E E E E E  \n"
     ]
    }
   ],
   "source": [
    "def pattern(n):\n",
    "    k = 2 * n - 2\n",
    "    x = 65\n",
    "    for i in range(0, n):\n",
    "        ch = chr(x)\n",
    "        x += 1\n",
    "        for j in range(0, k):\n",
    "            print(end=\" \")\n",
    "        k = k - 1\n",
    "        for j in range(0, i + 1):\n",
    "            print(ch, end=\" \")\n",
    "        print(\" \")\n",
    " \n",
    " \n",
    "pattern(5)"
   ]
  },
  {
   "cell_type": "markdown",
   "id": "c22ccc4c",
   "metadata": {},
   "source": [
    "`Diamond Shaped Character Pattern Program`"
   ]
  },
  {
   "cell_type": "code",
   "execution_count": 65,
   "id": "ae5fb2c3",
   "metadata": {},
   "outputs": [
    {
     "name": "stdout",
     "output_type": "stream",
     "text": [
      "        A  \n",
      "       A B  \n",
      "      A B C  \n",
      "     A B C D  \n",
      "    A B C D E  \n",
      "   A B C D E F  \n",
      "    G H I J K  \n",
      "     L M N O  \n",
      "      P Q R  \n",
      "       S T  \n",
      "        U  \n"
     ]
    }
   ],
   "source": [
    "def pattern(n):\n",
    "    k = 2 * n - 2\n",
    "    for i in range(0, n):\n",
    "        for j in range(0, k):\n",
    "            print(end=\" \")\n",
    "        k = k - 1\n",
    "        x = 65\n",
    "        for j in range(0, i + 1):\n",
    "            ch = chr(x)\n",
    "            print(ch, end=\" \")\n",
    "            x += 1\n",
    "        print(\" \")\n",
    "    k = n - 2\n",
    "    x = 65\n",
    "    for i in range(n, -1, -1):\n",
    "        for j in range(k, 0, -1):\n",
    "            print(end=\" \")\n",
    "        k = k + 1\n",
    "        for j in range(0, i + 1):\n",
    "            ch = chr(x)\n",
    "            print(ch, end=\" \")\n",
    "            x += 1\n",
    "        print(\" \")\n",
    " \n",
    " \n",
    "pattern(5)"
   ]
  },
  {
   "cell_type": "markdown",
   "id": "fa0f8649",
   "metadata": {},
   "source": [
    "`End of this Module`\n",
    "--"
   ]
  }
 ],
 "metadata": {
  "kernelspec": {
   "display_name": "Python 3",
   "language": "python",
   "name": "python3"
  },
  "language_info": {
   "codemirror_mode": {
    "name": "ipython",
    "version": 3
   },
   "file_extension": ".py",
   "mimetype": "text/x-python",
   "name": "python",
   "nbconvert_exporter": "python",
   "pygments_lexer": "ipython3",
   "version": "3.8.8"
  }
 },
 "nbformat": 4,
 "nbformat_minor": 5
}
