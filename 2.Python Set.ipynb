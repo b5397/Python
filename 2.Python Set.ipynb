{
 "cells": [
  {
   "cell_type": "markdown",
   "id": "0e2989ce",
   "metadata": {},
   "source": [
    "`Python Set`\n",
    "--\n",
    "Python set is an unordered collection of unique items. They are commonly used for computing mathematical operations such as union, intersection, difference, and symmetric difference."
   ]
  },
  {
   "cell_type": "code",
   "execution_count": 2,
   "id": "41b3acec",
   "metadata": {},
   "outputs": [
    {
     "data": {
      "image/png": "[encoded data removed]",
      "text/plain": [
       "<IPython.core.display.Image object>"
      ]
     },
     "execution_count": 2,
     "metadata": {},
     "output_type": "execute_result"
    }
   ],
   "source": [
    "from IPython import display\n",
    "display.Image (\"./set.png\")"
   ]
  },
  {
   "cell_type": "markdown",
   "id": "85d6b28c",
   "metadata": {},
   "source": [
    "The important properties of Python sets are as follows:\n",
    "\n",
    "1. Sets are unordered – Items stored in a set aren’t kept in any particular order.\n",
    "\n",
    "2. Set items are unique – Duplicate items are not allowed.\n",
    "\n",
    "3. Sets are unindexed – You cannot access set items by referring to an index.\n",
    "\n",
    "4. Sets are changeable (mutable) – They can be changed in place, can grow and shrink on demand."
   ]
  },
  {
   "cell_type": "code",
   "execution_count": 12,
   "id": "8ca84ecc",
   "metadata": {},
   "outputs": [],
   "source": [
    "# A set of strings\n",
    "S = {'red', 'green', 'blue'}\n",
    "\n",
    "# A set of mixed datatypes\n",
    "S = {1, 'abc', 1.23, (3+4j), True}"
   ]
  },
  {
   "cell_type": "code",
   "execution_count": 13,
   "id": "ca66ba8f",
   "metadata": {},
   "outputs": [
    {
     "name": "stdout",
     "output_type": "stream",
     "text": [
      "{'green', 'red', 'blue'}\n"
     ]
    }
   ],
   "source": [
    "S = {'red', 'green', 'blue', 'red'}\n",
    "print(S)\n",
    "# Prints {'blue', 'green', 'red'}"
   ]
  },
  {
   "cell_type": "code",
   "execution_count": 14,
   "id": "6b1ab824",
   "metadata": {},
   "outputs": [],
   "source": [
    "S = {1, 'abc', ('a', 'b'), True}"
   ]
  },
  {
   "cell_type": "code",
   "execution_count": 15,
   "id": "c4473995",
   "metadata": {},
   "outputs": [
    {
     "ename": "TypeError",
     "evalue": "unhashable type: 'list'",
     "output_type": "error",
     "traceback": [
      "\u001b[1;31m---------------------------------------------------------------------------\u001b[0m",
      "\u001b[1;31mTypeError\u001b[0m                                 Traceback (most recent call last)",
      "\u001b[1;32m<ipython-input-15-3dfea873c4b7>\u001b[0m in \u001b[0;36m<module>\u001b[1;34m\u001b[0m\n\u001b[1;32m----> 1\u001b[1;33m \u001b[0mS\u001b[0m \u001b[1;33m=\u001b[0m \u001b[1;33m{\u001b[0m\u001b[1;33m[\u001b[0m\u001b[1;36m1\u001b[0m\u001b[1;33m,\u001b[0m \u001b[1;36m2\u001b[0m\u001b[1;33m]\u001b[0m\u001b[1;33m,\u001b[0m \u001b[1;33m{\u001b[0m\u001b[1;34m'a'\u001b[0m\u001b[1;33m:\u001b[0m\u001b[1;36m1\u001b[0m\u001b[1;33m,\u001b[0m \u001b[1;34m'b'\u001b[0m\u001b[1;33m:\u001b[0m\u001b[1;36m2\u001b[0m\u001b[1;33m}\u001b[0m\u001b[1;33m}\u001b[0m\u001b[1;33m\u001b[0m\u001b[1;33m\u001b[0m\u001b[0m\n\u001b[0m\u001b[0;32m      2\u001b[0m \u001b[1;31m# Triggers TypeError: unhashable type: 'list'\u001b[0m\u001b[1;33m\u001b[0m\u001b[1;33m\u001b[0m\u001b[1;33m\u001b[0m\u001b[0m\n",
      "\u001b[1;31mTypeError\u001b[0m: unhashable type: 'list'"
     ]
    }
   ],
   "source": [
    "S = {[1, 2], {'a':1, 'b':2}}\n",
    "# Triggers TypeError: unhashable type: 'list'"
   ]
  },
  {
   "cell_type": "markdown",
   "id": "e656c207",
   "metadata": {},
   "source": [
    "`Set constructor`\n",
    "--\n",
    "You can also create a set using a type constructor called set()."
   ]
  },
  {
   "cell_type": "code",
   "execution_count": 16,
   "id": "814e7937",
   "metadata": {},
   "outputs": [
    {
     "name": "stdout",
     "output_type": "stream",
     "text": [
      "{'c', 'a', 'b'}\n",
      "{0, 1, 2, 3}\n",
      "{1, 2, 3}\n"
     ]
    }
   ],
   "source": [
    "# Set of items in an iterable\n",
    "S = set('abc')\n",
    "print(S)\n",
    "# Prints {'a', 'b', 'c'}\n",
    "\n",
    "# Set of successive integers\n",
    "S = set(range(0, 4))\n",
    "print(S)\n",
    "# Prints {0, 1, 2, 3}\n",
    "\n",
    "# Convert list into set\n",
    "S = set([1, 2, 3])\n",
    "print(S)\n",
    "# Prints {1, 2, 3}"
   ]
  },
  {
   "cell_type": "markdown",
   "id": "99f80a0d",
   "metadata": {},
   "source": [
    "Add Items to a Set\n",
    "You can add a single item to a set using **add()** method."
   ]
  },
  {
   "cell_type": "code",
   "execution_count": 17,
   "id": "b41e5496",
   "metadata": {},
   "outputs": [
    {
     "name": "stdout",
     "output_type": "stream",
     "text": [
      "{'yellow', 'green', 'red', 'blue'}\n"
     ]
    }
   ],
   "source": [
    "S = {'red', 'green', 'blue'}\n",
    "S.add('yellow')\n",
    "print(S)\n",
    "# Prints {'blue', 'green', 'yellow', 'red'}"
   ]
  },
  {
   "cell_type": "markdown",
   "id": "fa8e4081",
   "metadata": {},
   "source": [
    "You can add multiple items to a set using **update()** method."
   ]
  },
  {
   "cell_type": "code",
   "execution_count": 18,
   "id": "8acc2a10",
   "metadata": {},
   "outputs": [
    {
     "name": "stdout",
     "output_type": "stream",
     "text": [
      "{'orange', 'yellow', 'red', 'blue', 'green'}\n"
     ]
    }
   ],
   "source": [
    "S = {'red', 'green', 'blue'}\n",
    "S.update(['yellow', 'orange'])\n",
    "print(S)\n",
    "# Prints {'blue', 'orange', 'green', 'yellow', 'red'}"
   ]
  },
  {
   "cell_type": "markdown",
   "id": "0827f7ad",
   "metadata": {},
   "source": [
    "Remove Items from a Set\n",
    "To remove a single item from a set, use **remove() or discard()** method."
   ]
  },
  {
   "cell_type": "code",
   "execution_count": 20,
   "id": "f83b6e32",
   "metadata": {},
   "outputs": [
    {
     "name": "stdout",
     "output_type": "stream",
     "text": [
      "{'green', 'blue'}\n",
      "{'green', 'blue'}\n"
     ]
    }
   ],
   "source": [
    "# with remove() method\n",
    "S = {'red', 'green', 'blue'}\n",
    "S.remove('red')\n",
    "print(S)\n",
    "# Prints {'blue', 'green'}\n",
    "\n",
    "# with discard() method\n",
    "S = {'red', 'green', 'blue'}\n",
    "S.discard('red')\n",
    "print(S)\n",
    "# Prints {'blue', 'green'}"
   ]
  },
  {
   "cell_type": "markdown",
   "id": "bdefbda4",
   "metadata": {},
   "source": [
    "The **pop()** method removes random item from a set and returns it."
   ]
  },
  {
   "cell_type": "code",
   "execution_count": 21,
   "id": "c6db474f",
   "metadata": {},
   "outputs": [
    {
     "name": "stdout",
     "output_type": "stream",
     "text": [
      "{'red', 'blue'}\n",
      "green\n"
     ]
    }
   ],
   "source": [
    "S = {'red', 'green', 'blue'}\n",
    "x = S.pop()\n",
    "print(S)\n",
    "# Prints {'green', 'red'}\n",
    "\n",
    "# removed item\n",
    "print(x)\n",
    "# Prints blue"
   ]
  },
  {
   "cell_type": "markdown",
   "id": "69a55413",
   "metadata": {},
   "source": [
    "Use **clear()** method to remove all items from the set."
   ]
  },
  {
   "cell_type": "code",
   "execution_count": 22,
   "id": "b8d5122f",
   "metadata": {},
   "outputs": [
    {
     "name": "stdout",
     "output_type": "stream",
     "text": [
      "set()\n"
     ]
    }
   ],
   "source": [
    "S = {'red', 'green', 'blue'}\n",
    "S.clear()\n",
    "print(S)\n",
    "# Prints set()"
   ]
  },
  {
   "cell_type": "markdown",
   "id": "85032162",
   "metadata": {},
   "source": [
    "Find Set Size\n",
    "To find how many items a set has, use **len()** method"
   ]
  },
  {
   "cell_type": "code",
   "execution_count": null,
   "id": "969d4a32",
   "metadata": {},
   "outputs": [],
   "source": [
    "S = {'red', 'green', 'blue'}\n",
    "print(len(S))\n",
    "# Prints 3"
   ]
  },
  {
   "cell_type": "markdown",
   "id": "65a39cad",
   "metadata": {},
   "source": [
    "`Iterate Through a Set\n",
    "To iterate over the items of a set, use a simple for loop.`"
   ]
  },
  {
   "cell_type": "code",
   "execution_count": 23,
   "id": "cbc03b24",
   "metadata": {},
   "outputs": [
    {
     "name": "stdout",
     "output_type": "stream",
     "text": [
      "green\n",
      "red\n",
      "blue\n"
     ]
    }
   ],
   "source": [
    "S = {'red', 'green', 'blue'}\n",
    "for item in S:\n",
    "    print(item)\n",
    "# Prints blue green red"
   ]
  },
  {
   "cell_type": "markdown",
   "id": "fd4a4dbe",
   "metadata": {},
   "source": [
    "`Check if Item Exists in a Set\n",
    "To check if a specific item is present in a set, you can use in and not in operators with if statement.`"
   ]
  },
  {
   "cell_type": "code",
   "execution_count": 24,
   "id": "10579e62",
   "metadata": {},
   "outputs": [
    {
     "name": "stdout",
     "output_type": "stream",
     "text": [
      "yes\n",
      "yes\n"
     ]
    }
   ],
   "source": [
    "# Check for presence\n",
    "S = {'red', 'green', 'blue'}\n",
    "if 'red' in S:\n",
    "    print('yes')\n",
    "\n",
    "# Check for absence\n",
    "S = {'red', 'green', 'blue'}\n",
    "if 'yellow' not in S:\n",
    "    print('yes')"
   ]
  },
  {
   "cell_type": "markdown",
   "id": "35e7d7b0",
   "metadata": {},
   "source": [
    "`Set Operations`\n",
    "--\n",
    "Sets are commonly used for computing mathematical operations such as intersection, union, difference, and symmetric difference.\n",
    "\n",
    "Set Union\n",
    "You can perform union on two or more sets using union() method or  |  operator"
   ]
  },
  {
   "cell_type": "code",
   "execution_count": 25,
   "id": "a3188985",
   "metadata": {},
   "outputs": [
    {
     "data": {
      "image/png": "[encoded data removed]",
      "text/plain": [
       "<IPython.core.display.Image object>"
      ]
     },
     "execution_count": 25,
     "metadata": {},
     "output_type": "execute_result"
    }
   ],
   "source": [
    "from IPython import display\n",
    "display.Image (\"./union.png\")"
   ]
  },
  {
   "cell_type": "code",
   "execution_count": 26,
   "id": "af7d5c8d",
   "metadata": {},
   "outputs": [
    {
     "name": "stdout",
     "output_type": "stream",
     "text": [
      "{'green', 'orange', 'blue', 'yellow', 'red'}\n",
      "{'green', 'orange', 'blue', 'yellow', 'red'}\n"
     ]
    }
   ],
   "source": [
    "A = {'red', 'green', 'blue'}\n",
    "B = {'yellow', 'red', 'orange'}\n",
    "\n",
    "# by operator\n",
    "print(A | B)\n",
    "# Prints {'blue', 'green', 'yellow', 'orange', 'red'}\n",
    "\n",
    "# by method\n",
    "print(A.union(B))\n",
    "# Prints {'blue', 'green', 'yellow', 'orange', 'red'}"
   ]
  },
  {
   "cell_type": "markdown",
   "id": "f9492084",
   "metadata": {},
   "source": [
    "`Set Intersection`\n",
    "--\n",
    "You can perform intersection on two or more sets using intersection() method or  &  operator."
   ]
  },
  {
   "cell_type": "code",
   "execution_count": 28,
   "id": "ffc802e0",
   "metadata": {},
   "outputs": [
    {
     "data": {
      "image/png": "[encoded data removed]",
      "text/plain": [
       "<IPython.core.display.Image object>"
      ]
     },
     "execution_count": 28,
     "metadata": {},
     "output_type": "execute_result"
    }
   ],
   "source": [
    "from IPython import display\n",
    "display.Image (\"./intersection.png\")"
   ]
  },
  {
   "cell_type": "code",
   "execution_count": 29,
   "id": "4ea15b91",
   "metadata": {},
   "outputs": [
    {
     "name": "stdout",
     "output_type": "stream",
     "text": [
      "{'red'}\n",
      "{'red'}\n"
     ]
    }
   ],
   "source": [
    "A = {'red', 'green', 'blue'}\n",
    "B = {'yellow', 'red', 'orange'}\n",
    "\n",
    "# by operator\n",
    "print(A & B)\n",
    "# Prints {'red'}\n",
    "\n",
    "# by method\n",
    "print(A.intersection(B))\n",
    "# Prints {'red'}"
   ]
  },
  {
   "cell_type": "markdown",
   "id": "87ba2015",
   "metadata": {},
   "source": [
    "`Set Difference`\n",
    "--\n",
    "You can compute the difference between two or more sets using difference() method or  -  operator."
   ]
  },
  {
   "cell_type": "code",
   "execution_count": 30,
   "id": "e2e92c29",
   "metadata": {},
   "outputs": [
    {
     "data": {
      "image/png": "[encoded data removed]",
      "text/plain": [
       "<IPython.core.display.Image object>"
      ]
     },
     "execution_count": 30,
     "metadata": {},
     "output_type": "execute_result"
    }
   ],
   "source": [
    "from IPython import display\n",
    "display.Image (\"./difference.png\")"
   ]
  },
  {
   "cell_type": "code",
   "execution_count": null,
   "id": "d804c77e",
   "metadata": {},
   "outputs": [],
   "source": [
    "A = {'red', 'green', 'blue'}\n",
    "B = {'yellow', 'red', 'orange'}\n",
    "\n",
    "# by operator\n",
    "print(A - B)\n",
    "# Prints {'blue', 'green'}\n",
    "\n",
    "# by method\n",
    "print(A.difference(B))\n",
    "# Prints {'blue', 'green'}"
   ]
  },
  {
   "cell_type": "markdown",
   "id": "8ed3d6b8",
   "metadata": {},
   "source": [
    "`Set Symmetric Difference`\n",
    "--\n",
    "You can compute symmetric difference between two or more sets using symmetric_difference() method or  ^  operator"
   ]
  },
  {
   "cell_type": "code",
   "execution_count": 34,
   "id": "532252d7",
   "metadata": {},
   "outputs": [
    {
     "data": {
      "image/png": "[encoded data removed]",
      "text/plain": [
       "<IPython.core.display.Image object>"
      ]
     },
     "execution_count": 34,
     "metadata": {},
     "output_type": "execute_result"
    }
   ],
   "source": [
    "from IPython import display\n",
    "display.Image (\"./symmetric.png\")"
   ]
  },
  {
   "cell_type": "code",
   "execution_count": 35,
   "id": "b53c0795",
   "metadata": {},
   "outputs": [
    {
     "name": "stdout",
     "output_type": "stream",
     "text": [
      "{'yellow', 'orange', 'blue', 'green'}\n",
      "{'yellow', 'orange', 'blue', 'green'}\n"
     ]
    }
   ],
   "source": [
    "A = {'red', 'green', 'blue'}\n",
    "B = {'yellow', 'red', 'orange'}\n",
    "\n",
    "# by operator\n",
    "print(A ^ B)\n",
    "# Prints {'orange', 'blue', 'green', 'yellow'}\n",
    "\n",
    "# by method\n",
    "print(A.symmetric_difference(B))\n",
    "# Prints {'orange', 'blue', 'green', 'yellow'}"
   ]
  },
  {
   "cell_type": "markdown",
   "id": "ba1f3bd0",
   "metadata": {},
   "source": [
    "`Other Set Operations`\n",
    "--\n",
    "Below is a list of all set operations available in Python.\n",
    "\n",
    "Python Set Methods\n",
    "\n",
    "`Method\t                                        Description`\n",
    "\n",
    "`union()\t                        Return a new set containing the union of two or more sets`\n",
    "\n",
    "`update()\t                       Modify this set with the union of this set and other sets`\n",
    "\n",
    "`intersection() \t                Returns a new set which is the intersection of two or more sets`\n",
    "\n",
    "`intersection_update()\t          Removes the items from this set that are not present in other sets`\n",
    "\n",
    "`difference()\t                   Returns a new set containing the difference between two or more sets`\n",
    "\n",
    "`difference_update()\t            Removes the items from this set that are also included in another set`\n",
    "\n",
    "`symmetric_difference()\t         Returns a new set with the symmetric differences of two or more sets`\n",
    "\n",
    "`symmetric_difference_update()\t  Modify this set with the symmetric difference of this set and other set`\n",
    "\n",
    "`isdisjoint()\t                   Determines whether or not two sets have any elements in common`\n",
    "\n",
    "`issubset()\t                     Determines whether one set is a subset of the other`\n",
    "\n",
    "`issuperset()\t                   Determines whether one set is a superset of the other`\n",
    " "
   ]
  },
  {
   "cell_type": "markdown",
   "id": "9e8fbd6a",
   "metadata": {},
   "source": [
    "`Built-in Functions with Set`\n",
    "--\n",
    "Below is a list of all built-in functions that you can use with set objects.\n",
    "\n",
    "Python Built-in Functions with Set\n",
    "\n",
    "`Method\t                                   Description`\n",
    "\n",
    "`all()\t                         Returns True if all items in a set are true`\n",
    "\n",
    "`any()                             Returns True if any item in a set is true`\n",
    "\n",
    "`enumerate()\t                   Takes a set and returns an enumerate object`\n",
    "\n",
    "`len()\t                         Returns the number of items in the set`\n",
    "\n",
    "`max()\t                         Returns the largest item of the set`\n",
    "\n",
    "`min()\t                         Returns the smallest item of the set`\n",
    "\n",
    "`sorted()\t                      Returns a sorted set`\n",
    "\n",
    "`sum()\t                         Sums items of the set`"
   ]
  },
  {
   "cell_type": "markdown",
   "id": "2798e51a",
   "metadata": {},
   "source": [
    "`End of this Module`\n",
    "--"
   ]
  }
 ],
 "metadata": {
  "kernelspec": {
   "display_name": "Python 3",
   "language": "python",
   "name": "python3"
  },
  "language_info": {
   "codemirror_mode": {
    "name": "ipython",
    "version": 3
   },
   "file_extension": ".py",
   "mimetype": "text/x-python",
   "name": "python",
   "nbconvert_exporter": "python",
   "pygments_lexer": "ipython3",
   "version": "3.8.8"
  }
 },
 "nbformat": 4,
 "nbformat_minor": 5
}
