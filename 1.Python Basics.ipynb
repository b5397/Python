{
 "cells": [
  {
   "cell_type": "markdown",
   "metadata": {},
   "source": [
    "`Python`\n",
    "--\n",
    "Python is a general-purpose interpreted, interactive, object-oriented, and high-level programming language. It was created by **Guido van Rossum during 1985- 1990.** \n",
    "\n",
    "Language is not named after a snake,\n",
    "but after a comedy show \"Flying Circus\" which Monty Python was a fan of.\n",
    "\n",
    "`Why to Learn Python?`\n",
    "\n",
    "**Python is a high-level, interpreted, interactive and object-oriented scripting language. Python is designed to be highly readable. It uses English keywords frequently where as other languages use punctuation, and it has fewer syntactical constructions than other languages.**\n",
    "\n",
    "Following are important characteristics of Python Programming −\n",
    "\n",
    "1. It supports functional and structured programming methods as well as OOP.\n",
    "\n",
    "2. It can be used as a scripting language or can be compiled to byte-code for building large applications.\n",
    "\n",
    "3. It provides very high-level dynamic data types and supports dynamic type checking.\n",
    "\n",
    "4. It supports automatic garbage collection.\n",
    "\n",
    "5. It can be easily integrated with C, C++, COM, ActiveX, CORBA, and Java."
   ]
  },
  {
   "cell_type": "markdown",
   "metadata": {},
   "source": [
    "`Why Choose Python?`\n",
    "1. **Python is Popular:** Accordin to Stack Overflow Developer Survey, Python is the 7th most popular and the number one most wanted technology.\n",
    "\n",
    "2. **Python is Simple:** Python has a simple syntax similar to the English language.\n",
    "\n",
    "3. **Python is Free:** The Python is developed under an open-source license, making it free to install, use, and distribute, even for commercial purposes.\n",
    "\n",
    "4. **Python is Platform Independent:** Python works on different platforms (Windows, Mac, Linux etc).\n",
    "\n",
    "5. **Python is Portable:** Code written for one platform will work on any other platform.\n",
    "\n",
    "6. **Python is Interpreted:** Meaning that code can be executed as soon as it is written. This means, quicker development cycles.\n"
   ]
  },
  {
   "cell_type": "markdown",
   "metadata": {},
   "source": [
    "`Applications of Python`\n",
    "--\n",
    "1. **Easy-to-learn:** Python has few keywords, simple structure, and a clearly defined syntax. This allows the student to pick up the language quickly.\n",
    "\n",
    "2. **Easy-to-read:** Python code is more clearly defined and visible to the eyes.\n",
    "\n",
    "3. **Easy-to-maintain:** Python's source code is fairly easy-to-maintain.\n",
    "\n",
    "4. **A broad standard library:** Python's bulk of the library is very portable and cross-platform compatible on UNIX, Windows, and Macintosh.\n",
    "\n",
    "5. **Interactive Mode:** Python has support for an interactive mode which allows interactive testing and debugging of snippets of code.\n",
    "\n",
    "6. **Portable:** Python can run on a wide variety of hardware platforms and has the same interface on all platforms.\n",
    "\n",
    "7. **Extendable:** You can add low-level modules to the Python interpreter. These modules enable programmers to add to or customize their tools to be more efficient.\n",
    "\n",
    "8. **Databases:** Python provides interfaces to all major commercial databases.\n",
    "\n",
    "9. **GUI Programming:** Python supports GUI applications that can be created and ported to many system calls, libraries and windows systems, such as Windows MFC, Macintosh, and the X Window system of Unix.\n",
    "\n",
    "10. **Scalable:** Python provides a better structure and support for large programs than shell scripting."
   ]
  },
  {
   "cell_type": "markdown",
   "metadata": {},
   "source": [
    "`Python Operators`\n",
    "--\n",
    "perators are used to perform operations on values and variables. The Python operators are classified into seven different categories:\n",
    "\n",
    "1. Arithmetic operators\n",
    "2. Assignment operators\n",
    "3. Comparison operators\n",
    "4. Logical operators\n",
    "5. Identity operators\n",
    "6. Membership operators\n",
    "7. Bitwise operators\n",
    "\n",
    "**Arithmetic Operators**\n",
    "\n",
    "Arithmetic operators are used to perform simple mathematical operations on numeric values (except complex).\n",
    "\n",
    "Python Arithmetic operators\n",
    "Operator\tMeaning\tExample\n",
    "Addition\tx + y\n",
    "\n",
    "Subtraction\tx – y\n",
    "\n",
    "Multiplication\tx * y\n",
    "\n",
    "Division\tx / y\n",
    "\n",
    "Modulus\tx % y\n",
    "\n",
    "Exponentiation\tx ** y\n",
    "\n",
    "Floor division\tx // y"
   ]
  },
  {
   "cell_type": "code",
   "execution_count": 1,
   "metadata": {},
   "outputs": [
    {
     "name": "stdout",
     "output_type": "stream",
     "text": [
      "8\n",
      "4\n",
      "12\n",
      "3.0\n",
      "0\n",
      "36\n",
      "3\n"
     ]
    }
   ],
   "source": [
    "x = 6\n",
    "y = 2\n",
    "\n",
    "# addition\n",
    "print(x + y)\t\t# 8\n",
    "\n",
    "# subtraction\n",
    "print(x - y)\t\t# 4\n",
    "\n",
    "# multiplication\n",
    "print(x * y)\t\t# 12\n",
    "\n",
    "# division\n",
    "print(x / y)\t\t# 3\n",
    "\n",
    "# modulus\n",
    "print(x % y)\t\t# 0\n",
    "\n",
    "# exponentiation\n",
    "print(x ** y)\t\t# 36\n",
    "\n",
    "# floor division\n",
    "print(x // y)\t\t# 3"
   ]
  },
  {
   "cell_type": "markdown",
   "metadata": {},
   "source": [
    "`Assignment Operators`\n",
    "--\n",
    "Assignment operators are used to assign new values to variables.\n",
    "\n",
    "Python Assignment operators\n",
    "\n",
    "\n",
    "**`Operator\t                  Meaning\t                            Example\t               Equivatent to`**  \n",
    "\n",
    "\n",
    "`1. =\t                      Assignment\t                          x = 3\t                    x = 3`\n",
    "\n",
    "\n",
    "`2. +=\t                    Addition assignment\t                  x += 3\t                x = x + 3`\n",
    "\n",
    "\n",
    "`3. -=\t                    Subtraction assignment\t               x -= 3\t                x = x – 3`\n",
    "\n",
    "\n",
    "`4. *=\t                    Multiplication assignment\t            x *= 3\t                x = x * 3`\n",
    "\n",
    "\n",
    "`5. /=\t                    Division assignment\t                  x /= 3\t                x = x / 3`\n",
    "\n",
    "\n",
    "`6. %=\t                    Modulus assignment\t                   x %= 3\t                x = x % 3`\n",
    "\n",
    "\n",
    "`7. //=\t                   Floor division assignment\t            x //= 3                   x = x // 3`\n",
    "\n",
    "\n",
    "`8. **=                       Exponentiation assignment\t            x **= 3                  x = x ** 3`\n",
    "\n",
    "\n",
    "`9. &=\t                    Bitwise AND assignment\t               x &= 3\t                x = x & 3`\n",
    "\n",
    "\n",
    "`10. |=\t                   Bitwise OR assignment\t                x |= 3\t                x = x | 3`\n",
    "\n",
    "\n",
    "`11. ^=\t                   Bitwise XOR assignment\t               x ^= 3\t                x = x ^ 3`\n",
    "\n",
    "\n",
    "`12. **>>=\t                Bitwise right shift assignment\t       x >>= 3\t               x = x >> 3**`\n",
    "\n",
    "\n",
    "`13. **<<=\t                Bitwise left shift assignment\t        x <<= 3\t               x = x << 3**`\n"
   ]
  },
  {
   "cell_type": "markdown",
   "metadata": {},
   "source": [
    "`Comparison Operators`\n",
    "--\n",
    "Comparison operators are used to compare two values.\n",
    "\n",
    "`Operator\t           Meaning\t                    Example`\n",
    "\n",
    "`==\t                 Equal to\t                    x== y`\n",
    "\n",
    "`!=\t                 Not equal to\t                x!= y`\n",
    "\n",
    "`>\t                  Greater than\t                x > y`\n",
    "\n",
    "`<\t                  Less than\t                   x < y`\n",
    "\n",
    "`>=\t                 Greater than or equal to\t    x>= y`\n",
    "\n",
    "`<=\t                 Less than or equal to\t       x<= y`"
   ]
  },
  {
   "cell_type": "code",
   "execution_count": 2,
   "metadata": {},
   "outputs": [
    {
     "name": "stdout",
     "output_type": "stream",
     "text": [
      "False\n",
      "True\n",
      "True\n",
      "False\n",
      "True\n",
      "False\n"
     ]
    }
   ],
   "source": [
    "x = 6\n",
    "y = 2\n",
    "\n",
    "# equal to\n",
    "print(x == y)\t\t# False\n",
    "\n",
    "# not equal to\n",
    "print(x != y)\t\t# True\n",
    "\n",
    "# greater than\n",
    "print(x > y)\t\t# True\n",
    "\n",
    "# less than\n",
    "print(x < y)\t\t# False\n",
    "\n",
    "# greater than or equal to\n",
    "print(x >= y)\t\t# True\n",
    "\n",
    "# less than or equal to\n",
    "print(x <= y)\t\t# False"
   ]
  },
  {
   "cell_type": "markdown",
   "metadata": {},
   "source": [
    "`Logical Operators`\n",
    "--\n",
    "Logical operators are used to join two or more conditions.\n",
    "\n",
    "Python Logical operators\n",
    "\n",
    "`Operator\t            Description\t                                          Example`\n",
    "\n",
    "`and\t          Returns True if both statements are true\t                     x > 0 and y < 0`\n",
    "\n",
    "`or\t           Returns True if one of the statements is true\t                x > 0 or y < 0`\n",
    "\n",
    "`not\t          Reverse the result, returns False if the result is true\t      not(x > 0 and y < 0)`"
   ]
  },
  {
   "cell_type": "code",
   "execution_count": 3,
   "metadata": {},
   "outputs": [
    {
     "name": "stdout",
     "output_type": "stream",
     "text": [
      "True\n",
      "True\n",
      "False\n"
     ]
    }
   ],
   "source": [
    "x = 2\n",
    "y = -2\n",
    "\n",
    "# and\n",
    "print(x > 0 and y < 0)          # True\n",
    "\n",
    "# or\n",
    "print(x > 0 or y < 0)           # True\n",
    "\n",
    "# not\n",
    "print(not(x > 0 and y < 0))     # False"
   ]
  },
  {
   "cell_type": "markdown",
   "metadata": {},
   "source": [
    "`Identity Operators`\n",
    "--\n",
    "Identity operators are used to check if two objects point to the same object, with the same memory location.\n",
    "\n",
    "Python Identity operators\n",
    "\n",
    "`Operator\t                           Description\t                                   Example`\n",
    "\n",
    "`is\t                       Returns true if both variables are the sameobject\t          x is y`\n",
    "\n",
    "`isnot\t                   Returns true if both variables are not the same object\t  x is not y`"
   ]
  },
  {
   "cell_type": "code",
   "execution_count": 4,
   "metadata": {},
   "outputs": [
    {
     "name": "stdout",
     "output_type": "stream",
     "text": [
      "False\n",
      "True\n"
     ]
    }
   ],
   "source": [
    "x = [1, 2, 3]\n",
    "y = [1, 2, 3]\n",
    "\n",
    "# is\n",
    "print(x is y)\t\t# False\n",
    "\n",
    "# is not\n",
    "print(x is not y)\t# True"
   ]
  },
  {
   "cell_type": "markdown",
   "metadata": {},
   "source": [
    "`Membership Operators`\n",
    "--\n",
    "\n",
    "Membership operators are used to check if a specific item is present in a sequence (such as a string, tuple, list, or range) or a collection (such as a dictionary, set, or frozen set).\n",
    "\n",
    "Python Membership operators\n",
    "\n",
    "`Operator\t                  Description\t                                               Example`\n",
    "\n",
    "`in\t                        Returns True if a value is present in the sequence           x in y` \n",
    "\n",
    "`not in\t                    Returns True if a value is not present in the sequence\t  x not in y` "
   ]
  },
  {
   "cell_type": "code",
   "execution_count": 5,
   "metadata": {},
   "outputs": [
    {
     "name": "stdout",
     "output_type": "stream",
     "text": [
      "True\n",
      "True\n"
     ]
    }
   ],
   "source": [
    "L = ['red', 'green', 'blue']\n",
    "\n",
    "# in\n",
    "print('red' in L)           # True\n",
    "\n",
    "# not in\n",
    "print('yellow' not in L)    # True"
   ]
  },
  {
   "cell_type": "markdown",
   "metadata": {},
   "source": [
    "`Bitwise Operators`\n",
    "--\n",
    "Binary operators are used to perform bit-level operations on (binary) numbers.\n",
    "\n",
    "Python Bitwise operators\n",
    "\n",
    "`Operator\t        Meaning\t    Example`\n",
    "\n",
    "`&\t                AND\t        x & y`\n",
    "\n",
    "`|\t                 OR\t        x | y`\n",
    "\n",
    "`^\t                XOR            x ^ y`\n",
    "\n",
    "`~\t                 NOT\t       ~x`\n",
    "\n",
    "`<<\t              Left shift\t   x << 2`\n",
    "\n",
    "`>>              \tRight shift\t  x >> 2`"
   ]
  },
  {
   "cell_type": "code",
   "execution_count": 6,
   "metadata": {},
   "outputs": [
    {
     "name": "stdout",
     "output_type": "stream",
     "text": [
      "0b1000\n",
      "0b1110\n",
      "0b110\n",
      "-0b1101\n",
      "0b110000\n",
      "0b11\n"
     ]
    }
   ],
   "source": [
    "x = 0b1100\n",
    "y = 0b1010\n",
    "\n",
    "# and\n",
    "print(bin(x & y))\t    # 0b1000\n",
    "\n",
    "# or\n",
    "print(bin(x | y))\t    # 0b1110\n",
    "\n",
    "# xor\n",
    "print(bin(x ^ y))\t    # 0b0110\n",
    "\n",
    "# not\n",
    "print(bin(~x))\t\t    # -0b1101\n",
    "\n",
    "# shift 2 bits left\n",
    "print(bin(x << 2))\t    # 0b1100\n",
    "\n",
    "# shift 2 bits right\n",
    "print(bin(x >> 2))\t    # 0b0011"
   ]
  },
  {
   "cell_type": "markdown",
   "metadata": {},
   "source": [
    "`Python Data Types`\n",
    "--\n",
    "Variables can hold values of different data types.\n",
    "\n",
    "Python is a dynamically typed language hence we need not define the type of the variable while declaring it. \n",
    "\n",
    "The interpreter implicitly binds the value with its type.\n",
    "\n",
    "Python enables us to check the type of the variable used in the program. Python provides us the type() function which returns the type of the variable passed."
   ]
  },
  {
   "cell_type": "code",
   "execution_count": 7,
   "metadata": {},
   "outputs": [
    {
     "name": "stdout",
     "output_type": "stream",
     "text": [
      "2\n",
      "<class 'int'>\n",
      "Hi Darshan\n",
      "<class 'str'>\n",
      "23.15\n",
      "<class 'float'>\n"
     ]
    }
   ],
   "source": [
    "# type your code here\n",
    "a = 2\n",
    "print(a)\n",
    "print( type(a) )\n",
    "b = \"Hi Darshan\"\n",
    "print(b)\n",
    "print( type(b) )\n",
    "c = 23.15\n",
    "print(c)\n",
    "print( type(c) )"
   ]
  },
  {
   "cell_type": "code",
   "execution_count": 8,
   "metadata": {},
   "outputs": [
    {
     "name": "stdout",
     "output_type": "stream",
     "text": [
      "3\n"
     ]
    }
   ],
   "source": [
    "a=1\n",
    "b=2\n",
    "c=a+b\n",
    "print(c)"
   ]
  },
  {
   "cell_type": "code",
   "execution_count": 9,
   "metadata": {},
   "outputs": [
    {
     "name": "stdout",
     "output_type": "stream",
     "text": [
      "My name is Darshan Ingle\n",
      "My name is Darshan Ingle\n",
      "c\n",
      "3\n"
     ]
    }
   ],
   "source": [
    "print(\"My name is Darshan Ingle\")\n",
    "print('My name is Darshan Ingle')\n",
    "print(\"c\")\n",
    "print(c)"
   ]
  },
  {
   "cell_type": "code",
   "execution_count": 10,
   "metadata": {
    "scrolled": true
   },
   "outputs": [
    {
     "name": "stdout",
     "output_type": "stream",
     "text": [
      "c= 40\n",
      "Addition of a= 10  and b= 30  is c= 40\n"
     ]
    }
   ],
   "source": [
    "a=10\n",
    "b=30\n",
    "c=a+b\n",
    "print(\"c=\",c)\n",
    "print(\"Addition of a=\",a,\" and b=\",b,\" is c=\",c)"
   ]
  },
  {
   "cell_type": "markdown",
   "metadata": {},
   "source": [
    "Standard data types\n",
    "--\n",
    "A variable can hold different types of values. For example, a person's name must be stored as a string whereas its id must be stored as an integer.\n",
    "\n",
    "Python provides various standard data types that define the storage method on each of them. The data types defined in Python are given below.\n",
    "\n",
    "> Numbers\n",
    "\n",
    "> String\n",
    "\n",
    "> List\n",
    "\n",
    "> Tuple\n",
    "\n",
    "> Dictionary"
   ]
  },
  {
   "cell_type": "markdown",
   "metadata": {},
   "source": [
    "`Numbers`\n",
    "--"
   ]
  },
  {
   "cell_type": "code",
   "execution_count": 11,
   "metadata": {},
   "outputs": [
    {
     "data": {
      "image/png": "[encoded data removed]",
      "text/plain": [
       "<IPython.core.display.Image object>"
      ]
     },
     "execution_count": 11,
     "metadata": {},
     "output_type": "execute_result"
    }
   ],
   "source": [
    "from IPython import display\n",
    "display.Image (\"./number.png\")"
   ]
  },
  {
   "cell_type": "markdown",
   "metadata": {},
   "source": [
    "Number stores numeric values. Python creates Number objects when a number is assigned to a variable. For example;\n",
    "\n",
    "a = 3 , b = 5  #a and b are number objects  \n",
    "Python supports 4 types of numeric data.\n",
    "\n",
    "int (signed integers like 10, 2, 29, etc.)\n",
    "\n",
    "float (float is used to store floating point numbers like 1.9, 9.902, 15.2, etc.)\n",
    "\n",
    "complex (complex numbers like 2.14j, 2.0 + 2.3j, etc.)\n",
    "\n",
    "Python allows us to use a lower-case L to be used with long integers. However, we must always use an upper-case L to avoid confusion.\n",
    "\n",
    "A complex number contains an ordered pair, i.e., x + iy where x and y denote the real and imaginary parts respectively)."
   ]
  },
  {
   "cell_type": "code",
   "execution_count": 12,
   "metadata": {},
   "outputs": [
    {
     "name": "stdout",
     "output_type": "stream",
     "text": [
      "5464151351351658964\n",
      "(-3+9j)\n"
     ]
    }
   ],
   "source": [
    "a = 5464151351351658964\n",
    "print(a)\n",
    "c1 = 2+3j\n",
    "c2 = 5-6j\n",
    "c3 = c1-c2\n",
    "print(c3)"
   ]
  },
  {
   "cell_type": "code",
   "execution_count": 13,
   "metadata": {},
   "outputs": [
    {
     "data": {
      "text/plain": [
       "str"
      ]
     },
     "execution_count": 13,
     "metadata": {},
     "output_type": "execute_result"
    }
   ],
   "source": [
    "type(\"Hello World\")"
   ]
  },
  {
   "cell_type": "code",
   "execution_count": 14,
   "metadata": {},
   "outputs": [
    {
     "data": {
      "text/plain": [
       "int"
      ]
     },
     "execution_count": 14,
     "metadata": {},
     "output_type": "execute_result"
    }
   ],
   "source": [
    "type(17)"
   ]
  },
  {
   "cell_type": "code",
   "execution_count": 15,
   "metadata": {},
   "outputs": [
    {
     "data": {
      "text/plain": [
       "float"
      ]
     },
     "execution_count": 15,
     "metadata": {},
     "output_type": "execute_result"
    }
   ],
   "source": [
    "type(3.2)"
   ]
  },
  {
   "cell_type": "code",
   "execution_count": 16,
   "metadata": {},
   "outputs": [
    {
     "data": {
      "text/plain": [
       "str"
      ]
     },
     "execution_count": 16,
     "metadata": {},
     "output_type": "execute_result"
    }
   ],
   "source": [
    "type('3.2')"
   ]
  },
  {
   "cell_type": "markdown",
   "metadata": {},
   "source": [
    "* When you type large integers, you might be tempted to use commas.\n",
    "\n",
    "`a = 1,00,00\n",
    "print(a)`\n",
    "\n",
    "* This code wont give any erros, but it doesnt produce the right output too."
   ]
  },
  {
   "cell_type": "raw",
   "metadata": {},
   "source": [
    "Variable names\n",
    "Give meaningful names.\n",
    "Contain both letters and numbers.\n",
    "Underscore can appear in a name.\n",
    "\n",
    "76abc  Syntax error\n",
    "more@=1000   Syntax error\n",
    "\n",
    "Keywords cannot be variable names"
   ]
  },
  {
   "cell_type": "markdown",
   "metadata": {},
   "source": [
    "String\n",
    "--\n",
    "The string can be defined as the sequence of characters represented in the quotation marks. In python, we can use single or double quotes to define a string.\n",
    "\n",
    "The operator * is known as repetition operator as the operation \"Python \" *2 returns \"Python Python \""
   ]
  },
  {
   "cell_type": "code",
   "execution_count": 17,
   "metadata": {},
   "outputs": [
    {
     "name": "stdout",
     "output_type": "stream",
     "text": [
      "hello Python how are you\n",
      "hello Pythonhello Pythonhello Python\n"
     ]
    }
   ],
   "source": [
    "str1 = 'hello Python' # string str1  \n",
    "str2 = ' how are you' # string str2  \n",
    "# type your code here\n",
    "z = str1+str2\n",
    "print(z)\n",
    "print(str1*3)"
   ]
  },
  {
   "cell_type": "code",
   "execution_count": 18,
   "metadata": {},
   "outputs": [
    {
     "name": "stdout",
     "output_type": "stream",
     "text": [
      "Darshan\n",
      "D\n",
      "a\n",
      "n\n",
      "D\n",
      "arsh\n",
      "Dar\n",
      "shan\n",
      "Darsha\n",
      "arsh\n",
      "r h\n",
      "Darshan\n",
      "nahsraD\n"
     ]
    }
   ],
   "source": [
    "s = \"Darshan\"\n",
    "print(s)\n",
    "print(s[0])\n",
    "print(s[5])\n",
    "# print(s[7]) # gives error\n",
    "print(s[-1])\n",
    "print(s[-7])\n",
    "print(s[1 : 5]) # start_index to (end_index-1)\n",
    "print(s[0:3]) # 0 to (3-1)\n",
    "print(s[3:])\n",
    "print(s[:6]) # 0 to (6-1)\n",
    "print(s[-6:-2]) # SI=-6 and (EI-1)=(-2-1)\n",
    "print(s[2],s[4])\n",
    "print(s)\n",
    "print(s[::-1]) # Print the string in reverse"
   ]
  },
  {
   "cell_type": "markdown",
   "metadata": {},
   "source": [
    "`Python Keywords`\n",
    "--\n",
    "Python Keywords are special reserved words which convey a special meaning to the compiler/interpreter. Each keyword have a special meaning and a specific operation. These keywords can't be used as variable. \n",
    "\n",
    "Following is the List of Python Keywords.\n",
    "\n",
    "True\n",
    "\n",
    "False\n",
    "\n",
    "None\n",
    "\n",
    "and\n",
    "\n",
    "as\n",
    "\n",
    "asset\n",
    "\n",
    "def\n",
    "\n",
    "class\n",
    "\n",
    "continue\n",
    "\n",
    "break\n",
    "\n",
    "else\n",
    "\n",
    "finally\n",
    "\n",
    "elif\n",
    "\n",
    "del\n",
    "\n",
    "except\n",
    "\n",
    "global\n",
    "\n",
    "for\n",
    "\n",
    "if\n",
    "\n",
    "from\n",
    "\n",
    "import\n",
    "\n",
    "raise\n",
    "\n",
    "try\n",
    "\n",
    "or\n",
    "\n",
    "return\n",
    "\n",
    "pass\n",
    "\n",
    "nonlocal\n",
    "\n",
    "in\n",
    "\n",
    "not\n",
    "\n",
    "is\n",
    "\n",
    "lambda"
   ]
  },
  {
   "cell_type": "markdown",
   "metadata": {},
   "source": [
    "`Comments:`\n",
    "--"
   ]
  },
  {
   "cell_type": "raw",
   "metadata": {},
   "source": [
    "1. # for single line comments\n",
    "\n",
    "2. \"\"\"This is\n",
    "   for multi-line\n",
    "   comments\"\"\""
   ]
  },
  {
   "cell_type": "markdown",
   "metadata": {},
   "source": [
    "`Order of Operations:`\n",
    "PEMDAS"
   ]
  },
  {
   "cell_type": "code",
   "execution_count": 21,
   "metadata": {},
   "outputs": [
    {
     "ename": "SyntaxError",
     "evalue": "invalid syntax (<ipython-input-21-52645fe33f01>, line 2)",
     "output_type": "error",
     "traceback": [
      "\u001b[1;36m  File \u001b[1;32m\"<ipython-input-21-52645fe33f01>\"\u001b[1;36m, line \u001b[1;32m2\u001b[0m\n\u001b[1;33m    =(2+3)-1\u001b[0m\n\u001b[1;37m    ^\u001b[0m\n\u001b[1;31mSyntaxError\u001b[0m\u001b[1;31m:\u001b[0m invalid syntax\n"
     ]
    }
   ],
   "source": [
    "2+3-1\n",
    "=(2+3)-1\n",
    "=4\n",
    "\n",
    "1+1**5-2\n",
    "=1+(1**5)-2\n",
    "=1+1-2\n",
    "=0\n",
    "\n",
    "2*3/2\n",
    "=(2*3)/2\n",
    "3"
   ]
  },
  {
   "cell_type": "code",
   "execution_count": 22,
   "metadata": {},
   "outputs": [
    {
     "name": "stdout",
     "output_type": "stream",
     "text": [
      "4\n",
      "1\n",
      "2\n",
      "3.5\n",
      "3.725290298461914e-09\n"
     ]
    }
   ],
   "source": [
    "print(2+3-1)\n",
    "print(1+1**5-1)\n",
    "print(1+1**(5-2))\n",
    "print(2+3/2)\n",
    "print(2**(3+5-(1+3)*9))"
   ]
  },
  {
   "cell_type": "markdown",
   "metadata": {},
   "source": [
    "`Math Functions`\n",
    "--\n",
    " Import module 'math' for this"
   ]
  },
  {
   "cell_type": "code",
   "execution_count": 24,
   "metadata": {},
   "outputs": [
    {
     "name": "stdout",
     "output_type": "stream",
     "text": [
      "<module 'math' (built-in)>\n"
     ]
    }
   ],
   "source": [
    "import math\n",
    "print(math)"
   ]
  },
  {
   "cell_type": "code",
   "execution_count": 25,
   "metadata": {},
   "outputs": [
    {
     "name": "stdout",
     "output_type": "stream",
     "text": [
      "Help on built-in module math:\n",
      "\n",
      "NAME\n",
      "    math\n",
      "\n",
      "DESCRIPTION\n",
      "    This module provides access to the mathematical functions\n",
      "    defined by the C standard.\n",
      "\n",
      "FUNCTIONS\n",
      "    acos(x, /)\n",
      "        Return the arc cosine (measured in radians) of x.\n",
      "    \n",
      "    acosh(x, /)\n",
      "        Return the inverse hyperbolic cosine of x.\n",
      "    \n",
      "    asin(x, /)\n",
      "        Return the arc sine (measured in radians) of x.\n",
      "    \n",
      "    asinh(x, /)\n",
      "        Return the inverse hyperbolic sine of x.\n",
      "    \n",
      "    atan(x, /)\n",
      "        Return the arc tangent (measured in radians) of x.\n",
      "    \n",
      "    atan2(y, x, /)\n",
      "        Return the arc tangent (measured in radians) of y/x.\n",
      "        \n",
      "        Unlike atan(y/x), the signs of both x and y are considered.\n",
      "    \n",
      "    atanh(x, /)\n",
      "        Return the inverse hyperbolic tangent of x.\n",
      "    \n",
      "    ceil(x, /)\n",
      "        Return the ceiling of x as an Integral.\n",
      "        \n",
      "        This is the smallest integer >= x.\n",
      "    \n",
      "    comb(n, k, /)\n",
      "        Number of ways to choose k items from n items without repetition and without order.\n",
      "        \n",
      "        Evaluates to n! / (k! * (n - k)!) when k <= n and evaluates\n",
      "        to zero when k > n.\n",
      "        \n",
      "        Also called the binomial coefficient because it is equivalent\n",
      "        to the coefficient of k-th term in polynomial expansion of the\n",
      "        expression (1 + x)**n.\n",
      "        \n",
      "        Raises TypeError if either of the arguments are not integers.\n",
      "        Raises ValueError if either of the arguments are negative.\n",
      "    \n",
      "    copysign(x, y, /)\n",
      "        Return a float with the magnitude (absolute value) of x but the sign of y.\n",
      "        \n",
      "        On platforms that support signed zeros, copysign(1.0, -0.0)\n",
      "        returns -1.0.\n",
      "    \n",
      "    cos(x, /)\n",
      "        Return the cosine of x (measured in radians).\n",
      "    \n",
      "    cosh(x, /)\n",
      "        Return the hyperbolic cosine of x.\n",
      "    \n",
      "    degrees(x, /)\n",
      "        Convert angle x from radians to degrees.\n",
      "    \n",
      "    dist(p, q, /)\n",
      "        Return the Euclidean distance between two points p and q.\n",
      "        \n",
      "        The points should be specified as sequences (or iterables) of\n",
      "        coordinates.  Both inputs must have the same dimension.\n",
      "        \n",
      "        Roughly equivalent to:\n",
      "            sqrt(sum((px - qx) ** 2.0 for px, qx in zip(p, q)))\n",
      "    \n",
      "    erf(x, /)\n",
      "        Error function at x.\n",
      "    \n",
      "    erfc(x, /)\n",
      "        Complementary error function at x.\n",
      "    \n",
      "    exp(x, /)\n",
      "        Return e raised to the power of x.\n",
      "    \n",
      "    expm1(x, /)\n",
      "        Return exp(x)-1.\n",
      "        \n",
      "        This function avoids the loss of precision involved in the direct evaluation of exp(x)-1 for small x.\n",
      "    \n",
      "    fabs(x, /)\n",
      "        Return the absolute value of the float x.\n",
      "    \n",
      "    factorial(x, /)\n",
      "        Find x!.\n",
      "        \n",
      "        Raise a ValueError if x is negative or non-integral.\n",
      "    \n",
      "    floor(x, /)\n",
      "        Return the floor of x as an Integral.\n",
      "        \n",
      "        This is the largest integer <= x.\n",
      "    \n",
      "    fmod(x, y, /)\n",
      "        Return fmod(x, y), according to platform C.\n",
      "        \n",
      "        x % y may differ.\n",
      "    \n",
      "    frexp(x, /)\n",
      "        Return the mantissa and exponent of x, as pair (m, e).\n",
      "        \n",
      "        m is a float and e is an int, such that x = m * 2.**e.\n",
      "        If x is 0, m and e are both 0.  Else 0.5 <= abs(m) < 1.0.\n",
      "    \n",
      "    fsum(seq, /)\n",
      "        Return an accurate floating point sum of values in the iterable seq.\n",
      "        \n",
      "        Assumes IEEE-754 floating point arithmetic.\n",
      "    \n",
      "    gamma(x, /)\n",
      "        Gamma function at x.\n",
      "    \n",
      "    gcd(x, y, /)\n",
      "        greatest common divisor of x and y\n",
      "    \n",
      "    hypot(...)\n",
      "        hypot(*coordinates) -> value\n",
      "        \n",
      "        Multidimensional Euclidean distance from the origin to a point.\n",
      "        \n",
      "        Roughly equivalent to:\n",
      "            sqrt(sum(x**2 for x in coordinates))\n",
      "        \n",
      "        For a two dimensional point (x, y), gives the hypotenuse\n",
      "        using the Pythagorean theorem:  sqrt(x*x + y*y).\n",
      "        \n",
      "        For example, the hypotenuse of a 3/4/5 right triangle is:\n",
      "        \n",
      "            >>> hypot(3.0, 4.0)\n",
      "            5.0\n",
      "    \n",
      "    isclose(a, b, *, rel_tol=1e-09, abs_tol=0.0)\n",
      "        Determine whether two floating point numbers are close in value.\n",
      "        \n",
      "          rel_tol\n",
      "            maximum difference for being considered \"close\", relative to the\n",
      "            magnitude of the input values\n",
      "          abs_tol\n",
      "            maximum difference for being considered \"close\", regardless of the\n",
      "            magnitude of the input values\n",
      "        \n",
      "        Return True if a is close in value to b, and False otherwise.\n",
      "        \n",
      "        For the values to be considered close, the difference between them\n",
      "        must be smaller than at least one of the tolerances.\n",
      "        \n",
      "        -inf, inf and NaN behave similarly to the IEEE 754 Standard.  That\n",
      "        is, NaN is not close to anything, even itself.  inf and -inf are\n",
      "        only close to themselves.\n",
      "    \n",
      "    isfinite(x, /)\n",
      "        Return True if x is neither an infinity nor a NaN, and False otherwise.\n",
      "    \n",
      "    isinf(x, /)\n",
      "        Return True if x is a positive or negative infinity, and False otherwise.\n",
      "    \n",
      "    isnan(x, /)\n",
      "        Return True if x is a NaN (not a number), and False otherwise.\n",
      "    \n",
      "    isqrt(n, /)\n",
      "        Return the integer part of the square root of the input.\n",
      "    \n",
      "    ldexp(x, i, /)\n",
      "        Return x * (2**i).\n",
      "        \n",
      "        This is essentially the inverse of frexp().\n",
      "    \n",
      "    lgamma(x, /)\n",
      "        Natural logarithm of absolute value of Gamma function at x.\n",
      "    \n",
      "    log(...)\n",
      "        log(x, [base=math.e])\n",
      "        Return the logarithm of x to the given base.\n",
      "        \n",
      "        If the base not specified, returns the natural logarithm (base e) of x.\n",
      "    \n",
      "    log10(x, /)\n",
      "        Return the base 10 logarithm of x.\n",
      "    \n",
      "    log1p(x, /)\n",
      "        Return the natural logarithm of 1+x (base e).\n",
      "        \n",
      "        The result is computed in a way which is accurate for x near zero.\n",
      "    \n",
      "    log2(x, /)\n",
      "        Return the base 2 logarithm of x.\n",
      "    \n",
      "    modf(x, /)\n",
      "        Return the fractional and integer parts of x.\n",
      "        \n",
      "        Both results carry the sign of x and are floats.\n",
      "    \n",
      "    perm(n, k=None, /)\n",
      "        Number of ways to choose k items from n items without repetition and with order.\n",
      "        \n",
      "        Evaluates to n! / (n - k)! when k <= n and evaluates\n",
      "        to zero when k > n.\n",
      "        \n",
      "        If k is not specified or is None, then k defaults to n\n",
      "        and the function returns n!.\n",
      "        \n",
      "        Raises TypeError if either of the arguments are not integers.\n",
      "        Raises ValueError if either of the arguments are negative.\n",
      "    \n",
      "    pow(x, y, /)\n",
      "        Return x**y (x to the power of y).\n",
      "    \n",
      "    prod(iterable, /, *, start=1)\n",
      "        Calculate the product of all the elements in the input iterable.\n",
      "        \n",
      "        The default start value for the product is 1.\n",
      "        \n",
      "        When the iterable is empty, return the start value.  This function is\n",
      "        intended specifically for use with numeric values and may reject\n",
      "        non-numeric types.\n",
      "    \n",
      "    radians(x, /)\n",
      "        Convert angle x from degrees to radians.\n",
      "    \n",
      "    remainder(x, y, /)\n",
      "        Difference between x and the closest integer multiple of y.\n",
      "        \n",
      "        Return x - n*y where n*y is the closest integer multiple of y.\n",
      "        In the case where x is exactly halfway between two multiples of\n",
      "        y, the nearest even value of n is used. The result is always exact.\n",
      "    \n",
      "    sin(x, /)\n",
      "        Return the sine of x (measured in radians).\n",
      "    \n",
      "    sinh(x, /)\n",
      "        Return the hyperbolic sine of x.\n",
      "    \n",
      "    sqrt(x, /)\n",
      "        Return the square root of x.\n",
      "    \n",
      "    tan(x, /)\n",
      "        Return the tangent of x (measured in radians).\n",
      "    \n",
      "    tanh(x, /)\n",
      "        Return the hyperbolic tangent of x.\n",
      "    \n",
      "    trunc(x, /)\n",
      "        Truncates the Real x to the nearest Integral toward 0.\n",
      "        \n",
      "        Uses the __trunc__ magic method.\n",
      "\n",
      "DATA\n",
      "    e = 2.718281828459045\n",
      "    inf = inf\n",
      "    nan = nan\n",
      "    pi = 3.141592653589793\n",
      "    tau = 6.283185307179586\n",
      "\n",
      "FILE\n",
      "    (built-in)\n",
      "\n",
      "\n"
     ]
    }
   ],
   "source": [
    "help(math)"
   ]
  },
  {
   "cell_type": "code",
   "execution_count": 26,
   "metadata": {},
   "outputs": [
    {
     "name": "stdout",
     "output_type": "stream",
     "text": [
      "0.4459230474713877\n"
     ]
    }
   ],
   "source": [
    "a = math.sin(90) # It is used with dot notations\n",
    "b = math.cos(90)\n",
    "print(a+b)"
   ]
  },
  {
   "cell_type": "code",
   "execution_count": 27,
   "metadata": {},
   "outputs": [
    {
     "name": "stdout",
     "output_type": "stream",
     "text": [
      "-3.990400824416484\n"
     ]
    }
   ],
   "source": [
    "a = 2*math.tan(90)\n",
    "print(a)"
   ]
  },
  {
   "cell_type": "code",
   "execution_count": 28,
   "metadata": {},
   "outputs": [
    {
     "name": "stdout",
     "output_type": "stream",
     "text": [
      "2.0\n",
      "6\n",
      "5\n",
      "20.085536923187668\n",
      "1.0986122886681098\n",
      "0.3010299956639812\n",
      "8.0\n"
     ]
    }
   ],
   "source": [
    "print(math.sqrt(4))\n",
    "print(math.ceil(5.1))\n",
    "print(math.floor(5.1))\n",
    "print(math.exp(3.0))\n",
    "print(math.log(3))\n",
    "print(math.log10(2))\n",
    "print(math.pow(2,3))"
   ]
  },
  {
   "cell_type": "code",
   "execution_count": 29,
   "metadata": {},
   "outputs": [
    {
     "data": {
      "text/plain": [
       "10.0"
      ]
     },
     "execution_count": 29,
     "metadata": {},
     "output_type": "execute_result"
    }
   ],
   "source": [
    "math.sqrt(100)"
   ]
  },
  {
   "cell_type": "markdown",
   "metadata": {},
   "source": [
    "`Modulus Operator`"
   ]
  },
  {
   "cell_type": "code",
   "execution_count": 30,
   "metadata": {},
   "outputs": [
    {
     "name": "stdout",
     "output_type": "stream",
     "text": [
      "2.3333333333333335\n",
      "1\n"
     ]
    }
   ],
   "source": [
    "print(7/3)\n",
    "print(7%3)"
   ]
  },
  {
   "cell_type": "markdown",
   "metadata": {},
   "source": [
    "`Taking input from the user`\n",
    "--"
   ]
  },
  {
   "cell_type": "code",
   "execution_count": 31,
   "metadata": {},
   "outputs": [
    {
     "name": "stdout",
     "output_type": "stream",
     "text": [
      "Enter your input:\n",
      "7\n",
      "Entered data is 7\n",
      "<class 'str'>\n"
     ]
    }
   ],
   "source": [
    "print(\"Enter your input:\")\n",
    "x = input()\n",
    "print(\"Entered data is\",x)\n",
    "print(type(x))"
   ]
  },
  {
   "cell_type": "code",
   "execution_count": 32,
   "metadata": {},
   "outputs": [
    {
     "name": "stdout",
     "output_type": "stream",
     "text": [
      "Enter your input:8\n",
      "Entered data is 8\n",
      "<class 'str'>\n"
     ]
    }
   ],
   "source": [
    "x = input(\"Enter your input:\")\n",
    "print(\"Entered data is\",x)\n",
    "print(type(x))"
   ]
  },
  {
   "cell_type": "code",
   "execution_count": 33,
   "metadata": {},
   "outputs": [
    {
     "name": "stdout",
     "output_type": "stream",
     "text": [
      "Enter 1st number:7\n",
      "Enter 2nd number:8\n",
      "15\n"
     ]
    }
   ],
   "source": [
    "a = int(input(\"Enter 1st number:\"))\n",
    "b = int(input(\"Enter 2nd number:\"))\n",
    "c = a+b\n",
    "print(c)"
   ]
  },
  {
   "cell_type": "markdown",
   "metadata": {},
   "source": [
    "`Problems`\n",
    "--"
   ]
  },
  {
   "cell_type": "markdown",
   "metadata": {},
   "source": [
    "**`1.Python program to convert the temperature in degree centigrade to Fahrenheit`**"
   ]
  },
  {
   "cell_type": "code",
   "execution_count": 34,
   "metadata": {},
   "outputs": [
    {
     "name": "stdout",
     "output_type": "stream",
     "text": [
      " Enter temperature in Centigrade: 8\n",
      " Temperature in Fahrenheit is:  46.4\n"
     ]
    }
   ],
   "source": [
    "c = input(\" Enter temperature in Centigrade: \")\n",
    "f = (9*(int(c))/5)+32\n",
    "print(\" Temperature in Fahrenheit is: \", f)"
   ]
  },
  {
   "cell_type": "markdown",
   "metadata": {},
   "source": [
    "**`2.Python program to find the area of a triangle whose sides are given`**"
   ]
  },
  {
   "cell_type": "code",
   "execution_count": 35,
   "metadata": {},
   "outputs": [
    {
     "name": "stdout",
     "output_type": "stream",
     "text": [
      "Enter the length of side a: 8\n",
      "Enter the length of side b: 9\n",
      "Enter the length of side c: 10\n",
      " Area of the triangle is:  34.197039345533994\n"
     ]
    }
   ],
   "source": [
    "a = float(input(\"Enter the length of side a: \"))\n",
    "b = float(input(\"Enter the length of side b: \"))\n",
    "c = float(input(\"Enter the length of side c: \"))\n",
    "s = (a+b+c)/2\n",
    "area = math.sqrt(s*(s-a)*(s-b)*(s-c))\n",
    "print(\" Area of the triangle is: \", area)"
   ]
  },
  {
   "cell_type": "markdown",
   "metadata": {},
   "source": [
    "**`3.Python program to find the circumference and area of a circle with a given radius`**"
   ]
  },
  {
   "cell_type": "code",
   "execution_count": 36,
   "metadata": {},
   "outputs": [
    {
     "name": "stdout",
     "output_type": "stream",
     "text": [
      "Input the radius of the circle: 9\n",
      "The circumference of the circle is:  56.548667764616276\n",
      "The area of the circle is:  254.46900494077323\n"
     ]
    }
   ],
   "source": [
    "r = float(input(\"Input the radius of the circle: \"))\n",
    "c = 2 * math.pi * r\n",
    "area = math.pi * r * r\n",
    "print(\"The circumference of the circle is: \", c)\n",
    "print(\"The area of the circle is: \", area)"
   ]
  },
  {
   "cell_type": "markdown",
   "metadata": {},
   "source": [
    "**`4. Python program to insert a number to any position in a list`**"
   ]
  },
  {
   "cell_type": "code",
   "execution_count": 37,
   "metadata": {},
   "outputs": [
    {
     "name": "stdout",
     "output_type": "stream",
     "text": [
      "[3, 4, 1, 9, 6, 2, 8]\n",
      "Enter the number to be inserted: 9\n",
      "Enter the position: 2\n",
      "[3, 4, 9, 1, 9, 6, 2, 8]\n"
     ]
    }
   ],
   "source": [
    "numbers = [3,4,1,9,6,2,8]\n",
    "print(numbers)\n",
    "x = int(input(\"Enter the number to be inserted: \"))\n",
    "y = int(input(\"Enter the position: \"))\n",
    "numbers.insert(y,x)\n",
    "print(numbers)"
   ]
  },
  {
   "cell_type": "markdown",
   "metadata": {},
   "source": [
    "**`Q5. Python program to delete an element from a list by index`**"
   ]
  },
  {
   "cell_type": "code",
   "execution_count": 38,
   "metadata": {},
   "outputs": [
    {
     "name": "stdout",
     "output_type": "stream",
     "text": [
      "[3, 4, 1, 9, 6, 2, 8]\n",
      "Enter the position of the element to be deleted: 6\n",
      "[3, 4, 1, 9, 6, 2]\n"
     ]
    }
   ],
   "source": [
    "numbers = [3,4,1,9,6,2,8]\n",
    "print(numbers)\n",
    "x = int(input(\"Enter the position of the element to be deleted: \"))\n",
    "numbers.pop(x)\n",
    "print(numbers)"
   ]
  },
  {
   "cell_type": "raw",
   "metadata": {},
   "source": [
    "You cannot perform Mathematical operations on strings.\n",
    "'1'-'2'\n",
    "'eggs'/'hen'\n",
    "'3'*'Tom&Jerry'"
   ]
  },
  {
   "cell_type": "raw",
   "metadata": {},
   "source": [
    "With Strings,\n",
    "+ is concatenation\n",
    "* is repetition"
   ]
  },
  {
   "cell_type": "markdown",
   "metadata": {},
   "source": [
    "`End of this Module`\n",
    "--"
   ]
  }
 ],
 "metadata": {
  "kernelspec": {
   "display_name": "Python 3",
   "language": "python",
   "name": "python3"
  },
  "language_info": {
   "codemirror_mode": {
    "name": "ipython",
    "version": 3
   },
   "file_extension": ".py",
   "mimetype": "text/x-python",
   "name": "python",
   "nbconvert_exporter": "python",
   "pygments_lexer": "ipython3",
   "version": "3.8.8"
  },
  "toc": {
   "base_numbering": 1,
   "nav_menu": {},
   "number_sections": true,
   "sideBar": true,
   "skip_h1_title": false,
   "title_cell": "Table of Contents",
   "title_sidebar": "Contents",
   "toc_cell": false,
   "toc_position": {},
   "toc_section_display": true,
   "toc_window_display": false
  }
 },
 "nbformat": 4,
 "nbformat_minor": 2
}
