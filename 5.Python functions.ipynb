{
 "cells": [
  {
   "cell_type": "markdown",
   "id": "fed608cb",
   "metadata": {},
   "source": [
    "`What is a function in python?`\n",
    "--\n",
    "**In Python , a function is group of related statements tha perfroms a specific task.**\n",
    "* 1. Funstionc help break our program into smallest and moduler chunks.\n",
    "* 2. As our program grows longer and larger, functions make it more organized  and manageable.\n",
    "\n",
    "#### Futhermore, t avoids repetation and makes the code resuable."
   ]
  },
  {
   "cell_type": "code",
   "execution_count": 1,
   "id": "0b8efed6",
   "metadata": {},
   "outputs": [
    {
     "data": {
      "image/png": "[encoded data removed]",
      "text/plain": [
       "<IPython.core.display.Image object>"
      ]
     },
     "execution_count": 1,
     "metadata": {},
     "output_type": "execute_result"
    }
   ],
   "source": [
    "from IPython import display\n",
    "display.Image (\"./function.png\")"
   ]
  },
  {
   "cell_type": "markdown",
   "id": "bcc8ee36",
   "metadata": {},
   "source": [
    "`Keyword def that marks the start of the function header.`\n",
    "\n",
    "1. A function name to uniquely identify the function\n",
    "2. Parameter (arguments) through which we pass values to a function.\n",
    "3. A colon (:) to mark the end of the function header.\n",
    "4. Optional documentation string ( docstring ) to descrie what the function does.\n",
    "5. An Optional return statement to return a value from the function."
   ]
  },
  {
   "cell_type": "markdown",
   "id": "bcedb3a8",
   "metadata": {},
   "source": [
    "`def function_name(parameter):\n",
    "    \"\"\"documents\"\"\"\n",
    "    statements(s)\n",
    "    return(value)`"
   ]
  },
  {
   "cell_type": "markdown",
   "id": "3f9d5da8",
   "metadata": {},
   "source": [
    "`Create a Function`\n",
    "\n",
    "To define a Python function, use def keyword. Here’s the simplest possible function that prints ‘Hello, World!’ on the screen."
   ]
  },
  {
   "cell_type": "code",
   "execution_count": 2,
   "id": "78674356",
   "metadata": {},
   "outputs": [],
   "source": [
    "def hello():\n",
    "    print('Hello, World!')"
   ]
  },
  {
   "cell_type": "markdown",
   "id": "c71f6ca3",
   "metadata": {},
   "source": [
    "`Call a Function`\n",
    "\n",
    "The def statement only creates a function but does not call it. After the def has run, you can can call (run) the function by adding parentheses after the function’s name."
   ]
  },
  {
   "cell_type": "code",
   "execution_count": 3,
   "id": "f4c072b9",
   "metadata": {},
   "outputs": [
    {
     "name": "stdout",
     "output_type": "stream",
     "text": [
      "Hello, World!\n"
     ]
    }
   ],
   "source": [
    "def hello():\n",
    "    print('Hello, World!')\n",
    "  \n",
    "hello()\n",
    "# Prints Hello, World!"
   ]
  },
  {
   "cell_type": "markdown",
   "id": "f8f97952",
   "metadata": {},
   "source": [
    "`Pass Arguments`\n",
    "\n",
    "You can send information to a function by passing values, known as arguments. Arguments are declared after the function name in parentheses."
   ]
  },
  {
   "cell_type": "markdown",
   "id": "df2ffbe7",
   "metadata": {},
   "source": [
    "`Types of Arguments`\n",
    "\n",
    "Python handles function arguments in a very flexible manner, compared to other languages. It supports multiple types of arguments in the function definition. Here’s the list:\n",
    "\n",
    "1. Positional Arguments\n",
    "2. Keyword Arguments\n",
    "3. Default Arguments\n",
    "4. Variable Length Positional Arguments (*args)\n",
    "5. Variable Length Keyword Arguments (**kwargs)"
   ]
  },
  {
   "cell_type": "code",
   "execution_count": 4,
   "id": "f13e7f76",
   "metadata": {},
   "outputs": [
    {
     "name": "stdout",
     "output_type": "stream",
     "text": [
      "Hello, Bob\n",
      "Hello, Sam\n"
     ]
    }
   ],
   "source": [
    "# Pass single argument to a function\n",
    "def hello(name):\n",
    "    print('Hello,', name)\n",
    "\n",
    "hello('Bob')\n",
    "# Prints Hello, Bob\n",
    "hello('Sam')\n",
    "# Prints Hello, Sam"
   ]
  },
  {
   "cell_type": "markdown",
   "id": "1d7557e5",
   "metadata": {},
   "source": [
    "`Built-in-function`\n",
    "--"
   ]
  },
  {
   "cell_type": "code",
   "execution_count": 5,
   "id": "fa7eb2a8",
   "metadata": {},
   "outputs": [
    {
     "name": "stdout",
     "output_type": "stream",
     "text": [
      "[2, 4, 8, 12]\n"
     ]
    }
   ],
   "source": [
    "numbers =[4,2,12,8]\n",
    "sorted_number =sorted(numbers)\n",
    "print(sorted_number)"
   ]
  },
  {
   "cell_type": "code",
   "execution_count": 6,
   "id": "0354a152",
   "metadata": {},
   "outputs": [
    {
     "name": "stdout",
     "output_type": "stream",
     "text": [
      "313\n"
     ]
    }
   ],
   "source": [
    "marks =[65,45,68,61,74]\n",
    "total_marks =sum(marks)\n",
    "print(total_marks)"
   ]
  },
  {
   "cell_type": "markdown",
   "id": "9382cb40",
   "metadata": {},
   "source": [
    "**`Type Conversion Functions`**"
   ]
  },
  {
   "cell_type": "code",
   "execution_count": 7,
   "id": "1c46e0a3",
   "metadata": {},
   "outputs": [
    {
     "data": {
      "text/plain": [
       "32"
      ]
     },
     "execution_count": 7,
     "metadata": {},
     "output_type": "execute_result"
    }
   ],
   "source": [
    "int('32')"
   ]
  },
  {
   "cell_type": "code",
   "execution_count": 8,
   "id": "2266a9cd",
   "metadata": {},
   "outputs": [
    {
     "data": {
      "text/plain": [
       "3"
      ]
     },
     "execution_count": 8,
     "metadata": {},
     "output_type": "execute_result"
    }
   ],
   "source": [
    "int(3.88888)"
   ]
  },
  {
   "cell_type": "code",
   "execution_count": 9,
   "id": "ff2481de",
   "metadata": {},
   "outputs": [
    {
     "data": {
      "text/plain": [
       "32.0"
      ]
     },
     "execution_count": 9,
     "metadata": {},
     "output_type": "execute_result"
    }
   ],
   "source": [
    "float(32)"
   ]
  },
  {
   "cell_type": "code",
   "execution_count": 10,
   "id": "d03d5ddf",
   "metadata": {},
   "outputs": [
    {
     "data": {
      "text/plain": [
       "'32'"
      ]
     },
     "execution_count": 10,
     "metadata": {},
     "output_type": "execute_result"
    }
   ],
   "source": [
    "str(32)"
   ]
  },
  {
   "cell_type": "markdown",
   "id": "915c2e16",
   "metadata": {},
   "source": [
    "`User-defined-function`\n",
    "--"
   ]
  },
  {
   "cell_type": "code",
   "execution_count": 11,
   "id": "26e45a50",
   "metadata": {},
   "outputs": [],
   "source": [
    "def greet(name):\n",
    "    print(\"Hello,\" +name+\" Good Morning!\")"
   ]
  },
  {
   "cell_type": "markdown",
   "id": "ac7180ee",
   "metadata": {},
   "source": [
    "`How to call a function in python?`\n",
    "* Once we have defined function, we can call from another function,program or even the pyton prompt. to call a function with apropriate parameter."
   ]
  },
  {
   "cell_type": "code",
   "execution_count": 12,
   "id": "512809a1",
   "metadata": {},
   "outputs": [
    {
     "name": "stdout",
     "output_type": "stream",
     "text": [
      "Hello,Bhushan Good Morning!\n"
     ]
    }
   ],
   "source": [
    "greet(\"Bhushan\")"
   ]
  },
  {
   "cell_type": "code",
   "execution_count": 13,
   "id": "f34f4f79",
   "metadata": {},
   "outputs": [
    {
     "name": "stdout",
     "output_type": "stream",
     "text": [
      "Hello Learners.\n",
      "I am your coach.\n",
      "HEY\n"
     ]
    }
   ],
   "source": [
    "def greet():\n",
    "    print(\"Hello Learners.\")\n",
    "    print(\"I am your coach.\")\n",
    "greet()\n",
    "print(\"HEY\")"
   ]
  },
  {
   "cell_type": "code",
   "execution_count": 14,
   "id": "4336186b",
   "metadata": {},
   "outputs": [
    {
     "name": "stdout",
     "output_type": "stream",
     "text": [
      "Hello Learners.\n",
      "I am your coach.\n",
      "Hello Learners.\n",
      "I am your coach.\n",
      "Hello Learners.\n",
      "I am your coach.\n",
      "Hello Learners.\n",
      "I am your coach.\n",
      "Hello Learners.\n",
      "I am your coach.\n"
     ]
    }
   ],
   "source": [
    "for i in range(5):\n",
    "    greet()"
   ]
  },
  {
   "cell_type": "code",
   "execution_count": 15,
   "id": "777782d4",
   "metadata": {},
   "outputs": [
    {
     "name": "stdout",
     "output_type": "stream",
     "text": [
      "Hi, I am abc function\n",
      "Hi, I am abc function\n",
      "Hi, I am xyz function\n"
     ]
    }
   ],
   "source": [
    "def abc():\n",
    "    print(\"Hi, I am abc function\")\n",
    "    \n",
    "def xyz():\n",
    "    abc()\n",
    "    print(\"Hi, I am xyz function\")\n",
    "\n",
    "abc()\n",
    "xyz()"
   ]
  },
  {
   "cell_type": "markdown",
   "id": "299eccdb",
   "metadata": {},
   "source": [
    "`The return statement`\n",
    "* The return statements is used to exit a fucntion and go bak to the place from wher it was called."
   ]
  },
  {
   "cell_type": "code",
   "execution_count": 16,
   "id": "a5f76282",
   "metadata": {},
   "outputs": [
    {
     "name": "stdout",
     "output_type": "stream",
     "text": [
      "2\n",
      "4\n"
     ]
    }
   ],
   "source": [
    "def absolute_value(num):\n",
    "    \"This function return the absoulte value of the entered number\"\n",
    "    if num >=0:\n",
    "        return num\n",
    "    else:\n",
    "        return -num\n",
    "print(absolute_value(2))\n",
    "print(absolute_value(-4))"
   ]
  },
  {
   "cell_type": "markdown",
   "id": "f104a40e",
   "metadata": {},
   "source": [
    "`Scope of variable`\n",
    "* scope of a variable is the portion of program where the variable is recongnized.\n",
    "* Parameter and varibale defined inside a function -- are not visiable from outside the function.Hence they have local scope."
   ]
  },
  {
   "cell_type": "markdown",
   "id": "343db3d4",
   "metadata": {},
   "source": [
    "`Python has three different variable scopes:`\n",
    "    \n",
    "1. Local scope\n",
    "2. Global scope\n",
    "3. Enclosing scope"
   ]
  },
  {
   "cell_type": "code",
   "execution_count": 17,
   "id": "ae388d9d",
   "metadata": {},
   "outputs": [
    {
     "name": "stdout",
     "output_type": "stream",
     "text": [
      "Value inside function 10\n",
      "Value outside function 20\n"
     ]
    }
   ],
   "source": [
    "def my_func():\n",
    "    x = 10 # local scope\n",
    "    print(\"Value inside function\",x)\n",
    "x=20 # global scope\n",
    "my_func()\n",
    "print(\"Value outside function\",x)"
   ]
  },
  {
   "cell_type": "code",
   "execution_count": 18,
   "id": "fefa1b73",
   "metadata": {},
   "outputs": [
    {
     "name": "stdout",
     "output_type": "stream",
     "text": [
      "BoardInfinity\n"
     ]
    }
   ],
   "source": [
    "def loc_var_ex(partA,partB):\n",
    "    new_var = partA+partB\n",
    "    print(new_var)\n",
    "a =\"Board\"\n",
    "b=\"Infinity\"\n",
    "loc_var_ex(a,b)"
   ]
  },
  {
   "cell_type": "code",
   "execution_count": 19,
   "id": "b7f71032",
   "metadata": {},
   "outputs": [
    {
     "name": "stdout",
     "output_type": "stream",
     "text": [
      "Hello Monica,Good morning\n"
     ]
    }
   ],
   "source": [
    "def greet (name,msg):\n",
    "    \"\"\"This function greet to person with the provided message\"\"\"\n",
    "    print(\"Hello\",name+ ',' +msg)\n",
    "greet(\"Monica\", \"Good morning\")"
   ]
  },
  {
   "cell_type": "markdown",
   "id": "6fb266cc",
   "metadata": {},
   "source": [
    "* Hence the function greet() has two parameter."
   ]
  },
  {
   "cell_type": "code",
   "execution_count": 20,
   "id": "c6261a1f",
   "metadata": {},
   "outputs": [
    {
     "name": "stdout",
     "output_type": "stream",
     "text": [
      "Hello kate,Good Morning\n",
      "Hello Monica,How do you do?\n"
     ]
    }
   ],
   "source": [
    "def greet (name,msg=\"Good Morning\"):\n",
    "    \"\"\"This function greet to person with the provided message\"\"\"\n",
    "    print(\"Hello\",name+ ',' +msg)\n",
    "greet(\"kate\")\n",
    "greet(\"Monica\", \"How do you do?\")"
   ]
  },
  {
   "cell_type": "markdown",
   "id": "d23b2bfc",
   "metadata": {},
   "source": [
    "`Passing list as arguments`"
   ]
  },
  {
   "cell_type": "code",
   "execution_count": 21,
   "id": "4d617158",
   "metadata": {},
   "outputs": [
    {
     "name": "stdout",
     "output_type": "stream",
     "text": [
      "apple\n",
      "banana\n",
      "cherry\n"
     ]
    }
   ],
   "source": [
    "def my_func(food):\n",
    "    for x in food:\n",
    "        print(x)\n",
    "\n",
    "friuts =[\"apple\",\"banana\",\"cherry\"]\n",
    "my_func(friuts)"
   ]
  },
  {
   "cell_type": "code",
   "execution_count": 22,
   "id": "703868ee",
   "metadata": {},
   "outputs": [
    {
     "name": "stdout",
     "output_type": "stream",
     "text": [
      "Hello Monica\n",
      "Hello Luke\n",
      "Hello steve\n"
     ]
    }
   ],
   "source": [
    "def greet(*name):\n",
    "    for x in name:\n",
    "        print(\"Hello\", x)\n",
    "        \n",
    "greet(\"Monica\",\"Luke\",\"steve\")"
   ]
  },
  {
   "cell_type": "markdown",
   "id": "c50f6ad2",
   "metadata": {},
   "source": [
    "`Recursion`\n",
    "* A function calling itself is called as a recursive function"
   ]
  },
  {
   "cell_type": "code",
   "execution_count": 23,
   "id": "2e672f40",
   "metadata": {},
   "outputs": [
    {
     "name": "stdout",
     "output_type": "stream",
     "text": [
      "5\n",
      "4\n",
      "3\n",
      "2\n",
      "1\n",
      "Blast Off!!!!!\n"
     ]
    }
   ],
   "source": [
    "def countdown(n):\n",
    "    if n<=0:\n",
    "        print(\"Blast Off!!!!!\")\n",
    "    else:\n",
    "        print(n)\n",
    "        countdown(n-1)\n",
    "\n",
    "countdown(5)"
   ]
  },
  {
   "cell_type": "markdown",
   "id": "fa383c91",
   "metadata": {},
   "source": [
    "***********************************************************************************************************************************"
   ]
  },
  {
   "cell_type": "markdown",
   "id": "bdaaf8d7",
   "metadata": {},
   "source": [
    "`Lambda function`\n",
    "--"
   ]
  },
  {
   "cell_type": "markdown",
   "id": "706228ad",
   "metadata": {},
   "source": [
    "* In Python, an anonymous fuction is a function that is defined without a name.\n",
    "\n",
    "* While normal functions are defined using the def keywords in python, anonymous functions are defined using lambda keywords.\n",
    "  Hence,anonymous fucntion are also called lambda function.\n",
    "\n",
    "* lambda is simply a way to define a function in Python. They are sometimes known as lambda operators or lambda functions.\n",
    "\n",
    "* By now you probably have defined your functions using the def keyword, and it has worked well for you so far. So why is there another way to do the same thing?\n",
    "\n",
    "* The difference is that lambda functions are anonymous. Meaning, they are functions that do not need to be named. They are used to create small one-line functions in cases where a normal function would be an overkill."
   ]
  },
  {
   "cell_type": "code",
   "execution_count": 24,
   "id": "1fb1aa1b",
   "metadata": {},
   "outputs": [
    {
     "data": {
      "image/png": "[encoded data removed]",
      "text/plain": [
       "<IPython.core.display.Image object>"
      ]
     },
     "execution_count": 24,
     "metadata": {},
     "output_type": "execute_result"
    }
   ],
   "source": [
    "from IPython import display\n",
    "display.Image (\"./lambda.png\")"
   ]
  },
  {
   "cell_type": "markdown",
   "id": "d6967cc9",
   "metadata": {},
   "source": [
    "`Normal function`"
   ]
  },
  {
   "cell_type": "code",
   "execution_count": 25,
   "id": "7b7a4d2f",
   "metadata": {},
   "outputs": [
    {
     "data": {
      "text/plain": [
       "15"
      ]
     },
     "execution_count": 25,
     "metadata": {},
     "output_type": "execute_result"
    }
   ],
   "source": [
    "def double(x):\n",
    "    return x*3\n",
    "double(5)"
   ]
  },
  {
   "cell_type": "markdown",
   "id": "dd1e458d",
   "metadata": {},
   "source": [
    "Syntax of lambda function in python.\n",
    "\n",
    "`Lambda argument: expression`"
   ]
  },
  {
   "cell_type": "code",
   "execution_count": 26,
   "id": "790cf010",
   "metadata": {},
   "outputs": [
    {
     "name": "stdout",
     "output_type": "stream",
     "text": [
      "15\n"
     ]
    }
   ],
   "source": [
    "double = lambda x:x*3\n",
    "print(double(5))"
   ]
  },
  {
   "cell_type": "code",
   "execution_count": 27,
   "id": "889b3296",
   "metadata": {},
   "outputs": [
    {
     "name": "stdout",
     "output_type": "stream",
     "text": [
      "even\n",
      "odd\n"
     ]
    }
   ],
   "source": [
    "evenOdd = (lambda x:\n",
    "           'odd' if x%2 else 'even')\n",
    "\n",
    "print(evenOdd(2))\n",
    "# Prints even\n",
    "\n",
    "print(evenOdd(3))\n",
    "# Prints odd"
   ]
  },
  {
   "cell_type": "code",
   "execution_count": 28,
   "id": "7c912326",
   "metadata": {},
   "outputs": [
    {
     "name": "stdout",
     "output_type": "stream",
     "text": [
      "6\n"
     ]
    }
   ],
   "source": [
    "print((lambda x: x*2)(3))\n",
    "# Prints 6"
   ]
  },
  {
   "cell_type": "code",
   "execution_count": 29,
   "id": "7ab99ca2",
   "metadata": {},
   "outputs": [
    {
     "name": "stdout",
     "output_type": "stream",
     "text": [
      "10\n"
     ]
    }
   ],
   "source": [
    "# A lambda function that multiplies two values\n",
    "mul = lambda x, y: x*y\n",
    "print(mul(2, 5))\n",
    "# Prints 10"
   ]
  },
  {
   "cell_type": "code",
   "execution_count": 30,
   "id": "e672fb44",
   "metadata": {},
   "outputs": [
    {
     "name": "stdout",
     "output_type": "stream",
     "text": [
      "15\n"
     ]
    }
   ],
   "source": [
    "x = lambda a:a+10\n",
    "print(x(5))"
   ]
  },
  {
   "cell_type": "code",
   "execution_count": 31,
   "id": "3a7979f1",
   "metadata": {},
   "outputs": [
    {
     "name": "stdout",
     "output_type": "stream",
     "text": [
      "17\n"
     ]
    }
   ],
   "source": [
    "# A lambda function that adds three values\n",
    "add = lambda x, y, z: x+y+z\n",
    "print(add(2, 5, 10))\n",
    "# Prints 17"
   ]
  },
  {
   "cell_type": "code",
   "execution_count": 32,
   "id": "ce615bfc",
   "metadata": {},
   "outputs": [
    {
     "name": "stdout",
     "output_type": "stream",
     "text": [
      "9\n",
      "9\n",
      "9\n",
      "9\n",
      "9\n"
     ]
    }
   ],
   "source": [
    "# Positional arguments\n",
    "add = lambda x, y, z: x+y+z\n",
    "print(add(2, 3, 4))\n",
    "# Prints 9\n",
    "\n",
    "# Keyword arguments\n",
    "add = lambda x, y, z: x+y+z\n",
    "print(add(2, z=3, y=4))\n",
    "# Prints 9\n",
    "\n",
    "# Default arguments\n",
    "add = lambda x, y=3, z=4: x+y+z\n",
    "print(add(2))\n",
    "# Prints 9\n",
    "\n",
    "# *args\n",
    "add = lambda *args: sum(args)\n",
    "print(add(2, 3, 4))\n",
    "# Prints 9\n",
    "\n",
    "# **args\n",
    "add = lambda **kwargs: sum(kwargs.values())\n",
    "print(add(x=2, y=3, z=4))\n",
    "# Prints 9"
   ]
  },
  {
   "cell_type": "markdown",
   "id": "02dc2451",
   "metadata": {},
   "source": [
    "`scalar`"
   ]
  },
  {
   "cell_type": "code",
   "execution_count": 33,
   "id": "7775a7d9",
   "metadata": {},
   "outputs": [
    {
     "data": {
      "text/plain": [
       "24"
      ]
     },
     "execution_count": 33,
     "metadata": {},
     "output_type": "execute_result"
    }
   ],
   "source": [
    "(lambda x:x*2)(12)"
   ]
  },
  {
   "cell_type": "markdown",
   "id": "e2a14dac",
   "metadata": {},
   "source": [
    "`filter`"
   ]
  },
  {
   "cell_type": "code",
   "execution_count": 34,
   "id": "bf0054b3",
   "metadata": {},
   "outputs": [
    {
     "data": {
      "text/plain": [
       "[2, 4, 6, 8]"
      ]
     },
     "execution_count": 34,
     "metadata": {},
     "output_type": "execute_result"
    }
   ],
   "source": [
    "list_1 = [1,2,3,4,5,6,7,8,9]\n",
    "list(filter(lambda x :x%2==0, list_1))"
   ]
  },
  {
   "cell_type": "code",
   "execution_count": 35,
   "id": "24af3cf5",
   "metadata": {},
   "outputs": [
    {
     "name": "stdout",
     "output_type": "stream",
     "text": [
      "[19, 24, 42]\n"
     ]
    }
   ],
   "source": [
    "# Filter the values above 18\n",
    "def checkAge(age):\n",
    "    if age > 18:\n",
    "        return True\n",
    "    else:\n",
    "        return False\n",
    "\n",
    "age = [5, 11, 16, 19, 24, 42]\n",
    "adults = filter(checkAge, age)\n",
    "print(list(adults))\n",
    "# Prints [19, 24, 42]"
   ]
  },
  {
   "cell_type": "code",
   "execution_count": 36,
   "id": "0546ba26",
   "metadata": {},
   "outputs": [
    {
     "name": "stdout",
     "output_type": "stream",
     "text": [
      "[19, 24, 42]\n"
     ]
    }
   ],
   "source": [
    "# Filter the values above 18\n",
    "age = [5, 11, 16, 19, 24, 42]\n",
    "adults = filter(lambda x: x > 18, age)\n",
    "print(list(adults))\n",
    "# Prints [19, 24, 42]"
   ]
  },
  {
   "cell_type": "markdown",
   "id": "684d01f4",
   "metadata": {},
   "source": [
    "`map`"
   ]
  },
  {
   "cell_type": "code",
   "execution_count": 37,
   "id": "c8c8682a",
   "metadata": {},
   "outputs": [
    {
     "data": {
      "text/plain": [
       "[1, 8, 27, 64, 125, 216, 343, 512, 729]"
      ]
     },
     "execution_count": 37,
     "metadata": {},
     "output_type": "execute_result"
    }
   ],
   "source": [
    "list_1 = [1,2,3,4,5,6,7,8,9]\n",
    "cube = map(lambda x :pow(x,3), list_1)\n",
    "list(cube)"
   ]
  },
  {
   "cell_type": "code",
   "execution_count": 38,
   "id": "65dd045d",
   "metadata": {},
   "outputs": [
    {
     "name": "stdout",
     "output_type": "stream",
     "text": [
      "[2, 4, 6, 8, 10, 12]\n"
     ]
    }
   ],
   "source": [
    "# Double each item of the list\n",
    "def doubler(x):\n",
    "    return x*2\n",
    "\n",
    "L = [1, 2, 3, 4, 5, 6]\n",
    "mod_list = map(doubler, L)\n",
    "print(list(mod_list))\n",
    "# Prints [2, 4, 6, 8, 10, 12]"
   ]
  },
  {
   "cell_type": "code",
   "execution_count": 39,
   "id": "c344b201",
   "metadata": {},
   "outputs": [
    {
     "name": "stdout",
     "output_type": "stream",
     "text": [
      "[2, 4, 6, 8, 10, 12]\n"
     ]
    }
   ],
   "source": [
    "# Double each item of the list\n",
    "L = [1, 2, 3, 4, 5, 6]\n",
    "doubler = map(lambda x: x*2, L)\n",
    "print(list(doubler))\n",
    "# Prints [2, 4, 6, 8, 10, 12]"
   ]
  },
  {
   "cell_type": "markdown",
   "id": "7ecc59bb",
   "metadata": {},
   "source": [
    "`reduce`"
   ]
  },
  {
   "cell_type": "code",
   "execution_count": 40,
   "id": "3ea5f2fb",
   "metadata": {},
   "outputs": [
    {
     "name": "stdout",
     "output_type": "stream",
     "text": [
      "100\n"
     ]
    }
   ],
   "source": [
    "# sum all items in a list\n",
    "from functools import reduce\n",
    "\n",
    "def summer(a, b):\n",
    "    return a + b\n",
    "\n",
    "L = [10, 20, 30, 40]\n",
    "result = reduce(summer, L)\n",
    "print(result)\n",
    "# Prints 100"
   ]
  },
  {
   "cell_type": "code",
   "execution_count": 41,
   "id": "98845c9d",
   "metadata": {},
   "outputs": [
    {
     "name": "stdout",
     "output_type": "stream",
     "text": [
      "100\n"
     ]
    }
   ],
   "source": [
    "from functools import reduce\n",
    "\n",
    "L = [10, 20, 30, 40]\n",
    "result = reduce(lambda a, b: a + b, L)\n",
    "print(result)\n",
    "# Prints 100"
   ]
  },
  {
   "cell_type": "markdown",
   "id": "26de49af",
   "metadata": {},
   "source": [
    "`if else in a Lambda`"
   ]
  },
  {
   "cell_type": "code",
   "execution_count": 42,
   "id": "dc2ebb93",
   "metadata": {},
   "outputs": [
    {
     "name": "stdout",
     "output_type": "stream",
     "text": [
      "2\n",
      "a\n"
     ]
    }
   ],
   "source": [
    "# A lambda function that returns the smallest item\n",
    "findMin = lambda x, y: x if x < y else y\n",
    "\n",
    "print(findMin(2, 4))\n",
    "# Prints 2\n",
    "\n",
    "print(findMin('a', 'x'))\n",
    "# Prints a"
   ]
  },
  {
   "cell_type": "markdown",
   "id": "d9d0010f",
   "metadata": {},
   "source": [
    "`List Comprehension in a Lambda`"
   ]
  },
  {
   "cell_type": "code",
   "execution_count": 43,
   "id": "a0df4ae8",
   "metadata": {},
   "outputs": [
    {
     "name": "stdout",
     "output_type": "stream",
     "text": [
      "[1, 2, 3, 4, 5, 6, 7, 8, 9]\n",
      "['a', 'b', 'c', 'd', 'e']\n"
     ]
    }
   ],
   "source": [
    "# Flatten a nested list with lambda\n",
    "flatten = lambda l: [item for sublist in l for item in sublist]\n",
    "\n",
    "L = [[1, 2, 3], [4, 5, 6], [7], [8, 9]]\n",
    "print(flatten(L))\n",
    "# Prints [1, 2, 3, 4, 5, 6, 7, 8, 9]\n",
    "\n",
    "L = [['a', 'b', 'c'], ['d', 'e']]\n",
    "print(flatten(L))\n",
    "# Prints ['a', 'b', 'c', 'd', 'e']"
   ]
  },
  {
   "cell_type": "markdown",
   "id": "96752590",
   "metadata": {},
   "source": [
    "`Problems`\n",
    "--"
   ]
  },
  {
   "cell_type": "markdown",
   "id": "a7ff639d",
   "metadata": {},
   "source": [
    "**`1. Python program to print the numbers from a given number n till 0 using recursion`**"
   ]
  },
  {
   "cell_type": "code",
   "execution_count": 44,
   "id": "62c74d59",
   "metadata": {},
   "outputs": [
    {
     "name": "stdout",
     "output_type": "stream",
     "text": [
      "8\n",
      "7\n",
      "6\n",
      "5\n",
      "4\n",
      "3\n",
      "2\n",
      "1\n"
     ]
    }
   ],
   "source": [
    "def print_till_zero(n):\n",
    "    if (n==0):\n",
    "        return\n",
    "    print(n)\n",
    "    n=n-1\n",
    "    print_till_zero(n)\n",
    "print_till_zero(8)"
   ]
  },
  {
   "cell_type": "markdown",
   "id": "68fc5941",
   "metadata": {},
   "source": [
    "**`2. Python program to find the factorial of a number using recursion`**"
   ]
  },
  {
   "cell_type": "code",
   "execution_count": 45,
   "id": "061a029d",
   "metadata": {},
   "outputs": [
    {
     "name": "stdout",
     "output_type": "stream",
     "text": [
      "Enter an integer: \n"
     ]
    },
    {
     "ename": "ValueError",
     "evalue": "invalid literal for int() with base 10: ''",
     "output_type": "error",
     "traceback": [
      "\u001b[1;31m---------------------------------------------------------------------------\u001b[0m",
      "\u001b[1;31mValueError\u001b[0m                                Traceback (most recent call last)",
      "\u001b[1;32m<ipython-input-45-c00dbed9675b>\u001b[0m in \u001b[0;36m<module>\u001b[1;34m\u001b[0m\n\u001b[0;32m      5\u001b[0m         \u001b[0mf\u001b[0m \u001b[1;33m=\u001b[0m \u001b[0mn\u001b[0m \u001b[1;33m*\u001b[0m \u001b[0mfact\u001b[0m\u001b[1;33m(\u001b[0m\u001b[0mn\u001b[0m\u001b[1;33m-\u001b[0m\u001b[1;36m1\u001b[0m\u001b[1;33m)\u001b[0m\u001b[1;33m\u001b[0m\u001b[1;33m\u001b[0m\u001b[0m\n\u001b[0;32m      6\u001b[0m     \u001b[1;32mreturn\u001b[0m \u001b[0mf\u001b[0m\u001b[1;33m\u001b[0m\u001b[1;33m\u001b[0m\u001b[0m\n\u001b[1;32m----> 7\u001b[1;33m \u001b[0mnum\u001b[0m \u001b[1;33m=\u001b[0m \u001b[0mint\u001b[0m\u001b[1;33m(\u001b[0m\u001b[0minput\u001b[0m\u001b[1;33m(\u001b[0m\u001b[1;34m\"Enter an integer: \"\u001b[0m\u001b[1;33m)\u001b[0m\u001b[1;33m)\u001b[0m\u001b[1;33m\u001b[0m\u001b[1;33m\u001b[0m\u001b[0m\n\u001b[0m\u001b[0;32m      8\u001b[0m \u001b[0mresult\u001b[0m \u001b[1;33m=\u001b[0m \u001b[0mfact\u001b[0m\u001b[1;33m(\u001b[0m\u001b[0mnum\u001b[0m\u001b[1;33m)\u001b[0m\u001b[1;33m\u001b[0m\u001b[1;33m\u001b[0m\u001b[0m\n\u001b[0;32m      9\u001b[0m \u001b[0mprint\u001b[0m\u001b[1;33m(\u001b[0m\u001b[1;34m\"The factorial of\"\u001b[0m\u001b[1;33m,\u001b[0m \u001b[0mnum\u001b[0m\u001b[1;33m,\u001b[0m \u001b[1;34m\" is: \"\u001b[0m\u001b[1;33m,\u001b[0m \u001b[0mresult\u001b[0m\u001b[1;33m)\u001b[0m\u001b[1;33m\u001b[0m\u001b[1;33m\u001b[0m\u001b[0m\n",
      "\u001b[1;31mValueError\u001b[0m: invalid literal for int() with base 10: ''"
     ]
    }
   ],
   "source": [
    "def fact(n):\n",
    "    if n==1:\n",
    "        f=1\n",
    "    else:\n",
    "        f = n * fact(n-1)\n",
    "    return f\n",
    "num = int(input(\"Enter an integer: \"))\n",
    "result = fact(num)\n",
    "print(\"The factorial of\", num, \" is: \", result)"
   ]
  },
  {
   "cell_type": "markdown",
   "id": "ecc1230e",
   "metadata": {},
   "source": [
    "**`3. Python program to implement binary search`**"
   ]
  },
  {
   "cell_type": "code",
   "execution_count": 46,
   "id": "26fecbf6",
   "metadata": {},
   "outputs": [
    {
     "name": "stdout",
     "output_type": "stream",
     "text": [
      "Search successful, element found at position  3\n"
     ]
    }
   ],
   "source": [
    "def binarySearch(numbers, low, high, x):\n",
    "    if (high >= low):\n",
    "        mid = low + (high - low)//2\n",
    "        if (numbers[mid] == x):\n",
    "            return mid\n",
    "        elif (numbers[mid] > x):\n",
    "            return binarySearch(numbers, low, mid-1, x)\n",
    "        else:\n",
    "            return binarySearch(numbers, mid+1, high, x)\n",
    "    else:\n",
    "        return -1\n",
    "numbers = [ 1,4,6,7,12,17,25 ]   #binary search requires sorted numbers\n",
    "x = 7\n",
    "result = binarySearch(numbers, 0, len(numbers)-1, x)\n",
    "if (result != -1):\n",
    "    print(\"Search successful, element found at position \", result)\n",
    "else:\n",
    "    print(\"The given element is not present in the array\")"
   ]
  },
  {
   "cell_type": "markdown",
   "id": "8e2129fb",
   "metadata": {},
   "source": [
    "**`4. Python program to check whether a string is palindrome or not`**"
   ]
  },
  {
   "cell_type": "code",
   "execution_count": 47,
   "id": "69a14506",
   "metadata": {},
   "outputs": [
    {
     "name": "stdout",
     "output_type": "stream",
     "text": [
      "Enter a string: \n",
      "The string is palindrome\n"
     ]
    }
   ],
   "source": [
    "def rev(inputString):\n",
    "    return inputString[::-1]\n",
    "def isPalindrome(inputString):\n",
    "    reverseString = rev(inputString)\n",
    "    if (inputString == reverseString):\n",
    "        return True\n",
    "    return False\n",
    "s = input(\"Enter a string: \")\n",
    "result = isPalindrome(s)\n",
    "if result == 1:\n",
    "    print(\"The string is palindrome\")\n",
    "else:\n",
    "    print(\"The string is not palindrome\")"
   ]
  },
  {
   "cell_type": "markdown",
   "id": "6ea4d8b6",
   "metadata": {},
   "source": [
    "**`5. Python program to find the Nth term in a Fibonacci series using recursion`**"
   ]
  },
  {
   "cell_type": "code",
   "execution_count": 48,
   "id": "f1a7236d",
   "metadata": {},
   "outputs": [
    {
     "name": "stdout",
     "output_type": "stream",
     "text": [
      "8\n"
     ]
    }
   ],
   "source": [
    "def Fib(n):\n",
    "    if n<0:\n",
    "        print(\"The input is incorrect.\")\n",
    "    elif n==1:\n",
    "        return 0\n",
    "    elif n==2:\n",
    "        return 1\n",
    "    else:\n",
    "        return Fib(n-1)+Fib(n-2)\n",
    "print(Fib(7))"
   ]
  },
  {
   "cell_type": "markdown",
   "id": "36493207",
   "metadata": {},
   "source": [
    "**`6. Python program to implement a calculator to do basic operations`**"
   ]
  },
  {
   "cell_type": "code",
   "execution_count": 49,
   "id": "5b2e8836",
   "metadata": {},
   "outputs": [
    {
     "name": "stdout",
     "output_type": "stream",
     "text": [
      "Enter two numbers\n",
      "\n",
      "\n",
      "Enter the operation +,-,,/ \n",
      "\n"
     ]
    },
    {
     "ename": "ValueError",
     "evalue": "invalid literal for int() with base 10: ''",
     "output_type": "error",
     "traceback": [
      "\u001b[1;31m---------------------------------------------------------------------------\u001b[0m",
      "\u001b[1;31mValueError\u001b[0m                                Traceback (most recent call last)",
      "\u001b[1;32m<ipython-input-49-91fc3a01b6d5>\u001b[0m in \u001b[0;36m<module>\u001b[1;34m\u001b[0m\n\u001b[0;32m     17\u001b[0m     \u001b[0msubtract\u001b[0m\u001b[1;33m(\u001b[0m\u001b[0mint\u001b[0m\u001b[1;33m(\u001b[0m\u001b[0mn1\u001b[0m\u001b[1;33m)\u001b[0m\u001b[1;33m,\u001b[0m\u001b[0mint\u001b[0m\u001b[1;33m(\u001b[0m\u001b[0mn2\u001b[0m\u001b[1;33m)\u001b[0m\u001b[1;33m)\u001b[0m\u001b[1;33m\u001b[0m\u001b[1;33m\u001b[0m\u001b[0m\n\u001b[0;32m     18\u001b[0m \u001b[1;32melif\u001b[0m \u001b[0mop\u001b[0m\u001b[1;33m==\u001b[0m\u001b[1;34m''\u001b[0m\u001b[1;33m:\u001b[0m\u001b[1;33m\u001b[0m\u001b[1;33m\u001b[0m\u001b[0m\n\u001b[1;32m---> 19\u001b[1;33m     \u001b[0mmultiply\u001b[0m\u001b[1;33m(\u001b[0m\u001b[0mint\u001b[0m\u001b[1;33m(\u001b[0m\u001b[0mn1\u001b[0m\u001b[1;33m)\u001b[0m\u001b[1;33m,\u001b[0m\u001b[0mint\u001b[0m\u001b[1;33m(\u001b[0m\u001b[0mn2\u001b[0m\u001b[1;33m)\u001b[0m\u001b[1;33m)\u001b[0m\u001b[1;33m\u001b[0m\u001b[1;33m\u001b[0m\u001b[0m\n\u001b[0m\u001b[0;32m     20\u001b[0m \u001b[1;32melif\u001b[0m \u001b[0mop\u001b[0m\u001b[1;33m==\u001b[0m\u001b[1;34m'/'\u001b[0m\u001b[1;33m:\u001b[0m\u001b[1;33m\u001b[0m\u001b[1;33m\u001b[0m\u001b[0m\n\u001b[0;32m     21\u001b[0m     \u001b[0mdivide\u001b[0m\u001b[1;33m(\u001b[0m\u001b[0mint\u001b[0m\u001b[1;33m(\u001b[0m\u001b[0mn1\u001b[0m\u001b[1;33m)\u001b[0m\u001b[1;33m,\u001b[0m\u001b[0mint\u001b[0m\u001b[1;33m(\u001b[0m\u001b[0mn2\u001b[0m\u001b[1;33m)\u001b[0m\u001b[1;33m)\u001b[0m\u001b[1;33m\u001b[0m\u001b[1;33m\u001b[0m\u001b[0m\n",
      "\u001b[1;31mValueError\u001b[0m: invalid literal for int() with base 10: ''"
     ]
    }
   ],
   "source": [
    "def add(x,y):\n",
    "    print(x+y)\n",
    "def subtract(x,y):\n",
    "    print(x-y)\n",
    "def multiply(x,y):\n",
    "    print(x*y)\n",
    "def divide(x,y):\n",
    "    print(x/y)\n",
    "print(\"Enter two numbers\")\n",
    "n1=input()\n",
    "n2=input()\n",
    "print(\"Enter the operation +,-,,/ \") \n",
    "op=input() \n",
    "if op=='+':\n",
    "    add(int(n1),int(n2))\n",
    "elif op=='-':\n",
    "    subtract(int(n1),int(n2))\n",
    "elif op=='':\n",
    "    multiply(int(n1),int(n2))\n",
    "elif op=='/':\n",
    "    divide(int(n1),int(n2))\n",
    "else:\n",
    "    print(\" Invalid entry \")"
   ]
  },
  {
   "cell_type": "markdown",
   "id": "51622add",
   "metadata": {},
   "source": [
    "**`7. Python program to draw a circle of squares using Turtle`**"
   ]
  },
  {
   "cell_type": "code",
   "execution_count": 50,
   "id": "742438ad",
   "metadata": {},
   "outputs": [
    {
     "ename": "TclError",
     "evalue": "invalid command name \".!canvas\"",
     "output_type": "error",
     "traceback": [
      "\u001b[1;31m---------------------------------------------------------------------------\u001b[0m",
      "\u001b[1;31mTclError\u001b[0m                                  Traceback (most recent call last)",
      "\u001b[1;32m<ipython-input-50-a9e4ce248753>\u001b[0m in \u001b[0;36m<module>\u001b[1;34m\u001b[0m\n\u001b[0;32m     13\u001b[0m \u001b[1;33m\u001b[0m\u001b[0m\n\u001b[0;32m     14\u001b[0m \u001b[1;32mfor\u001b[0m \u001b[0mi\u001b[0m \u001b[1;32min\u001b[0m \u001b[0mrange\u001b[0m\u001b[1;33m(\u001b[0m\u001b[1;36m36\u001b[0m\u001b[1;33m)\u001b[0m\u001b[1;33m:\u001b[0m\u001b[1;33m\u001b[0m\u001b[1;33m\u001b[0m\u001b[0m\n\u001b[1;32m---> 15\u001b[1;33m     \u001b[0msquare\u001b[0m\u001b[1;33m(\u001b[0m\u001b[1;36m90\u001b[0m\u001b[1;33m)\u001b[0m\u001b[1;33m\u001b[0m\u001b[1;33m\u001b[0m\u001b[0m\n\u001b[0m",
      "\u001b[1;32m<ipython-input-50-a9e4ce248753>\u001b[0m in \u001b[0;36msquare\u001b[1;34m(angle)\u001b[0m\n\u001b[0;32m      3\u001b[0m \u001b[1;33m\u001b[0m\u001b[0m\n\u001b[0;32m      4\u001b[0m \u001b[1;32mdef\u001b[0m \u001b[0msquare\u001b[0m\u001b[1;33m(\u001b[0m\u001b[0mangle\u001b[0m\u001b[1;33m)\u001b[0m\u001b[1;33m:\u001b[0m\u001b[1;33m\u001b[0m\u001b[1;33m\u001b[0m\u001b[0m\n\u001b[1;32m----> 5\u001b[1;33m     \u001b[0mx\u001b[0m\u001b[1;33m.\u001b[0m\u001b[0mforward\u001b[0m\u001b[1;33m(\u001b[0m\u001b[1;36m100\u001b[0m\u001b[1;33m)\u001b[0m\u001b[1;33m\u001b[0m\u001b[1;33m\u001b[0m\u001b[0m\n\u001b[0m\u001b[0;32m      6\u001b[0m     \u001b[0mx\u001b[0m\u001b[1;33m.\u001b[0m\u001b[0mright\u001b[0m\u001b[1;33m(\u001b[0m\u001b[0mangle\u001b[0m\u001b[1;33m)\u001b[0m\u001b[1;33m\u001b[0m\u001b[1;33m\u001b[0m\u001b[0m\n\u001b[0;32m      7\u001b[0m     \u001b[0mx\u001b[0m\u001b[1;33m.\u001b[0m\u001b[0mforward\u001b[0m\u001b[1;33m(\u001b[0m\u001b[1;36m100\u001b[0m\u001b[1;33m)\u001b[0m\u001b[1;33m\u001b[0m\u001b[1;33m\u001b[0m\u001b[0m\n",
      "\u001b[1;32m~\\anaconda3\\lib\\turtle.py\u001b[0m in \u001b[0;36mforward\u001b[1;34m(self, distance)\u001b[0m\n\u001b[0;32m   1636\u001b[0m         \u001b[1;33m(\u001b[0m\u001b[1;33m-\u001b[0m\u001b[1;36m50.00\u001b[0m\u001b[1;33m,\u001b[0m\u001b[1;36m0.00\u001b[0m\u001b[1;33m)\u001b[0m\u001b[1;33m\u001b[0m\u001b[1;33m\u001b[0m\u001b[0m\n\u001b[0;32m   1637\u001b[0m         \"\"\"\n\u001b[1;32m-> 1638\u001b[1;33m         \u001b[0mself\u001b[0m\u001b[1;33m.\u001b[0m\u001b[0m_go\u001b[0m\u001b[1;33m(\u001b[0m\u001b[0mdistance\u001b[0m\u001b[1;33m)\u001b[0m\u001b[1;33m\u001b[0m\u001b[1;33m\u001b[0m\u001b[0m\n\u001b[0m\u001b[0;32m   1639\u001b[0m \u001b[1;33m\u001b[0m\u001b[0m\n\u001b[0;32m   1640\u001b[0m     \u001b[1;32mdef\u001b[0m \u001b[0mback\u001b[0m\u001b[1;33m(\u001b[0m\u001b[0mself\u001b[0m\u001b[1;33m,\u001b[0m \u001b[0mdistance\u001b[0m\u001b[1;33m)\u001b[0m\u001b[1;33m:\u001b[0m\u001b[1;33m\u001b[0m\u001b[1;33m\u001b[0m\u001b[0m\n",
      "\u001b[1;32m~\\anaconda3\\lib\\turtle.py\u001b[0m in \u001b[0;36m_go\u001b[1;34m(self, distance)\u001b[0m\n\u001b[0;32m   1604\u001b[0m         \u001b[1;34m\"\"\"move turtle forward by specified distance\"\"\"\u001b[0m\u001b[1;33m\u001b[0m\u001b[1;33m\u001b[0m\u001b[0m\n\u001b[0;32m   1605\u001b[0m         \u001b[0mende\u001b[0m \u001b[1;33m=\u001b[0m \u001b[0mself\u001b[0m\u001b[1;33m.\u001b[0m\u001b[0m_position\u001b[0m \u001b[1;33m+\u001b[0m \u001b[0mself\u001b[0m\u001b[1;33m.\u001b[0m\u001b[0m_orient\u001b[0m \u001b[1;33m*\u001b[0m \u001b[0mdistance\u001b[0m\u001b[1;33m\u001b[0m\u001b[1;33m\u001b[0m\u001b[0m\n\u001b[1;32m-> 1606\u001b[1;33m         \u001b[0mself\u001b[0m\u001b[1;33m.\u001b[0m\u001b[0m_goto\u001b[0m\u001b[1;33m(\u001b[0m\u001b[0mende\u001b[0m\u001b[1;33m)\u001b[0m\u001b[1;33m\u001b[0m\u001b[1;33m\u001b[0m\u001b[0m\n\u001b[0m\u001b[0;32m   1607\u001b[0m \u001b[1;33m\u001b[0m\u001b[0m\n\u001b[0;32m   1608\u001b[0m     \u001b[1;32mdef\u001b[0m \u001b[0m_rotate\u001b[0m\u001b[1;33m(\u001b[0m\u001b[0mself\u001b[0m\u001b[1;33m,\u001b[0m \u001b[0mangle\u001b[0m\u001b[1;33m)\u001b[0m\u001b[1;33m:\u001b[0m\u001b[1;33m\u001b[0m\u001b[1;33m\u001b[0m\u001b[0m\n",
      "\u001b[1;32m~\\anaconda3\\lib\\turtle.py\u001b[0m in \u001b[0;36m_goto\u001b[1;34m(self, end)\u001b[0m\n\u001b[0;32m   3175\u001b[0m                 \u001b[0mself\u001b[0m\u001b[1;33m.\u001b[0m\u001b[0m_position\u001b[0m \u001b[1;33m=\u001b[0m \u001b[0mstart\u001b[0m \u001b[1;33m+\u001b[0m \u001b[0mdelta\u001b[0m \u001b[1;33m*\u001b[0m \u001b[0mn\u001b[0m\u001b[1;33m\u001b[0m\u001b[1;33m\u001b[0m\u001b[0m\n\u001b[0;32m   3176\u001b[0m                 \u001b[1;32mif\u001b[0m \u001b[0mself\u001b[0m\u001b[1;33m.\u001b[0m\u001b[0m_drawing\u001b[0m\u001b[1;33m:\u001b[0m\u001b[1;33m\u001b[0m\u001b[1;33m\u001b[0m\u001b[0m\n\u001b[1;32m-> 3177\u001b[1;33m                     screen._drawline(self.drawingLineItem,\n\u001b[0m\u001b[0;32m   3178\u001b[0m                                      \u001b[1;33m(\u001b[0m\u001b[0mstart\u001b[0m\u001b[1;33m,\u001b[0m \u001b[0mself\u001b[0m\u001b[1;33m.\u001b[0m\u001b[0m_position\u001b[0m\u001b[1;33m)\u001b[0m\u001b[1;33m,\u001b[0m\u001b[1;33m\u001b[0m\u001b[1;33m\u001b[0m\u001b[0m\n\u001b[0;32m   3179\u001b[0m                                      self._pencolor, self._pensize, top)\n",
      "\u001b[1;32m~\\anaconda3\\lib\\turtle.py\u001b[0m in \u001b[0;36m_drawline\u001b[1;34m(self, lineitem, coordlist, fill, width, top)\u001b[0m\n\u001b[0;32m    544\u001b[0m                 \u001b[0mcl\u001b[0m\u001b[1;33m.\u001b[0m\u001b[0mappend\u001b[0m\u001b[1;33m(\u001b[0m\u001b[0mx\u001b[0m \u001b[1;33m*\u001b[0m \u001b[0mself\u001b[0m\u001b[1;33m.\u001b[0m\u001b[0mxscale\u001b[0m\u001b[1;33m)\u001b[0m\u001b[1;33m\u001b[0m\u001b[1;33m\u001b[0m\u001b[0m\n\u001b[0;32m    545\u001b[0m                 \u001b[0mcl\u001b[0m\u001b[1;33m.\u001b[0m\u001b[0mappend\u001b[0m\u001b[1;33m(\u001b[0m\u001b[1;33m-\u001b[0m\u001b[0my\u001b[0m \u001b[1;33m*\u001b[0m \u001b[0mself\u001b[0m\u001b[1;33m.\u001b[0m\u001b[0myscale\u001b[0m\u001b[1;33m)\u001b[0m\u001b[1;33m\u001b[0m\u001b[1;33m\u001b[0m\u001b[0m\n\u001b[1;32m--> 546\u001b[1;33m             \u001b[0mself\u001b[0m\u001b[1;33m.\u001b[0m\u001b[0mcv\u001b[0m\u001b[1;33m.\u001b[0m\u001b[0mcoords\u001b[0m\u001b[1;33m(\u001b[0m\u001b[0mlineitem\u001b[0m\u001b[1;33m,\u001b[0m \u001b[1;33m*\u001b[0m\u001b[0mcl\u001b[0m\u001b[1;33m)\u001b[0m\u001b[1;33m\u001b[0m\u001b[1;33m\u001b[0m\u001b[0m\n\u001b[0m\u001b[0;32m    547\u001b[0m         \u001b[1;32mif\u001b[0m \u001b[0mfill\u001b[0m \u001b[1;32mis\u001b[0m \u001b[1;32mnot\u001b[0m \u001b[1;32mNone\u001b[0m\u001b[1;33m:\u001b[0m\u001b[1;33m\u001b[0m\u001b[1;33m\u001b[0m\u001b[0m\n\u001b[0;32m    548\u001b[0m             \u001b[0mself\u001b[0m\u001b[1;33m.\u001b[0m\u001b[0mcv\u001b[0m\u001b[1;33m.\u001b[0m\u001b[0mitemconfigure\u001b[0m\u001b[1;33m(\u001b[0m\u001b[0mlineitem\u001b[0m\u001b[1;33m,\u001b[0m \u001b[0mfill\u001b[0m\u001b[1;33m=\u001b[0m\u001b[0mfill\u001b[0m\u001b[1;33m)\u001b[0m\u001b[1;33m\u001b[0m\u001b[1;33m\u001b[0m\u001b[0m\n",
      "\u001b[1;32m<string>\u001b[0m in \u001b[0;36mcoords\u001b[1;34m(self, *args, **kw)\u001b[0m\n",
      "\u001b[1;32m~\\anaconda3\\lib\\tkinter\\__init__.py\u001b[0m in \u001b[0;36mcoords\u001b[1;34m(self, *args)\u001b[0m\n\u001b[0;32m   2764\u001b[0m         return [self.tk.getdouble(x) for x in\n\u001b[0;32m   2765\u001b[0m                            self.tk.splitlist(\n\u001b[1;32m-> 2766\u001b[1;33m                    self.tk.call((self._w, 'coords') + args))]\n\u001b[0m\u001b[0;32m   2767\u001b[0m \u001b[1;33m\u001b[0m\u001b[0m\n\u001b[0;32m   2768\u001b[0m     \u001b[1;32mdef\u001b[0m \u001b[0m_create\u001b[0m\u001b[1;33m(\u001b[0m\u001b[0mself\u001b[0m\u001b[1;33m,\u001b[0m \u001b[0mitemType\u001b[0m\u001b[1;33m,\u001b[0m \u001b[0margs\u001b[0m\u001b[1;33m,\u001b[0m \u001b[0mkw\u001b[0m\u001b[1;33m)\u001b[0m\u001b[1;33m:\u001b[0m \u001b[1;31m# Args: (val, val, ..., cnf={})\u001b[0m\u001b[1;33m\u001b[0m\u001b[1;33m\u001b[0m\u001b[0m\n",
      "\u001b[1;31mTclError\u001b[0m: invalid command name \".!canvas\""
     ]
    }
   ],
   "source": [
    "import turtle\n",
    "x=turtle.Turtle()\n",
    "\n",
    "def square(angle):\n",
    "    x.forward(100)\n",
    "    x.right(angle)\n",
    "    x.forward(100)\n",
    "    x.right(angle)\n",
    "    x.forward(100)\n",
    "    x.right(angle)\n",
    "    x.forward(100)\n",
    "    x.right(angle+10)\n",
    "\n",
    "for i in range(36):\n",
    "    square(90)"
   ]
  },
  {
   "cell_type": "markdown",
   "id": "3c956ee8",
   "metadata": {},
   "source": [
    "**`8.Write a function called exponent(base, exp) that returns an int value of base raises to the power of exp.`**"
   ]
  },
  {
   "cell_type": "code",
   "execution_count": 51,
   "id": "c8b811b9",
   "metadata": {},
   "outputs": [
    {
     "name": "stdout",
     "output_type": "stream",
     "text": [
      "5 raises to the power of 4 is:  625\n"
     ]
    }
   ],
   "source": [
    "def exponent(base, exp):\n",
    "    num = exp\n",
    "    result = 1\n",
    "    while num > 0:\n",
    "        result = result * base\n",
    "        num = num - 1\n",
    "    print(base, \"raises to the power of\", exp, \"is: \", result)\n",
    "\n",
    "exponent(5, 4)"
   ]
  },
  {
   "cell_type": "markdown",
   "id": "45b775dc",
   "metadata": {},
   "source": [
    "`Math`\n",
    "--"
   ]
  },
  {
   "cell_type": "code",
   "execution_count": 52,
   "id": "e4b70843",
   "metadata": {},
   "outputs": [
    {
     "name": "stdout",
     "output_type": "stream",
     "text": [
      "Enter the radius of the circle:\n"
     ]
    },
    {
     "ename": "ValueError",
     "evalue": "could not convert string to float: ''",
     "output_type": "error",
     "traceback": [
      "\u001b[1;31m---------------------------------------------------------------------------\u001b[0m",
      "\u001b[1;31mValueError\u001b[0m                                Traceback (most recent call last)",
      "\u001b[1;32m<ipython-input-52-0284f7b7cb84>\u001b[0m in \u001b[0;36m<module>\u001b[1;34m\u001b[0m\n\u001b[0;32m      4\u001b[0m     \u001b[1;32mreturn\u001b[0m \u001b[0ma\u001b[0m\u001b[1;33m\u001b[0m\u001b[1;33m\u001b[0m\u001b[0m\n\u001b[0;32m      5\u001b[0m \u001b[1;33m\u001b[0m\u001b[0m\n\u001b[1;32m----> 6\u001b[1;33m \u001b[0mr\u001b[0m \u001b[1;33m=\u001b[0m \u001b[0mfloat\u001b[0m\u001b[1;33m(\u001b[0m\u001b[0minput\u001b[0m\u001b[1;33m(\u001b[0m\u001b[1;34m\"Enter the radius of the circle:\"\u001b[0m\u001b[1;33m)\u001b[0m\u001b[1;33m)\u001b[0m\u001b[1;33m\u001b[0m\u001b[1;33m\u001b[0m\u001b[0m\n\u001b[0m\u001b[0;32m      7\u001b[0m \u001b[0mar\u001b[0m \u001b[1;33m=\u001b[0m \u001b[0marea\u001b[0m\u001b[1;33m(\u001b[0m\u001b[0mr\u001b[0m\u001b[1;33m)\u001b[0m\u001b[1;33m\u001b[0m\u001b[1;33m\u001b[0m\u001b[0m\n\u001b[0;32m      8\u001b[0m \u001b[0mprint\u001b[0m\u001b[1;33m(\u001b[0m\u001b[0mar\u001b[0m\u001b[1;33m)\u001b[0m\u001b[1;33m\u001b[0m\u001b[1;33m\u001b[0m\u001b[0m\n",
      "\u001b[1;31mValueError\u001b[0m: could not convert string to float: ''"
     ]
    }
   ],
   "source": [
    "import math as m\n",
    "def area(radius):\n",
    "    a=m.pi*radius*radius\n",
    "    return a\n",
    "\n",
    "r = float(input(\"Enter the radius of the circle:\"))\n",
    "ar = area(r)\n",
    "print(ar)"
   ]
  },
  {
   "cell_type": "code",
   "execution_count": 53,
   "id": "15878f7a",
   "metadata": {},
   "outputs": [
    {
     "name": "stdout",
     "output_type": "stream",
     "text": [
      "Enter the radius of the circle:\n"
     ]
    },
    {
     "ename": "ValueError",
     "evalue": "could not convert string to float: ''",
     "output_type": "error",
     "traceback": [
      "\u001b[1;31m---------------------------------------------------------------------------\u001b[0m",
      "\u001b[1;31mValueError\u001b[0m                                Traceback (most recent call last)",
      "\u001b[1;32m<ipython-input-53-190e02ce1f01>\u001b[0m in \u001b[0;36m<module>\u001b[1;34m\u001b[0m\n\u001b[0;32m      3\u001b[0m     \u001b[1;32mreturn\u001b[0m \u001b[1;33m(\u001b[0m\u001b[0mm\u001b[0m\u001b[1;33m.\u001b[0m\u001b[0mpi\u001b[0m\u001b[1;33m*\u001b[0m\u001b[0mradius\u001b[0m\u001b[1;33m*\u001b[0m\u001b[0mradius\u001b[0m\u001b[1;33m)\u001b[0m\u001b[1;33m\u001b[0m\u001b[1;33m\u001b[0m\u001b[0m\n\u001b[0;32m      4\u001b[0m \u001b[1;33m\u001b[0m\u001b[0m\n\u001b[1;32m----> 5\u001b[1;33m \u001b[0mprint\u001b[0m\u001b[1;33m(\u001b[0m\u001b[1;34m\"Area of Circle =\"\u001b[0m\u001b[1;33m,\u001b[0m\u001b[0mround\u001b[0m\u001b[1;33m(\u001b[0m\u001b[0marea\u001b[0m\u001b[1;33m(\u001b[0m\u001b[0mfloat\u001b[0m\u001b[1;33m(\u001b[0m\u001b[0minput\u001b[0m\u001b[1;33m(\u001b[0m\u001b[1;34m\"Enter the radius of the circle:\"\u001b[0m\u001b[1;33m)\u001b[0m\u001b[1;33m)\u001b[0m\u001b[1;33m)\u001b[0m\u001b[1;33m,\u001b[0m\u001b[1;36m2\u001b[0m\u001b[1;33m)\u001b[0m\u001b[1;33m)\u001b[0m\u001b[1;33m\u001b[0m\u001b[1;33m\u001b[0m\u001b[0m\n\u001b[0m",
      "\u001b[1;31mValueError\u001b[0m: could not convert string to float: ''"
     ]
    }
   ],
   "source": [
    "import math as m\n",
    "def area(radius):\n",
    "    return (m.pi*radius*radius)\n",
    "\n",
    "print(\"Area of Circle =\",round(area(float(input(\"Enter the radius of the circle:\"))),2))"
   ]
  },
  {
   "cell_type": "code",
   "execution_count": 54,
   "id": "acc0bfbb",
   "metadata": {},
   "outputs": [
    {
     "name": "stdout",
     "output_type": "stream",
     "text": [
      "2.0\n",
      "11.0\n"
     ]
    }
   ],
   "source": [
    "def avg(n1, n2, n3):\n",
    "    res = n1+n2+n3\n",
    "    print(res/3)\n",
    "\n",
    "avg(1,2,3)\n",
    "avg(10,11,12)"
   ]
  },
  {
   "cell_type": "markdown",
   "id": "1f79ce64",
   "metadata": {},
   "source": [
    "`End of this Module`\n",
    "--"
   ]
  }
 ],
 "metadata": {
  "kernelspec": {
   "display_name": "Python 3",
   "language": "python",
   "name": "python3"
  },
  "language_info": {
   "codemirror_mode": {
    "name": "ipython",
    "version": 3
   },
   "file_extension": ".py",
   "mimetype": "text/x-python",
   "name": "python",
   "nbconvert_exporter": "python",
   "pygments_lexer": "ipython3",
   "version": "3.8.8"
  }
 },
 "nbformat": 4,
 "nbformat_minor": 5
}
